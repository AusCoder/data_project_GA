{
 "cells": [
  {
   "cell_type": "markdown",
   "metadata": {},
   "source": [
    "## Math genealogy\n",
    "\n",
    "This is a website document mathematicians, their advisors and their students:\n",
    "\n",
    "http://www.genealogy.ams.org\n",
    "\n",
    "We start with webscraping the data. This is task is made easier because each mathematician gets their own page with a unique ID, so we can just scrap each page."
   ]
  },
  {
   "cell_type": "code",
   "execution_count": 232,
   "metadata": {
    "collapsed": true
   },
   "outputs": [],
   "source": [
    "import pandas as pd\n",
    "from bs4 import BeautifulSoup\n",
    "import requests\n",
    "import lxml\n",
    "import os\n",
    "import random"
   ]
  },
  {
   "cell_type": "code",
   "execution_count": 289,
   "metadata": {
    "collapsed": true
   },
   "outputs": [],
   "source": [
    "base_url = \"http://www.genealogy.ams.org/id.php?id=\"\n",
    "an_id = \"24594\"\n",
    "#an_id = '51796'\n",
    "an_id = '123359'"
   ]
  },
  {
   "cell_type": "code",
   "execution_count": 290,
   "metadata": {
    "collapsed": true
   },
   "outputs": [],
   "source": [
    "response = requests.get(base_url + an_id)"
   ]
  },
  {
   "cell_type": "code",
   "execution_count": 291,
   "metadata": {
    "collapsed": false
   },
   "outputs": [],
   "source": [
    "if (response.status_code == 200):\n",
    "    soup = BeautifulSoup(response.text, 'lxml')"
   ]
  },
  {
   "cell_type": "code",
   "execution_count": 201,
   "metadata": {
    "collapsed": false
   },
   "outputs": [],
   "source": [
    "#[x.text.split(\":\") for x in soup.findAll('p') if 'Advisor' in x.text]"
   ]
  },
  {
   "cell_type": "code",
   "execution_count": 215,
   "metadata": {
    "collapsed": false
   },
   "outputs": [],
   "source": [
    "def getName(soup):\n",
    "    return soup.find(\"h2\").text.strip().replace(',','')"
   ]
  },
  {
   "cell_type": "code",
   "execution_count": 216,
   "metadata": {
    "collapsed": false
   },
   "outputs": [],
   "source": [
    "def getAdvisors(soup):\n",
    "    for x in soup.findAll(\"p\"):\n",
    "        if \"Advisor\" in x.text:\n",
    "            return [y.text.replace(',','') for y in x.findAll('a')]"
   ]
  },
  {
   "cell_type": "code",
   "execution_count": 204,
   "metadata": {
    "collapsed": false
   },
   "outputs": [
    {
     "data": {
      "text/plain": [
       "<p style=\"text-align: center; line-height: 2.75ex\">Advisor: <a href=\"id.php?id=74408\">Boris Nikolaevich Delone</a><br/></p>"
      ]
     },
     "execution_count": 204,
     "metadata": {},
     "output_type": "execute_result"
    }
   ],
   "source": [
    "soup.findAll('p')[2]"
   ]
  },
  {
   "cell_type": "code",
   "execution_count": 205,
   "metadata": {
    "collapsed": false
   },
   "outputs": [
    {
     "data": {
      "text/plain": [
       "<div style=\"text-align: center\"><span style=\"color: #000066\">Dissertation:</span> <span id=\"thesisTitle\" style=\"font-style:italic\">\\n\\nInvestigations on Finite Extensions</span></div>"
      ]
     },
     "execution_count": 205,
     "metadata": {},
     "output_type": "execute_result"
    }
   ],
   "source": [
    "[x for x in soup.findAll('span') if 'Dissertation' in x.text][0].parent"
   ]
  },
  {
   "cell_type": "code",
   "execution_count": 214,
   "metadata": {
    "collapsed": false
   },
   "outputs": [],
   "source": [
    "def getThesisTitle(soup):\n",
    "    return soup.find('span', id='thesisTitle').text.strip().replace(',', '')"
   ]
  },
  {
   "cell_type": "code",
   "execution_count": 300,
   "metadata": {
    "collapsed": false
   },
   "outputs": [],
   "source": [
    "def getUniversityYearString(soup):\n",
    "    for x in soup.findAll('span'):\n",
    "        if 'Ph.D.' in x.text or 'Dr. phil.' in x.text:\n",
    "            return x.text.split()\n"
   ]
  },
  {
   "cell_type": "code",
   "execution_count": 311,
   "metadata": {
    "collapsed": false
   },
   "outputs": [
    {
     "data": {
      "text/plain": [
       "[u'Ph.D.', u'University', u'of', u'California,', u'Los', u'Angeles', u'1951']"
      ]
     },
     "execution_count": 311,
     "metadata": {},
     "output_type": "execute_result"
    }
   ],
   "source": [
    "getUniversityYearString(soup)"
   ]
  },
  {
   "cell_type": "code",
   "execution_count": 314,
   "metadata": {
    "collapsed": true
   },
   "outputs": [],
   "source": [
    "def getUniversity(soup):\n",
    "    for x in soup.findAll('span'):\n",
    "        if 'Ph.D.' in x.text:\n",
    "            return ' '.join(x.text.split()[1:-1]).replace(',', '')\n",
    "        elif 'Dr. phil.' in x.text:\n",
    "            return x.text.split()[2:-1]\n",
    "    return ''"
   ]
  },
  {
   "cell_type": "code",
   "execution_count": 315,
   "metadata": {
    "collapsed": false
   },
   "outputs": [
    {
     "data": {
      "text/plain": [
       "u'University of California Los Angeles'"
      ]
     },
     "execution_count": 315,
     "metadata": {},
     "output_type": "execute_result"
    }
   ],
   "source": [
    "getUniversity(soup)"
   ]
  },
  {
   "cell_type": "code",
   "execution_count": 272,
   "metadata": {
    "collapsed": false,
    "scrolled": true
   },
   "outputs": [],
   "source": [
    "def getCountry(soup):\n",
    "    try:\n",
    "        return [x['title'] for x in soup.findAll('img') if 'img/flags' in x['src']][0]\n",
    "    except IndexError:\n",
    "        return ''"
   ]
  },
  {
   "cell_type": "code",
   "execution_count": 273,
   "metadata": {
    "collapsed": false,
    "scrolled": true
   },
   "outputs": [
    {
     "data": {
      "text/plain": [
       "'Russia'"
      ]
     },
     "execution_count": 273,
     "metadata": {},
     "output_type": "execute_result"
    }
   ],
   "source": [
    "getCountry(soup)"
   ]
  },
  {
   "cell_type": "code",
   "execution_count": 276,
   "metadata": {
    "collapsed": false
   },
   "outputs": [
    {
     "data": {
      "text/plain": [
       "[u'According to our current on-line database, Igor Shafarevich has 13 students and 447  descendants.\\n\\nWe welcome any additional information.']"
      ]
     },
     "execution_count": 276,
     "metadata": {},
     "output_type": "execute_result"
    }
   ],
   "source": [
    "[x.text for x in soup.findAll('p') if 'According to our current on-line database' in x.text]"
   ]
  },
  {
   "cell_type": "code",
   "execution_count": 287,
   "metadata": {
    "collapsed": true
   },
   "outputs": [],
   "source": [
    "def numStudentsAndDescentants(soup):\n",
    "    try: \n",
    "        line = [x.text for x in soup.findAll('p') if 'According to our current on-line database' in x.text][0].strip('.').split()\n",
    "        students = -1\n",
    "        descendants = -1\n",
    "        for i in range(len(line)-1):\n",
    "            if line[i].isdigit() and 'students' in line[i+1]:\n",
    "                students = int(line[i])\n",
    "            if line[i].isdigit() and 'descendants' in line[i+1]:\n",
    "                descendants = int(line[i])\n",
    "        return students, descendants\n",
    "                \n",
    "    except IndexError:\n",
    "        return 0,0"
   ]
  },
  {
   "cell_type": "code",
   "execution_count": 292,
   "metadata": {
    "collapsed": false
   },
   "outputs": [
    {
     "data": {
      "text/plain": [
       "(0, 0)"
      ]
     },
     "execution_count": 292,
     "metadata": {},
     "output_type": "execute_result"
    }
   ],
   "source": [
    "numStudentsAndDescentants(soup)"
   ]
  },
  {
   "cell_type": "code",
   "execution_count": 293,
   "metadata": {
    "collapsed": false
   },
   "outputs": [
    {
     "data": {
      "text/plain": [
       "u'Melvin E. Maron'"
      ]
     },
     "execution_count": 293,
     "metadata": {},
     "output_type": "execute_result"
    }
   ],
   "source": [
    "getName(soup)"
   ]
  },
  {
   "cell_type": "code",
   "execution_count": 294,
   "metadata": {
    "collapsed": false
   },
   "outputs": [
    {
     "data": {
      "text/plain": [
       "'UnitedStates'"
      ]
     },
     "execution_count": 294,
     "metadata": {},
     "output_type": "execute_result"
    }
   ],
   "source": [
    "getCountry(soup)"
   ]
  },
  {
   "cell_type": "code",
   "execution_count": 295,
   "metadata": {
    "collapsed": false
   },
   "outputs": [
    {
     "data": {
      "text/plain": [
       "[u'Hans  Reichenbach']"
      ]
     },
     "execution_count": 295,
     "metadata": {},
     "output_type": "execute_result"
    }
   ],
   "source": [
    "getAdvisors(soup)"
   ]
  },
  {
   "cell_type": "code",
   "execution_count": 296,
   "metadata": {
    "collapsed": false
   },
   "outputs": [
    {
     "data": {
      "text/plain": [
       "u'Theory of Probability'"
      ]
     },
     "execution_count": 296,
     "metadata": {},
     "output_type": "execute_result"
    }
   ],
   "source": [
    "getThesisTitle(soup)"
   ]
  },
  {
   "cell_type": "code",
   "execution_count": 297,
   "metadata": {
    "collapsed": false
   },
   "outputs": [
    {
     "data": {
      "text/plain": [
       "u'Ph.D. University of California, Los Angeles 1951'"
      ]
     },
     "execution_count": 297,
     "metadata": {},
     "output_type": "execute_result"
    }
   ],
   "source": [
    "getUniversityYearString(soup)"
   ]
  },
  {
   "cell_type": "code",
   "execution_count": 208,
   "metadata": {
    "collapsed": false
   },
   "outputs": [],
   "source": [
    "# define the data frame\n",
    "#cols = ['id', 'name','advisors','thesis']\n",
    "#data = [1, 'bill' ,['bob'], 'alalala']\n",
    "#mathematicians = pd.DataFrame(data, index=cols[0], columns=cols[1::])"
   ]
  },
  {
   "cell_type": "code",
   "execution_count": 226,
   "metadata": {
    "collapsed": false
   },
   "outputs": [],
   "source": [
    "outlines = []\n",
    "for i in range(100,120):\n",
    "    an_id = str(i)\n",
    "    response = requests.get(base_url + an_id)\n",
    "    \n",
    "    if (response.status_code == 200):\n",
    "        soup = BeautifulSoup(response.text, 'lxml')\n",
    "    else:\n",
    "        print(\"bad response, moving to next id.\")\n",
    "        continue\n",
    "    comb = an_id+',' + getName(soup) + ',' + ';'.join(getAdvisors(soup)) +','+ getThesisTitle(soup)\n",
    "    outlines.append(comb)\n",
    "    "
   ]
  },
  {
   "cell_type": "code",
   "execution_count": 227,
   "metadata": {
    "collapsed": false
   },
   "outputs": [],
   "source": [
    "with open(\"test.csv\", \"w\") as outFile:\n",
    "    outFile.write('math_id, name, advisors, thesis\\n')\n",
    "    outFile.writelines([line+'\\n' for line in outlines])"
   ]
  },
  {
   "cell_type": "code",
   "execution_count": 324,
   "metadata": {
    "collapsed": false
   },
   "outputs": [],
   "source": [
    "mathematicians = pd.read_csv('test.csv', delimiter=',', index_col='mathId')"
   ]
  },
  {
   "cell_type": "code",
   "execution_count": 325,
   "metadata": {
    "collapsed": false
   },
   "outputs": [
    {
     "data": {
      "text/html": [
       "<div>\n",
       "<table border=\"1\" class=\"dataframe\">\n",
       "  <thead>\n",
       "    <tr style=\"text-align: right;\">\n",
       "      <th></th>\n",
       "      <th>name</th>\n",
       "      <th>advisors</th>\n",
       "      <th>thesis</th>\n",
       "      <th>thesisUniversity</th>\n",
       "      <th>thesisCountry</th>\n",
       "      <th>thesisYear</th>\n",
       "      <th>numStudents</th>\n",
       "      <th>numDescendants</th>\n",
       "    </tr>\n",
       "    <tr>\n",
       "      <th>mathId</th>\n",
       "      <th></th>\n",
       "      <th></th>\n",
       "      <th></th>\n",
       "      <th></th>\n",
       "      <th></th>\n",
       "      <th></th>\n",
       "      <th></th>\n",
       "      <th></th>\n",
       "    </tr>\n",
       "  </thead>\n",
       "  <tbody>\n",
       "    <tr>\n",
       "      <th>100</th>\n",
       "      <td>David L. Simpson</td>\n",
       "      <td>Robert Joe Lambert</td>\n",
       "      <td>A numerical method of characteristics for solv...</td>\n",
       "      <td>Iowa State University</td>\n",
       "      <td>UnitedStates</td>\n",
       "      <td>1967</td>\n",
       "      <td>0</td>\n",
       "      <td>0</td>\n",
       "    </tr>\n",
       "    <tr>\n",
       "      <th>101</th>\n",
       "      <td>James Douglas Watson</td>\n",
       "      <td>Clair George Maple</td>\n",
       "      <td>A Numerical Technique for Solution of the Line...</td>\n",
       "      <td>Iowa State University</td>\n",
       "      <td>UnitedStates</td>\n",
       "      <td>1967</td>\n",
       "      <td>0</td>\n",
       "      <td>0</td>\n",
       "    </tr>\n",
       "    <tr>\n",
       "      <th>102</th>\n",
       "      <td>Lonny B. Winrich</td>\n",
       "      <td>Clair George Maple</td>\n",
       "      <td>An Explicit Method for the Numerical Solution ...</td>\n",
       "      <td>Iowa State University</td>\n",
       "      <td>UnitedStates</td>\n",
       "      <td>1968</td>\n",
       "      <td>0</td>\n",
       "      <td>0</td>\n",
       "    </tr>\n",
       "    <tr>\n",
       "      <th>103</th>\n",
       "      <td>Douglas Warren Curtis</td>\n",
       "      <td>Donald Eugene Sanderson</td>\n",
       "      <td>Deficiency and Stability in Infinite Dimension...</td>\n",
       "      <td>Iowa State University</td>\n",
       "      <td>UnitedStates</td>\n",
       "      <td>1968</td>\n",
       "      <td>2</td>\n",
       "      <td>2</td>\n",
       "    </tr>\n",
       "    <tr>\n",
       "      <th>104</th>\n",
       "      <td>Paul Albert Haeder</td>\n",
       "      <td>Clair George Maple</td>\n",
       "      <td>On the Zeros of Solutions of Elliptic Partial ...</td>\n",
       "      <td>Iowa State University</td>\n",
       "      <td>UnitedStates</td>\n",
       "      <td>1968</td>\n",
       "      <td>0</td>\n",
       "      <td>0</td>\n",
       "    </tr>\n",
       "    <tr>\n",
       "      <th>105</th>\n",
       "      <td>Robert Allen McCoy</td>\n",
       "      <td>Donald Eugene Sanderson</td>\n",
       "      <td>Cells and Cellularity in Infinite-Dimensional ...</td>\n",
       "      <td>Iowa State University</td>\n",
       "      <td>UnitedStates</td>\n",
       "      <td>1968</td>\n",
       "      <td>4</td>\n",
       "      <td>7</td>\n",
       "    </tr>\n",
       "    <tr>\n",
       "      <th>106</th>\n",
       "      <td>John Melvan Clark</td>\n",
       "      <td>George H. Seifert</td>\n",
       "      <td>Asymptotic Stability in General Systems</td>\n",
       "      <td>Iowa State University</td>\n",
       "      <td>UnitedStates</td>\n",
       "      <td>1968</td>\n",
       "      <td>0</td>\n",
       "      <td>0</td>\n",
       "    </tr>\n",
       "    <tr>\n",
       "      <th>107</th>\n",
       "      <td>Joseph Nicholas O'Brien</td>\n",
       "      <td>Robert Joe Lambert</td>\n",
       "      <td>Stability and Error Analysis of Linear Multist...</td>\n",
       "      <td>Iowa State University</td>\n",
       "      <td>UnitedStates</td>\n",
       "      <td>1968</td>\n",
       "      <td>0</td>\n",
       "      <td>0</td>\n",
       "    </tr>\n",
       "    <tr>\n",
       "      <th>108</th>\n",
       "      <td>Werner William Shoultz</td>\n",
       "      <td>Bernard  Vinograde</td>\n",
       "      <td>Chains of Minimal Generating Sets of Inseparab...</td>\n",
       "      <td>Iowa State University</td>\n",
       "      <td>UnitedStates</td>\n",
       "      <td>1968</td>\n",
       "      <td>0</td>\n",
       "      <td>0</td>\n",
       "    </tr>\n",
       "    <tr>\n",
       "      <th>109</th>\n",
       "      <td>Thomas Wayne Wineinger</td>\n",
       "      <td>Robert Joe Lambert;Thomas R. Rogge</td>\n",
       "      <td>Singular Perturbation Techniques and its Appli...</td>\n",
       "      <td>Iowa State University</td>\n",
       "      <td>UnitedStates</td>\n",
       "      <td>1968</td>\n",
       "      <td>0</td>\n",
       "      <td>0</td>\n",
       "    </tr>\n",
       "    <tr>\n",
       "      <th>110</th>\n",
       "      <td>Wayne Leon Woodworth</td>\n",
       "      <td>James Arthur Dyer</td>\n",
       "      <td>Integrals over Proto-Rings</td>\n",
       "      <td>Iowa State University</td>\n",
       "      <td>UnitedStates</td>\n",
       "      <td>1968</td>\n",
       "      <td>0</td>\n",
       "      <td>0</td>\n",
       "    </tr>\n",
       "    <tr>\n",
       "      <th>111</th>\n",
       "      <td>Richard Frank Sincovec</td>\n",
       "      <td>Robert Joe Lambert</td>\n",
       "      <td>Norm Reduction Algorithms for Eigenvalues and ...</td>\n",
       "      <td>Iowa State University</td>\n",
       "      <td>UnitedStates</td>\n",
       "      <td>1968</td>\n",
       "      <td>0</td>\n",
       "      <td>0</td>\n",
       "    </tr>\n",
       "    <tr>\n",
       "      <th>112</th>\n",
       "      <td>Albert Maurice Erisman</td>\n",
       "      <td>Robert Joe Lambert</td>\n",
       "      <td>An algorithm for eigenvectors of non-hermitian...</td>\n",
       "      <td>Iowa State University</td>\n",
       "      <td>UnitedStates</td>\n",
       "      <td>1969</td>\n",
       "      <td>0</td>\n",
       "      <td>0</td>\n",
       "    </tr>\n",
       "    <tr>\n",
       "      <th>113</th>\n",
       "      <td>George Franklin Haddix</td>\n",
       "      <td>Bernard  Vinograde</td>\n",
       "      <td>The lattice of intermediate fields of a purely...</td>\n",
       "      <td>Iowa State University</td>\n",
       "      <td>UnitedStates</td>\n",
       "      <td>1969</td>\n",
       "      <td>0</td>\n",
       "      <td>0</td>\n",
       "    </tr>\n",
       "    <tr>\n",
       "      <th>114</th>\n",
       "      <td>James Dennard Baker</td>\n",
       "      <td>Fred Marion Wright</td>\n",
       "      <td>Generalized iterated limits and results on wei...</td>\n",
       "      <td>Iowa State University</td>\n",
       "      <td>UnitedStates</td>\n",
       "      <td>1969</td>\n",
       "      <td>0</td>\n",
       "      <td>0</td>\n",
       "    </tr>\n",
       "    <tr>\n",
       "      <th>115</th>\n",
       "      <td>Shang-Wang  Chang</td>\n",
       "      <td>Bernard  Vinograde;Herbert Theodore David</td>\n",
       "      <td>Equilibrium points of non-zero-sum games and a...</td>\n",
       "      <td>Iowa State University</td>\n",
       "      <td>UnitedStates</td>\n",
       "      <td>1969</td>\n",
       "      <td>0</td>\n",
       "      <td>0</td>\n",
       "    </tr>\n",
       "    <tr>\n",
       "      <th>116</th>\n",
       "      <td>Michael Lawrence Engquist</td>\n",
       "      <td>George H. Seifert</td>\n",
       "      <td>Existence of solutions for differential equati...</td>\n",
       "      <td>Iowa State University</td>\n",
       "      <td>UnitedStates</td>\n",
       "      <td>1969</td>\n",
       "      <td>0</td>\n",
       "      <td>0</td>\n",
       "    </tr>\n",
       "    <tr>\n",
       "      <th>117</th>\n",
       "      <td>Dale Murray Rognlie</td>\n",
       "      <td>Billie Chandler Carlson</td>\n",
       "      <td>Generalized Integral Transforms</td>\n",
       "      <td>Iowa State University</td>\n",
       "      <td>UnitedStates</td>\n",
       "      <td>1969</td>\n",
       "      <td>0</td>\n",
       "      <td>0</td>\n",
       "    </tr>\n",
       "    <tr>\n",
       "      <th>118</th>\n",
       "      <td>William Buhmann Johnson</td>\n",
       "      <td>James Arthur Dyer</td>\n",
       "      <td>Operator and Dual Operator Bases in Linear Top...</td>\n",
       "      <td>Iowa State University</td>\n",
       "      <td>UnitedStates</td>\n",
       "      <td>1969</td>\n",
       "      <td>18</td>\n",
       "      <td>40</td>\n",
       "    </tr>\n",
       "    <tr>\n",
       "      <th>119</th>\n",
       "      <td>Robert Allen Shive Jr.</td>\n",
       "      <td>James Arthur Dyer</td>\n",
       "      <td>Existence theorems for the  (psi)  Integral</td>\n",
       "      <td>Iowa State University</td>\n",
       "      <td>UnitedStates</td>\n",
       "      <td>1969</td>\n",
       "      <td>0</td>\n",
       "      <td>0</td>\n",
       "    </tr>\n",
       "  </tbody>\n",
       "</table>\n",
       "</div>"
      ],
      "text/plain": [
       "                             name                                   advisors  \\\n",
       "mathId                                                                         \n",
       "100              David L. Simpson                         Robert Joe Lambert   \n",
       "101          James Douglas Watson                         Clair George Maple   \n",
       "102              Lonny B. Winrich                         Clair George Maple   \n",
       "103         Douglas Warren Curtis                    Donald Eugene Sanderson   \n",
       "104            Paul Albert Haeder                         Clair George Maple   \n",
       "105            Robert Allen McCoy                    Donald Eugene Sanderson   \n",
       "106             John Melvan Clark                          George H. Seifert   \n",
       "107       Joseph Nicholas O'Brien                         Robert Joe Lambert   \n",
       "108        Werner William Shoultz                         Bernard  Vinograde   \n",
       "109        Thomas Wayne Wineinger         Robert Joe Lambert;Thomas R. Rogge   \n",
       "110          Wayne Leon Woodworth                          James Arthur Dyer   \n",
       "111        Richard Frank Sincovec                         Robert Joe Lambert   \n",
       "112        Albert Maurice Erisman                         Robert Joe Lambert   \n",
       "113        George Franklin Haddix                         Bernard  Vinograde   \n",
       "114           James Dennard Baker                         Fred Marion Wright   \n",
       "115             Shang-Wang  Chang  Bernard  Vinograde;Herbert Theodore David   \n",
       "116     Michael Lawrence Engquist                          George H. Seifert   \n",
       "117           Dale Murray Rognlie                    Billie Chandler Carlson   \n",
       "118       William Buhmann Johnson                          James Arthur Dyer   \n",
       "119        Robert Allen Shive Jr.                          James Arthur Dyer   \n",
       "\n",
       "                                                   thesis  \\\n",
       "mathId                                                      \n",
       "100     A numerical method of characteristics for solv...   \n",
       "101     A Numerical Technique for Solution of the Line...   \n",
       "102     An Explicit Method for the Numerical Solution ...   \n",
       "103     Deficiency and Stability in Infinite Dimension...   \n",
       "104     On the Zeros of Solutions of Elliptic Partial ...   \n",
       "105     Cells and Cellularity in Infinite-Dimensional ...   \n",
       "106               Asymptotic Stability in General Systems   \n",
       "107     Stability and Error Analysis of Linear Multist...   \n",
       "108     Chains of Minimal Generating Sets of Inseparab...   \n",
       "109     Singular Perturbation Techniques and its Appli...   \n",
       "110                            Integrals over Proto-Rings   \n",
       "111     Norm Reduction Algorithms for Eigenvalues and ...   \n",
       "112     An algorithm for eigenvectors of non-hermitian...   \n",
       "113     The lattice of intermediate fields of a purely...   \n",
       "114     Generalized iterated limits and results on wei...   \n",
       "115     Equilibrium points of non-zero-sum games and a...   \n",
       "116     Existence of solutions for differential equati...   \n",
       "117                       Generalized Integral Transforms   \n",
       "118     Operator and Dual Operator Bases in Linear Top...   \n",
       "119           Existence theorems for the  (psi)  Integral   \n",
       "\n",
       "             thesisUniversity thesisCountry  thesisYear  numStudents  \\\n",
       "mathId                                                                 \n",
       "100     Iowa State University  UnitedStates        1967            0   \n",
       "101     Iowa State University  UnitedStates        1967            0   \n",
       "102     Iowa State University  UnitedStates        1968            0   \n",
       "103     Iowa State University  UnitedStates        1968            2   \n",
       "104     Iowa State University  UnitedStates        1968            0   \n",
       "105     Iowa State University  UnitedStates        1968            4   \n",
       "106     Iowa State University  UnitedStates        1968            0   \n",
       "107     Iowa State University  UnitedStates        1968            0   \n",
       "108     Iowa State University  UnitedStates        1968            0   \n",
       "109     Iowa State University  UnitedStates        1968            0   \n",
       "110     Iowa State University  UnitedStates        1968            0   \n",
       "111     Iowa State University  UnitedStates        1968            0   \n",
       "112     Iowa State University  UnitedStates        1969            0   \n",
       "113     Iowa State University  UnitedStates        1969            0   \n",
       "114     Iowa State University  UnitedStates        1969            0   \n",
       "115     Iowa State University  UnitedStates        1969            0   \n",
       "116     Iowa State University  UnitedStates        1969            0   \n",
       "117     Iowa State University  UnitedStates        1969            0   \n",
       "118     Iowa State University  UnitedStates        1969           18   \n",
       "119     Iowa State University  UnitedStates        1969            0   \n",
       "\n",
       "        numDescendants  \n",
       "mathId                  \n",
       "100                  0  \n",
       "101                  0  \n",
       "102                  0  \n",
       "103                  2  \n",
       "104                  0  \n",
       "105                  7  \n",
       "106                  0  \n",
       "107                  0  \n",
       "108                  0  \n",
       "109                  0  \n",
       "110                  0  \n",
       "111                  0  \n",
       "112                  0  \n",
       "113                  0  \n",
       "114                  0  \n",
       "115                  0  \n",
       "116                  0  \n",
       "117                  0  \n",
       "118                 40  \n",
       "119                  0  "
      ]
     },
     "execution_count": 325,
     "metadata": {},
     "output_type": "execute_result"
    }
   ],
   "source": [
    "mathematicians.thesisUniversity."
   ]
  },
  {
   "cell_type": "code",
   "execution_count": 231,
   "metadata": {
    "collapsed": false
   },
   "outputs": [],
   "source": [
    "x = range(1,200000)"
   ]
  },
  {
   "cell_type": "code",
   "execution_count": 233,
   "metadata": {
    "collapsed": true
   },
   "outputs": [],
   "source": [
    "random.shuffle(x)"
   ]
  },
  {
   "cell_type": "code",
   "execution_count": null,
   "metadata": {
    "collapsed": true
   },
   "outputs": [],
   "source": []
  }
 ],
 "metadata": {
  "kernelspec": {
   "display_name": "Python 2",
   "language": "python",
   "name": "python2"
  },
  "language_info": {
   "codemirror_mode": {
    "name": "ipython",
    "version": 2
   },
   "file_extension": ".py",
   "mimetype": "text/x-python",
   "name": "python",
   "nbconvert_exporter": "python",
   "pygments_lexer": "ipython2",
   "version": "2.7.12"
  }
 },
 "nbformat": 4,
 "nbformat_minor": 0
}
