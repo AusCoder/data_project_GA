{
 "cells": [
  {
   "cell_type": "code",
   "execution_count": 93,
   "metadata": {
    "collapsed": false
   },
   "outputs": [],
   "source": [
    "import pandas as pd\n",
    "import os\n",
    "import numpy as np\n",
    "%matplotlib inline\n",
    "import matplotlib.pyplot as plt\n",
    "\n",
    "import sklearn.cluster\n",
    "import sklearn.preprocessing\n",
    "import nltk\n",
    "import sklearn.ensemble\n",
    "import sklearn.decomposition\n",
    "import sklearn.metrics\n",
    "import sklearn.dummy"
   ]
  },
  {
   "cell_type": "code",
   "execution_count": 2,
   "metadata": {
    "collapsed": true
   },
   "outputs": [],
   "source": [
    "# import the csv\n",
    "dirty_mathematicians = pd.read_csv('data/math_data.csv', delimiter=',', na_values=[\"Ph.D.\"])\n",
    "\n",
    "def year_translator(x):\n",
    "    if type(x) == type(\"\"):\n",
    "        try:\n",
    "            return int(x)\n",
    "        except ValueError:\n",
    "            return 0\n",
    "    return x\n",
    "\n",
    "dirty_mathematicians['numericYear'] = dirty_mathematicians.thesisYear.map(year_translator)\n",
    "\n",
    "# get mathematician data\n",
    "mathematicians = dirty_mathematicians[(dirty_mathematicians.numericYear != 0) \n",
    "                                      & (dirty_mathematicians.numericYear.notnull())\n",
    "                                     & (dirty_mathematicians.numericYear < 10000)\n",
    "                                     & (dirty_mathematicians.numericYear > 1000)\n",
    "                                     & (dirty_mathematicians.thesisYear.notnull())\n",
    "                                     & (dirty_mathematicians.thesisUniversity.notnull())\n",
    "                                     & (dirty_mathematicians.thesis.notnull())]"
   ]
  },
  {
   "cell_type": "code",
   "execution_count": 3,
   "metadata": {
    "collapsed": true
   },
   "outputs": [],
   "source": [
    "# read in the csv data\n",
    "#mathematicians = pd.read_csv('data/math_data.csv', delimiter=',')#, parse_dates='thesisYear')\n",
    "#mathematicians = mathematicians[mathematicians.thesisYear.notnull()]\n",
    "\n",
    "# take only those rows with a numeric mathId (the scraping went bad at some points)\n",
    "#mathematicians = mathematicians[mathematicians.mathId.apply(lambda x: x.isnumeric())].set_index('mathId')"
   ]
  },
  {
   "cell_type": "code",
   "execution_count": 4,
   "metadata": {
    "collapsed": false
   },
   "outputs": [],
   "source": [
    "# add a row for numeric year\n",
    "#years = mathematicians.thesisYear.apply(pd.to_numeric, errors='coerce')\n",
    "#mathematicians = mathematicians[years.notnull()]\n",
    "# some of the years were doubled up, eg 19771984. Fix in those cases:\n",
    "#for idx in years[years > 10000].index:\n",
    "#    years[idx] = float(int(years[idx]/10000))\n",
    "# add a column to the dataframe with numeric years\n",
    "#mathematicians['numericYear'] = years\n",
    "\n",
    "\n",
    "# filter out some obvious bad ones, this might be throwing out a bunch of my data...\n",
    "#mathematicians = mathematicians[(mathematicians.numericYear.isnull() == False)\n",
    "#                               & (mathematicians.thesisYear > 1000)\n",
    "#                               & (mathematicians.thesis.notnull()) \n",
    "#                                & (mathematicians.thesisUniversity.notnull())\n",
    "#                               & (mathematicians.thesisCountry.notnull())]"
   ]
  },
  {
   "cell_type": "code",
   "execution_count": 5,
   "metadata": {
    "collapsed": true
   },
   "outputs": [],
   "source": [
    "# interesting idea: try to predict subject area from university and year and maybe advisor too."
   ]
  },
  {
   "cell_type": "markdown",
   "metadata": {},
   "source": [
    "# Counting most common universities and countries"
   ]
  },
  {
   "cell_type": "code",
   "execution_count": 6,
   "metadata": {
    "collapsed": true
   },
   "outputs": [],
   "source": [
    "encoder = sklearn.preprocessing.LabelEncoder()"
   ]
  },
  {
   "cell_type": "code",
   "execution_count": 7,
   "metadata": {
    "collapsed": false
   },
   "outputs": [
    {
     "data": {
      "text/plain": [
       "array([ 748,  748,  748, ...,  569, 1498, 1375])"
      ]
     },
     "execution_count": 7,
     "metadata": {},
     "output_type": "execute_result"
    }
   ],
   "source": [
    "encoder.fit_transform(mathematicians.thesisUniversity)"
   ]
  },
  {
   "cell_type": "code",
   "execution_count": 8,
   "metadata": {
    "collapsed": false
   },
   "outputs": [
    {
     "data": {
      "text/plain": [
       "array(['(Candidate of Sciences) Novosibirsk State University',\n",
       "       '(Candidate of Sciences) Sobolev Institute of Mathematics Novosibirsk',\n",
       "       \"(Doctorat d'Etat) Université Paris Diderot - Paris 7\", ...,\n",
       "       'ès sciences techniques École Polytechnique Fédérale de Lausanne',\n",
       "       'ès. sc. École Polytechnique Fédérale de Lausanne',\n",
       "       'İstanbul Teknik Üniversitesi'], dtype=object)"
      ]
     },
     "execution_count": 8,
     "metadata": {},
     "output_type": "execute_result"
    }
   ],
   "source": [
    "encoder.classes_"
   ]
  },
  {
   "cell_type": "code",
   "execution_count": 9,
   "metadata": {
    "collapsed": false
   },
   "outputs": [],
   "source": [
    "mcUni1000 = list(mathematicians.thesisUniversity.value_counts().head(1000).index)"
   ]
  },
  {
   "cell_type": "code",
   "execution_count": 10,
   "metadata": {
    "collapsed": true
   },
   "outputs": [],
   "source": [
    "x = mathematicians[mathematicians.thesisUniversity.isin(mcUni1000)]"
   ]
  },
  {
   "cell_type": "code",
   "execution_count": 11,
   "metadata": {
    "collapsed": false
   },
   "outputs": [
    {
     "data": {
      "image/png": "[encoded data removed]",
      "text/plain": [
       "<matplotlib.figure.Figure at 0x10f3b6390>"
      ]
     },
     "metadata": {},
     "output_type": "display_data"
    }
   ],
   "source": [
    "#plt.scatter(x.numericYear, encoder.fit_transform(x.thesisUniversity), c='blue')\n",
    "_x = encoder.fit_transform(x.thesisUniversity)\n",
    "plt.hist(_x, bins=500);"
   ]
  },
  {
   "cell_type": "markdown",
   "metadata": {},
   "source": [
    "# Thesis title analysis"
   ]
  },
  {
   "cell_type": "code",
   "execution_count": 12,
   "metadata": {
    "collapsed": false
   },
   "outputs": [],
   "source": [
    "textblock = '\\n'.join([line for line in mathematicians.thesis])\n",
    "stopwords = nltk.corpus.stopwords.words('german') + \\\n",
    "            nltk.corpus.stopwords.words('english') + \\\n",
    "            nltk.corpus.stopwords.words('french') + \\\n",
    "            [';',',','.',':','(',')','de','la','rer','nat']\n",
    "words = [word.lower() for word in nltk.word_tokenize(textblock) if word.lower() not in stopwords]\n",
    "textobj = nltk.Text(words)"
   ]
  },
  {
   "cell_type": "code",
   "execution_count": 13,
   "metadata": {
    "collapsed": false
   },
   "outputs": [],
   "source": [
    "distobj=nltk.FreqDist(words)"
   ]
  },
  {
   "cell_type": "code",
   "execution_count": 14,
   "metadata": {
    "collapsed": false
   },
   "outputs": [],
   "source": [
    "finder = nltk.collocations.BigramCollocationFinder.from_words(textobj)\n",
    "bigram_measures = nltk.collocations.BigramAssocMeasures()"
   ]
  },
  {
   "cell_type": "code",
   "execution_count": 15,
   "metadata": {
    "collapsed": false
   },
   "outputs": [],
   "source": [
    "bigrams = finder.nbest(bigram_measures.raw_freq, 50)\n"
   ]
  },
  {
   "cell_type": "code",
   "execution_count": 17,
   "metadata": {
    "collapsed": false
   },
   "outputs": [],
   "source": [
    "# run through the rows and see if these 2grams are in the thesis, if so plot the year.\n",
    "def containsBiGram(aString, ngrams=bigrams):\n",
    "    for ngram in ngrams:\n",
    "        if ngram[0] in aString.lower() and ngram[1] in aString.lower():\n",
    "            return True\n",
    "    return False\n",
    "\n",
    "def containsSpecificBiGram(aString, ngram):\n",
    "    return ngram[0] in aString.lower() and ngram[1] in aString.lower()\n",
    "\n",
    "def getFirstBiGram(aString, bigrams):\n",
    "    for bigram in bigrams:\n",
    "        if containsSpecificBiGram(aString, bigram):\n",
    "            return bigram[0] + ' ' + bigram[1]\n",
    "    return \"\""
   ]
  },
  {
   "cell_type": "code",
   "execution_count": 20,
   "metadata": {
    "collapsed": false
   },
   "outputs": [
    {
     "data": {
      "text/plain": [
       "array([ 9, 35,  3, 49, 47, 16, 12,  2, 32, 29, 41, 31, 21, 17, 38, 15, 46,\n",
       "       23, 34, 22, 19, 28, 33,  5, 24, 27, 45, 26, 18, 44,  1, 13, 11, 10,\n",
       "       14, 48,  0,  6, 37, 30, 39, 43,  7, 20, 25, 36,  4, 42, 40,  8])"
      ]
     },
     "execution_count": 20,
     "metadata": {},
     "output_type": "execute_result"
    }
   ],
   "source": [
    "bigram_encoder = sklearn.preprocessing.LabelEncoder()\n",
    "bigram_encoder.fit_transform([x[0]+' '+x[1] for x in bigrams])"
   ]
  },
  {
   "cell_type": "code",
   "execution_count": 22,
   "metadata": {
    "collapsed": false
   },
   "outputs": [
    {
     "data": {
      "image/png": "[encoded data removed]",
      "text/plain": [
       "<matplotlib.figure.Figure at 0x113630d30>"
      ]
     },
     "metadata": {},
     "output_type": "display_data"
    }
   ],
   "source": [
    "i=0\n",
    "for bigram in bigrams:\n",
    "    #print(ngram)\n",
    "    s = mathematicians[mathematicians.thesis.map(lambda x: containsSpecificBiGram(x, bigram))].numericYear\n",
    "    plt.scatter(np.array([bigram_encoder.transform(' '.join(bigram)) for x in s]), s, c='blue')\n",
    "    i += 1"
   ]
  },
  {
   "cell_type": "code",
   "execution_count": null,
   "metadata": {
    "collapsed": true
   },
   "outputs": [],
   "source": [
    "bigram_encoder.inverse_transformrcodercoder.inverse"
   ]
  },
  {
   "cell_type": "markdown",
   "metadata": {},
   "source": [
    "### Do some one-hot encoding\n",
    "here we add some columns for the presence of a bigrams and university studied at"
   ]
  },
  {
   "cell_type": "code",
   "execution_count": 23,
   "metadata": {
    "collapsed": false
   },
   "outputs": [
    {
     "name": "stderr",
     "output_type": "stream",
     "text": [
      "/Users/sebastianmueller/miniconda3/lib/python3.5/site-packages/ipykernel/__main__.py:5: SettingWithCopyWarning: \n",
      "A value is trying to be set on a copy of a slice from a DataFrame.\n",
      "Try using .loc[row_indexer,col_indexer] = value instead\n",
      "\n",
      "See the caveats in the documentation: http://pandas.pydata.org/pandas-docs/stable/indexing.html#indexing-view-versus-copy\n"
     ]
    }
   ],
   "source": [
    "# add one hot encoding for the thesis title bigrams\n",
    "bigramed_mathematicians = mathematicians[mathematicians.thesis.map(lambda x: containsBiGram(x, bigrams))]\n",
    "for bigram in bigrams:\n",
    "    _bi = ' '.join(bigram)\n",
    "    bigramed_mathematicians[_bi] = np.where(bigramed_mathematicians.thesis.map(lambda x: containsSpecificBiGram(x, bigram)),1,0)"
   ]
  },
  {
   "cell_type": "code",
   "execution_count": 24,
   "metadata": {
    "collapsed": false
   },
   "outputs": [
    {
     "name": "stderr",
     "output_type": "stream",
     "text": [
      "/Users/sebastianmueller/miniconda3/lib/python3.5/site-packages/ipykernel/__main__.py:3: SettingWithCopyWarning: \n",
      "A value is trying to be set on a copy of a slice from a DataFrame.\n",
      "Try using .loc[row_indexer,col_indexer] = value instead\n",
      "\n",
      "See the caveats in the documentation: http://pandas.pydata.org/pandas-docs/stable/indexing.html#indexing-view-versus-copy\n",
      "  app.launch_new_instance()\n"
     ]
    }
   ],
   "source": [
    "# add the one hot encoding for the thesis University\n",
    "for uni in mcUni1000:\n",
    "    bigramed_mathematicians[uni] = np.where(bigramed_mathematicians.thesisUniversity==uni, 1, 0)"
   ]
  },
  {
   "cell_type": "code",
   "execution_count": 25,
   "metadata": {
    "collapsed": false
   },
   "outputs": [
    {
     "name": "stderr",
     "output_type": "stream",
     "text": [
      "/Users/sebastianmueller/miniconda3/lib/python3.5/site-packages/ipykernel/__main__.py:2: SettingWithCopyWarning: \n",
      "A value is trying to be set on a copy of a slice from a DataFrame.\n",
      "Try using .loc[row_indexer,col_indexer] = value instead\n",
      "\n",
      "See the caveats in the documentation: http://pandas.pydata.org/pandas-docs/stable/indexing.html#indexing-view-versus-copy\n",
      "  from ipykernel import kernelapp as app\n"
     ]
    }
   ],
   "source": [
    "# add labeled bigrams\n",
    "bigramed_mathematicians['encoded_bigram'] = bigram_encoder.transform(bigramed_mathematicians.thesis.map(lambda x: getFirstBiGram(x, bigrams)))"
   ]
  },
  {
   "cell_type": "markdown",
   "metadata": {},
   "source": [
    "### Prediction\n",
    "lets try to predict the subject area (ie the bigram) just based on the university that you went to.\n"
   ]
  },
  {
   "cell_type": "code",
   "execution_count": 68,
   "metadata": {
    "collapsed": true
   },
   "outputs": [],
   "source": [
    "classifier = sklearn.ensemble.RandomForestClassifier()"
   ]
  },
  {
   "cell_type": "code",
   "execution_count": 69,
   "metadata": {
    "collapsed": false
   },
   "outputs": [],
   "source": [
    "X = bigramed_mathematicians[mcUni1000]\n",
    "y = bigramed_mathematicians.encoded_bigram"
   ]
  },
  {
   "cell_type": "code",
   "execution_count": 70,
   "metadata": {
    "collapsed": false
   },
   "outputs": [
    {
     "data": {
      "text/plain": [
       "RandomForestClassifier(bootstrap=True, class_weight=None, criterion='gini',\n",
       "            max_depth=None, max_features='auto', max_leaf_nodes=None,\n",
       "            min_samples_leaf=1, min_samples_split=2,\n",
       "            min_weight_fraction_leaf=0.0, n_estimators=10, n_jobs=1,\n",
       "            oob_score=False, random_state=None, verbose=0,\n",
       "            warm_start=False)"
      ]
     },
     "execution_count": 70,
     "metadata": {},
     "output_type": "execute_result"
    }
   ],
   "source": [
    "classifier.fit(X,y)"
   ]
  },
  {
   "cell_type": "code",
   "execution_count": 71,
   "metadata": {
    "collapsed": false
   },
   "outputs": [],
   "source": [
    "predictions = classifier.predict(X)"
   ]
  },
  {
   "cell_type": "code",
   "execution_count": 72,
   "metadata": {
    "collapsed": false
   },
   "outputs": [
    {
     "data": {
      "text/plain": [
       "0.20540362799364278"
      ]
     },
     "execution_count": 72,
     "metadata": {},
     "output_type": "execute_result"
    }
   ],
   "source": [
    "sklearn.metrics.accuracy_score(predictions, y)"
   ]
  },
  {
   "cell_type": "code",
   "execution_count": 73,
   "metadata": {
    "collapsed": false
   },
   "outputs": [],
   "source": [
    "zipped_results = list(zip(predictions, y))"
   ]
  },
  {
   "cell_type": "markdown",
   "metadata": {},
   "source": [
    "### here is how we did:"
   ]
  },
  {
   "cell_type": "code",
   "execution_count": 33,
   "metadata": {
    "collapsed": false
   },
   "outputs": [
    {
     "data": {
      "text/plain": [
       "3749"
      ]
     },
     "execution_count": 33,
     "metadata": {},
     "output_type": "execute_result"
    }
   ],
   "source": [
    "# number correct\n",
    "sum([1 for x in zipped_results if x[0] == x[1]])"
   ]
  },
  {
   "cell_type": "code",
   "execution_count": 34,
   "metadata": {
    "collapsed": false
   },
   "outputs": [
    {
     "data": {
      "text/plain": [
       "14498"
      ]
     },
     "execution_count": 34,
     "metadata": {},
     "output_type": "execute_result"
    }
   ],
   "source": [
    "# number incorrect\n",
    "sum([1 for x in zipped_results if x[0] != x[1]])"
   ]
  },
  {
   "cell_type": "markdown",
   "metadata": {},
   "source": [
    "### Not so great!\n",
    "Things to try\n",
    "    1. use pca to bring the dimension down and graph it and cluster it\n",
    "    2. include the advisor\n",
    "    3. include the year\n",
    "    4. try random prediction to see how we did"
   ]
  },
  {
   "cell_type": "code",
   "execution_count": 35,
   "metadata": {
    "collapsed": true
   },
   "outputs": [],
   "source": [
    "# the whiten scales the dimensions the similar scales\n",
    "pca = sklearn.decomposition.PCA(whiten=True)"
   ]
  },
  {
   "cell_type": "code",
   "execution_count": 36,
   "metadata": {
    "collapsed": false
   },
   "outputs": [],
   "source": [
    "trans_cols = pca.fit_transform(X)"
   ]
  },
  {
   "cell_type": "code",
   "execution_count": 37,
   "metadata": {
    "collapsed": false
   },
   "outputs": [
    {
     "data": {
      "text/plain": [
       "<matplotlib.collections.PathCollection at 0x10fadb400>"
      ]
     },
     "execution_count": 37,
     "metadata": {},
     "output_type": "execute_result"
    },
    {
     "data": {
      "image/png": "[encoded data removed]",
      "text/plain": [
       "<matplotlib.figure.Figure at 0x110382908>"
      ]
     },
     "metadata": {},
     "output_type": "display_data"
    }
   ],
   "source": [
    "# the pca plot\n",
    "plt.scatter(trans_cols[:,0], trans_cols[:,1])"
   ]
  },
  {
   "cell_type": "code",
   "execution_count": 38,
   "metadata": {
    "collapsed": false
   },
   "outputs": [],
   "source": [
    "no_unis = []\n",
    "for i in range(len(X)):\n",
    "    if X.iloc[i].sum() == 0:\n",
    "        no_unis.append(i)"
   ]
  },
  {
   "cell_type": "code",
   "execution_count": 39,
   "metadata": {
    "collapsed": false
   },
   "outputs": [
    {
     "data": {
      "text/plain": [
       "728"
      ]
     },
     "execution_count": 39,
     "metadata": {},
     "output_type": "execute_result"
    }
   ],
   "source": [
    "# bad data set:\n",
    "len(no_unis)"
   ]
  },
  {
   "cell_type": "code",
   "execution_count": 46,
   "metadata": {
    "collapsed": false
   },
   "outputs": [
    {
     "data": {
      "text/plain": [
       "array([  2.62511263e-02,   1.75672088e-02,   1.73339401e-02,\n",
       "         1.67688989e-02,   1.63552185e-02,   1.50986141e-02,\n",
       "         1.47963612e-02,   1.40469275e-02,   1.31180963e-02,\n",
       "         1.19208671e-02,   1.18560697e-02,   1.17597917e-02,\n",
       "         1.14164227e-02,   1.03468164e-02,   1.00870014e-02,\n",
       "         1.00288762e-02,   9.98919718e-03,   9.94995653e-03,\n",
       "         9.85077937e-03,   9.40061803e-03,   8.79839355e-03,\n",
       "         8.39821073e-03,   7.85828194e-03,   7.29096576e-03,\n",
       "         7.23000832e-03,   7.08242965e-03,   6.95259756e-03,\n",
       "         6.74194704e-03,   6.58461808e-03,   6.52317000e-03,\n",
       "         6.45577818e-03,   6.37241889e-03,   6.34397323e-03,\n",
       "         6.31500971e-03,   6.19375540e-03,   5.99721603e-03,\n",
       "         5.65247033e-03,   5.51128120e-03,   5.47794627e-03,\n",
       "         5.38330389e-03,   5.23577147e-03,   5.08691323e-03,\n",
       "         4.99379069e-03,   4.79202142e-03,   4.62963115e-03,\n",
       "         4.53532516e-03,   4.48896489e-03,   4.36309762e-03,\n",
       "         4.31723183e-03,   4.12553405e-03,   4.07605172e-03,\n",
       "         4.07605172e-03,   4.07605172e-03,   4.04157654e-03,\n",
       "         4.01864254e-03,   3.94476019e-03,   3.84641501e-03,\n",
       "         3.81602233e-03,   3.76268537e-03,   3.69311196e-03,\n",
       "         3.59239280e-03,   3.48735723e-03,   3.42861283e-03,\n",
       "         3.36825995e-03,   3.26287423e-03,   3.21491404e-03,\n",
       "         3.19643676e-03,   3.15750486e-03,   3.13299818e-03,\n",
       "         3.08458990e-03,   3.02859227e-03,   2.87045896e-03,\n",
       "         2.87045896e-03,   2.87045896e-03,   2.87045896e-03,\n",
       "         2.87045896e-03,   2.87045896e-03,   2.87045896e-03,\n",
       "         2.87045896e-03,   2.82343627e-03,   2.77910707e-03,\n",
       "         2.69823142e-03,   2.68630140e-03,   2.64082224e-03,\n",
       "         2.64082224e-03,   2.64082224e-03,   2.64082224e-03,\n",
       "         2.61348698e-03,   2.58341306e-03,   2.58341306e-03,\n",
       "         2.58341306e-03,   2.55148514e-03,   2.52600389e-03,\n",
       "         2.52600389e-03,   2.49167412e-03,   2.46859471e-03,\n",
       "         2.43898515e-03,   2.41118553e-03,   2.38262442e-03,\n",
       "         2.35377635e-03,   2.31420070e-03,   2.23895799e-03,\n",
       "         2.22236418e-03,   2.18154881e-03,   2.16557133e-03,\n",
       "         2.12413963e-03,   2.11053597e-03,   2.06673045e-03,\n",
       "         2.06673045e-03,   2.04921370e-03,   2.00932127e-03,\n",
       "         2.00932127e-03,   1.99200041e-03,   1.95191209e-03,\n",
       "         1.94335319e-03,   1.89450291e-03,   1.89450291e-03,\n",
       "         1.89450291e-03,   1.89450291e-03,   1.89450291e-03,\n",
       "         1.89450291e-03,   1.89450291e-03,   1.89450291e-03,\n",
       "         1.86106434e-03,   1.83709373e-03,   1.83709373e-03,\n",
       "         1.83709373e-03,   1.80515038e-03,   1.77272117e-03,\n",
       "         1.72227538e-03,   1.72227538e-03,   1.72227538e-03,\n",
       "         1.72227538e-03,   1.72227538e-03,   1.70154151e-03,\n",
       "         1.66486620e-03,   1.66486620e-03,   1.66486620e-03,\n",
       "         1.66486620e-03,   1.66486620e-03,   1.66486620e-03,\n",
       "         1.63919019e-03,   1.60745702e-03,   1.60745702e-03,\n",
       "         1.60745702e-03,   1.60745702e-03,   1.60745702e-03,\n",
       "         1.60745702e-03,   1.57420274e-03,   1.55004784e-03,\n",
       "         1.55004784e-03,   1.53198854e-03,   1.49263866e-03,\n",
       "         1.49263866e-03,   1.49263866e-03,   1.47950434e-03,\n",
       "         1.43522948e-03,   1.43522948e-03,   1.43522948e-03,\n",
       "         1.43522948e-03,   1.43522948e-03,   1.43522948e-03,\n",
       "         1.43522948e-03,   1.43522948e-03,   1.43522948e-03,\n",
       "         1.41316967e-03,   1.37782030e-03,   1.37782030e-03,\n",
       "         1.37782030e-03,   1.37782030e-03,   1.37782030e-03,\n",
       "         1.37782030e-03,   1.37782030e-03,   1.37782030e-03,\n",
       "         1.37782030e-03,   1.37782030e-03,   1.37782030e-03,\n",
       "         1.37782030e-03,   1.37782030e-03,   1.37782030e-03,\n",
       "         1.33835858e-03,   1.32041112e-03,   1.32041112e-03,\n",
       "         1.32041112e-03,   1.32041112e-03,   1.32041112e-03,\n",
       "         1.28956015e-03,   1.26300194e-03,   1.26300194e-03,\n",
       "         1.26300194e-03,   1.26300194e-03,   1.26300194e-03,\n",
       "         1.26300194e-03,   1.23482791e-03,   1.20559276e-03,\n",
       "         1.20559276e-03,   1.20559276e-03,   1.20559276e-03,\n",
       "         1.20559276e-03,   1.20559276e-03,   1.20559276e-03,\n",
       "         1.17911256e-03,   1.14818358e-03,   1.14818358e-03,\n",
       "         1.14818358e-03,   1.14818358e-03,   1.14818358e-03,\n",
       "         1.14818358e-03,   1.14818358e-03,   1.14818358e-03,\n",
       "         1.14818358e-03,   1.14818358e-03,   1.11478271e-03,\n",
       "         1.09077440e-03,   1.09077440e-03,   1.09077440e-03,\n",
       "         1.09077440e-03,   1.09077440e-03,   1.09077440e-03,\n",
       "         1.09077440e-03,   1.06345368e-03,   1.03336523e-03,\n",
       "         1.03336523e-03,   1.03336523e-03,   1.03336523e-03,\n",
       "         1.03336523e-03,   1.03336523e-03,   1.03336523e-03,\n",
       "         1.03336523e-03,   1.03336523e-03,   1.03336523e-03,\n",
       "         1.03336523e-03,   9.98989870e-04,   9.75956047e-04,\n",
       "         9.75956047e-04,   9.75956047e-04,   9.75956047e-04,\n",
       "         9.75956047e-04,   9.75956047e-04,   9.75956047e-04,\n",
       "         9.75956047e-04,   9.44731326e-04,   9.18546867e-04,\n",
       "         9.18546867e-04,   9.18546867e-04,   9.18546867e-04,\n",
       "         9.18546867e-04,   9.18546867e-04,   9.18546867e-04,\n",
       "         9.18546867e-04,   8.92889136e-04,   8.61137688e-04,\n",
       "         8.61137688e-04,   8.61137688e-04,   8.61137688e-04,\n",
       "         8.61137688e-04,   8.61137688e-04,   8.61137688e-04,\n",
       "         8.61137688e-04,   8.61137688e-04,   8.61137688e-04,\n",
       "         8.61137688e-04,   8.61137688e-04,   8.61137688e-04,\n",
       "         8.31395986e-04,   8.03728509e-04,   8.03728509e-04,\n",
       "         8.03728509e-04,   8.03728509e-04,   8.03728509e-04,\n",
       "         8.03728509e-04,   8.03728509e-04,   8.03728509e-04,\n",
       "         8.03728509e-04,   8.03728509e-04,   8.03728509e-04,\n",
       "         8.03728509e-04,   8.03728509e-04,   8.03728509e-04,\n",
       "         7.71886575e-04,   7.46319330e-04,   7.46319330e-04,\n",
       "         7.46319330e-04,   7.46319330e-04,   7.46319330e-04,\n",
       "         7.46319330e-04,   7.46319330e-04,   7.46319330e-04,\n",
       "         7.46319330e-04,   7.46319330e-04,   7.46319330e-04,\n",
       "         7.46319330e-04,   7.46319330e-04,   7.18711313e-04,\n",
       "         6.88910151e-04,   6.88910151e-04,   6.88910151e-04,\n",
       "         6.88910151e-04,   6.88910151e-04,   6.88910151e-04,\n",
       "         6.88910151e-04,   6.88910151e-04,   6.88910151e-04,\n",
       "         6.88910151e-04,   6.88910151e-04,   6.88910151e-04,\n",
       "         6.88910151e-04,   6.88910151e-04,   6.88910151e-04,\n",
       "         6.88910151e-04,   6.88910151e-04,   6.88910151e-04,\n",
       "         6.88910151e-04,   6.88910151e-04,   6.88910151e-04,\n",
       "         6.53174993e-04,   6.31500971e-04,   6.31500971e-04,\n",
       "         6.31500971e-04,   6.31500971e-04,   6.31500971e-04,\n",
       "         6.31500971e-04,   6.31500971e-04,   6.31500971e-04,\n",
       "         6.31500971e-04,   6.31500971e-04,   6.31500971e-04,\n",
       "         6.31500971e-04,   6.31500971e-04,   6.31500971e-04,\n",
       "         6.31500971e-04,   6.31500971e-04,   5.98122583e-04,\n",
       "         5.74091792e-04,   5.74091792e-04,   5.74091792e-04,\n",
       "         5.74091792e-04,   5.74091792e-04,   5.74091792e-04,\n",
       "         5.74091792e-04,   5.74091792e-04,   5.74091792e-04,\n",
       "         5.74091792e-04,   5.74091792e-04,   5.74091792e-04,\n",
       "         5.74091792e-04,   5.74091792e-04,   5.74091792e-04,\n",
       "         5.74091792e-04,   5.74091792e-04,   5.45186809e-04,\n",
       "         5.16682613e-04,   5.16682613e-04,   5.16682613e-04,\n",
       "         5.16682613e-04,   5.16682613e-04,   5.16682613e-04,\n",
       "         5.16682613e-04,   5.16682613e-04,   5.16682613e-04,\n",
       "         5.16682613e-04,   5.16682613e-04,   5.16682613e-04,\n",
       "         5.16682613e-04,   5.16682613e-04,   5.16682613e-04,\n",
       "         5.16682613e-04,   5.16682613e-04,   5.16682613e-04,\n",
       "         5.16682613e-04,   5.16682613e-04,   5.16682613e-04,\n",
       "         5.16682613e-04,   5.16682613e-04,   5.16682613e-04,\n",
       "         5.16682613e-04,   5.16682613e-04,   4.86545061e-04,\n",
       "         4.59273434e-04,   4.59273434e-04,   4.59273434e-04,\n",
       "         4.59273434e-04,   4.59273434e-04,   4.59273434e-04,\n",
       "         4.59273434e-04,   4.59273434e-04,   4.59273434e-04,\n",
       "         4.59273434e-04,   4.59273434e-04,   4.59273434e-04,\n",
       "         4.59273434e-04,   4.59273434e-04,   4.59273434e-04,\n",
       "         4.59273434e-04,   4.59273434e-04,   4.59273434e-04,\n",
       "         4.59273434e-04,   4.59273434e-04,   4.59273434e-04,\n",
       "         4.59273434e-04,   4.59273434e-04,   4.59273434e-04,\n",
       "         4.59273434e-04,   4.59273434e-04,   4.59273434e-04,\n",
       "         4.59273434e-04,   4.59273434e-04,   4.59273434e-04,\n",
       "         4.59273434e-04,   4.59273434e-04,   4.59273434e-04,\n",
       "         4.59273434e-04,   4.59273434e-04,   4.59273434e-04,\n",
       "         4.59273434e-04,   4.59273434e-04,   4.20435300e-04,\n",
       "         4.01864254e-04,   4.01864254e-04,   4.01864254e-04,\n",
       "         4.01864254e-04,   4.01864254e-04,   4.01864254e-04,\n",
       "         4.01864254e-04,   4.01864254e-04,   4.01864254e-04,\n",
       "         4.01864254e-04,   4.01864254e-04,   4.01864254e-04,\n",
       "         4.01864254e-04,   4.01864254e-04,   4.01864254e-04,\n",
       "         4.01864254e-04,   4.01864254e-04,   4.01864254e-04,\n",
       "         4.01864254e-04,   4.01864254e-04,   4.01864254e-04,\n",
       "         4.01864254e-04,   4.01864254e-04,   4.01864254e-04,\n",
       "         4.01864254e-04,   4.01864254e-04,   4.01864254e-04,\n",
       "         4.01864254e-04,   3.66831337e-04,   3.44455075e-04,\n",
       "         3.44455075e-04,   3.44455075e-04,   3.44455075e-04,\n",
       "         3.44455075e-04,   3.44455075e-04,   3.44455075e-04,\n",
       "         3.44455075e-04,   3.44455075e-04,   3.44455075e-04,\n",
       "         3.44455075e-04,   3.44455075e-04,   3.44455075e-04,\n",
       "         3.44455075e-04,   3.44455075e-04,   3.44455075e-04,\n",
       "         3.44455075e-04,   3.44455075e-04,   3.44455075e-04,\n",
       "         3.44455075e-04,   3.44455075e-04,   3.44455075e-04,\n",
       "         3.44455075e-04,   3.44455075e-04,   3.44455075e-04,\n",
       "         3.44455075e-04,   3.44455075e-04,   3.44455075e-04,\n",
       "         3.44455075e-04,   3.44455075e-04,   3.44455075e-04,\n",
       "         3.44455075e-04,   3.44455075e-04,   3.44455075e-04,\n",
       "         3.44455075e-04,   3.44455075e-04,   3.44455075e-04,\n",
       "         3.44455075e-04,   3.10589545e-04,   2.87045896e-04,\n",
       "         2.87045896e-04,   2.87045896e-04,   2.87045896e-04,\n",
       "         2.87045896e-04,   2.87045896e-04,   2.87045896e-04,\n",
       "         2.87045896e-04,   2.87045896e-04,   2.87045896e-04,\n",
       "         2.87045896e-04,   2.87045896e-04,   2.87045896e-04,\n",
       "         2.87045896e-04,   2.87045896e-04,   2.87045896e-04,\n",
       "         2.87045896e-04,   2.87045896e-04,   2.87045896e-04,\n",
       "         2.87045896e-04,   2.87045896e-04,   2.87045896e-04,\n",
       "         2.87045896e-04,   2.87045896e-04,   2.87045896e-04,\n",
       "         2.87045896e-04,   2.87045896e-04,   2.87045896e-04,\n",
       "         2.87045896e-04,   2.87045896e-04,   2.87045896e-04,\n",
       "         2.87045896e-04,   2.87045896e-04,   2.87045896e-04,\n",
       "         2.87045896e-04,   2.87045896e-04,   2.87045896e-04,\n",
       "         2.87045896e-04,   2.87045896e-04,   2.87045896e-04,\n",
       "         2.87045896e-04,   2.87045896e-04,   2.87045896e-04,\n",
       "         2.87045896e-04,   2.87045896e-04,   2.87045896e-04,\n",
       "         2.87045896e-04,   2.87045896e-04,   2.87045896e-04,\n",
       "         2.87045896e-04,   2.87045896e-04,   2.87045896e-04,\n",
       "         2.87045896e-04,   2.87045896e-04,   2.87045896e-04,\n",
       "         2.87045896e-04,   2.87045896e-04,   2.87045896e-04,\n",
       "         2.48504908e-04,   2.29636717e-04,   2.29636717e-04,\n",
       "         2.29636717e-04,   2.29636717e-04,   2.29636717e-04,\n",
       "         2.29636717e-04,   2.29636717e-04,   2.29636717e-04,\n",
       "         2.29636717e-04,   2.29636717e-04,   2.29636717e-04,\n",
       "         2.29636717e-04,   2.29636717e-04,   2.29636717e-04,\n",
       "         2.29636717e-04,   2.29636717e-04,   2.29636717e-04,\n",
       "         2.29636717e-04,   2.29636717e-04,   2.29636717e-04,\n",
       "         2.29636717e-04,   2.29636717e-04,   2.29636717e-04,\n",
       "         2.29636717e-04,   2.29636717e-04,   2.29636717e-04,\n",
       "         2.29636717e-04,   2.29636717e-04,   2.29636717e-04,\n",
       "         2.29636717e-04,   2.29636717e-04,   2.29636717e-04,\n",
       "         2.29636717e-04,   2.29636717e-04,   2.29636717e-04,\n",
       "         2.29636717e-04,   2.29636717e-04,   2.29636717e-04,\n",
       "         2.29636717e-04,   2.29636717e-04,   2.29636717e-04,\n",
       "         2.29636717e-04,   2.29636717e-04,   2.29636717e-04,\n",
       "         2.29636717e-04,   2.29636717e-04,   2.29636717e-04,\n",
       "         2.29636717e-04,   2.29636717e-04,   2.29636717e-04,\n",
       "         2.29636717e-04,   2.29636717e-04,   2.29636717e-04,\n",
       "         2.29636717e-04,   2.29636717e-04,   2.29636717e-04,\n",
       "         2.29636717e-04,   2.29636717e-04,   2.29636717e-04,\n",
       "         2.29636717e-04,   2.29636717e-04,   2.29636717e-04,\n",
       "         2.29636717e-04,   2.29636717e-04,   2.29636717e-04,\n",
       "         2.29636717e-04,   1.87152758e-04,   1.72227538e-04,\n",
       "         1.72227538e-04,   1.72227538e-04,   1.72227538e-04,\n",
       "         1.72227538e-04,   1.72227538e-04,   1.72227538e-04,\n",
       "         1.72227538e-04,   1.72227538e-04,   1.72227538e-04,\n",
       "         1.72227538e-04,   1.72227538e-04,   1.72227538e-04,\n",
       "         1.72227538e-04,   1.72227538e-04,   1.72227538e-04,\n",
       "         1.72227538e-04,   1.72227538e-04,   1.72227538e-04,\n",
       "         1.72227538e-04,   1.72227538e-04,   1.72227538e-04,\n",
       "         1.72227538e-04,   1.72227538e-04,   1.72227538e-04,\n",
       "         1.72227538e-04,   1.72227538e-04,   1.72227538e-04,\n",
       "         1.72227538e-04,   1.72227538e-04,   1.72227538e-04,\n",
       "         1.72227538e-04,   1.72227538e-04,   1.72227538e-04,\n",
       "         1.72227538e-04,   1.72227538e-04,   1.72227538e-04,\n",
       "         1.72227538e-04,   1.72227538e-04,   1.72227538e-04,\n",
       "         1.72227538e-04,   1.72227538e-04,   1.72227538e-04,\n",
       "         1.72227538e-04,   1.72227538e-04,   1.72227538e-04,\n",
       "         1.72227538e-04,   1.72227538e-04,   1.72227538e-04,\n",
       "         1.72227538e-04,   1.72227538e-04,   1.72227538e-04,\n",
       "         1.72227538e-04,   1.72227538e-04,   1.72227538e-04,\n",
       "         1.72227538e-04,   1.72227538e-04,   1.72227538e-04,\n",
       "         1.72227538e-04,   1.72227538e-04,   1.72227538e-04,\n",
       "         1.72227538e-04,   1.72227538e-04,   1.72227538e-04,\n",
       "         1.72227538e-04,   1.72227538e-04,   1.72227538e-04,\n",
       "         1.72227538e-04,   1.28470547e-04,   1.14818358e-04,\n",
       "         1.14818358e-04,   1.14818358e-04,   1.14818358e-04,\n",
       "         1.14818358e-04,   1.14818358e-04,   1.14818358e-04,\n",
       "         1.14818358e-04,   1.14818358e-04,   1.14818358e-04,\n",
       "         1.14818358e-04,   1.14818358e-04,   1.14818358e-04,\n",
       "         1.14818358e-04,   1.14818358e-04,   1.14818358e-04,\n",
       "         1.14818358e-04,   1.14818358e-04,   1.14818358e-04,\n",
       "         1.14818358e-04,   1.14818358e-04,   1.14818358e-04,\n",
       "         1.14818358e-04,   1.14818358e-04,   1.14818358e-04,\n",
       "         1.14818358e-04,   1.14818358e-04,   1.14818358e-04,\n",
       "         1.14818358e-04,   1.14818358e-04,   1.14818358e-04,\n",
       "         1.14818358e-04,   1.14818358e-04,   1.14818358e-04,\n",
       "         1.14818358e-04,   1.14818358e-04,   1.14818358e-04,\n",
       "         1.14818358e-04,   1.14818358e-04,   1.14818358e-04,\n",
       "         1.14818358e-04,   1.14818358e-04,   1.14818358e-04,\n",
       "         1.14818358e-04,   1.14818358e-04,   1.14818358e-04,\n",
       "         1.14818358e-04,   1.14818358e-04,   1.14818358e-04,\n",
       "         1.14818358e-04,   1.14818358e-04,   1.14818358e-04,\n",
       "         1.14818358e-04,   1.14818358e-04,   1.14818358e-04,\n",
       "         1.14818358e-04,   1.14818358e-04,   1.14818358e-04,\n",
       "         1.14818358e-04,   1.14818358e-04,   1.14818358e-04,\n",
       "         1.14818358e-04,   1.14818358e-04,   1.14818358e-04,\n",
       "         1.14818358e-04,   1.14818358e-04,   1.14818358e-04,\n",
       "         1.14818358e-04,   1.14818358e-04,   1.14818358e-04,\n",
       "         1.14818358e-04,   1.14818358e-04,   1.14818358e-04,\n",
       "         1.14818358e-04,   1.14818358e-04,   1.14818358e-04,\n",
       "         1.14818358e-04,   1.14818358e-04,   1.14818358e-04,\n",
       "         1.14818358e-04,   1.14818358e-04,   1.14818358e-04,\n",
       "         1.14818358e-04,   1.14818358e-04,   6.99475590e-05,\n",
       "         5.74091792e-05,   5.74091792e-05,   5.74091792e-05,\n",
       "         5.74091792e-05,   5.74091792e-05,   5.74091792e-05,\n",
       "         5.74091792e-05,   5.74091792e-05,   5.74091792e-05,\n",
       "         5.74091792e-05,   5.74091792e-05,   5.74091792e-05,\n",
       "         5.74091792e-05,   5.74091792e-05,   5.74091792e-05,\n",
       "         5.74091792e-05,   5.74091792e-05,   5.74091792e-05,\n",
       "         5.74091792e-05,   5.74091792e-05,   5.74091792e-05,\n",
       "         5.74091792e-05,   5.74091792e-05,   5.74091792e-05,\n",
       "         5.74091792e-05,   5.74091792e-05,   5.74091792e-05,\n",
       "         5.74091792e-05,   5.74091792e-05,   5.74091792e-05,\n",
       "         5.74091792e-05,   5.74091792e-05,   5.74091792e-05,\n",
       "         5.74091792e-05,   5.74091792e-05,   5.74091792e-05,\n",
       "         5.74091792e-05,   5.74091792e-05,   5.74091792e-05,\n",
       "         5.74091792e-05,   5.74091792e-05,   5.74091792e-05,\n",
       "         5.74091792e-05,   5.74091792e-05,   5.74091792e-05,\n",
       "         5.74091792e-05,   5.74091792e-05,   5.74091792e-05,\n",
       "         5.74091792e-05,   5.74091792e-05,   5.74091792e-05,\n",
       "         5.74091792e-05,   5.74091792e-05,   5.74091792e-05,\n",
       "         5.74091792e-05,   5.74091792e-05,   5.74091792e-05,\n",
       "         5.74091792e-05,   5.74091792e-05,   5.74091792e-05,\n",
       "         5.74091792e-05,   5.74091792e-05,   5.74091792e-05,\n",
       "         5.74091792e-05,   5.74091792e-05,   5.74091792e-05,\n",
       "         5.74091792e-05,   5.74091792e-05,   5.74091792e-05,\n",
       "         5.74091792e-05,   5.74091792e-05,   5.74091792e-05,\n",
       "         5.74091792e-05,   5.74091792e-05,   5.74091792e-05,\n",
       "         5.74091792e-05,   5.74091792e-05,   5.74091792e-05,\n",
       "         5.74091792e-05,   5.74091792e-05,   5.74091792e-05,\n",
       "         5.74091792e-05,   5.74091792e-05,   5.74091792e-05,\n",
       "         5.74091792e-05,   5.74091792e-05,   5.74091792e-05,\n",
       "         5.74091792e-05,   5.74091792e-05,   5.74091792e-05,\n",
       "         5.74091792e-05,   5.74091792e-05,   5.74091792e-05,\n",
       "         5.74091792e-05,   5.74091792e-05,   5.74091792e-05,\n",
       "         3.67236383e-05,   5.22344299e-33,   5.18279608e-33,\n",
       "         6.78520696e-34,   5.67834853e-34,   3.19347689e-34,\n",
       "         2.60277989e-34,   2.60277989e-34,   2.60277989e-34,\n",
       "         2.60277989e-34,   2.60277989e-34,   2.60277989e-34,\n",
       "         2.60277989e-34,   2.60277989e-34,   2.60277989e-34,\n",
       "         2.60277989e-34,   2.60277989e-34,   2.60277989e-34,\n",
       "         2.60277989e-34,   2.60277989e-34,   2.60277989e-34,\n",
       "         2.60277989e-34,   2.60277989e-34,   2.60277989e-34,\n",
       "         2.60277989e-34,   2.60277989e-34,   2.60277989e-34,\n",
       "         2.60277989e-34,   2.60277989e-34,   2.60277989e-34,\n",
       "         2.60277989e-34,   2.60277989e-34,   2.60277989e-34,\n",
       "         2.60277989e-34,   2.60277989e-34,   2.60277989e-34,\n",
       "         2.60277989e-34,   2.60277989e-34,   2.60277989e-34,\n",
       "         2.60277989e-34,   2.60277989e-34,   2.60277989e-34,\n",
       "         2.60277989e-34,   2.60277989e-34,   2.60277989e-34,\n",
       "         2.60277989e-34,   2.60277989e-34,   2.60277989e-34,\n",
       "         2.60277989e-34,   2.60277989e-34,   2.60277989e-34,\n",
       "         2.60277989e-34,   2.60277989e-34,   2.60277989e-34,\n",
       "         2.60277989e-34,   2.60277989e-34,   2.60277989e-34,\n",
       "         2.60277989e-34,   2.60277989e-34,   2.60277989e-34,\n",
       "         2.60277989e-34,   2.60277989e-34,   2.60277989e-34,\n",
       "         2.60277989e-34,   2.60277989e-34,   2.60277989e-34,\n",
       "         2.60277989e-34,   2.60277989e-34,   2.60277989e-34,\n",
       "         2.60277989e-34,   2.60277989e-34,   2.60277989e-34,\n",
       "         2.60277989e-34,   2.60277989e-34,   2.60277989e-34,\n",
       "         2.60277989e-34,   2.60277989e-34,   2.60277989e-34,\n",
       "         2.60277989e-34,   2.60277989e-34,   2.60277989e-34,\n",
       "         2.60277989e-34,   2.60277989e-34,   2.60277989e-34,\n",
       "         2.60277989e-34,   2.60277989e-34,   2.60277989e-34,\n",
       "         2.60277989e-34,   2.60277989e-34,   2.60277989e-34,\n",
       "         2.60277989e-34,   2.60277989e-34,   2.60277989e-34,\n",
       "         2.60277989e-34,   2.60277989e-34,   2.53367220e-34,\n",
       "         2.10828295e-34,   1.73368637e-34,   1.66182207e-34,\n",
       "         1.49874561e-34,   1.21579692e-34,   1.21570239e-34,\n",
       "         1.17332551e-34,   1.12878844e-34,   1.03086769e-34,\n",
       "         8.48521794e-35,   8.42809281e-35,   7.46072156e-35,\n",
       "         7.30988573e-35,   6.97678543e-35,   6.44003928e-35,\n",
       "         6.30694756e-35,   6.24363648e-35,   6.18798344e-35,\n",
       "         5.12760389e-35,   4.22285904e-35,   4.11649543e-35,\n",
       "         3.99106627e-35,   3.54361235e-35,   3.36757439e-35,\n",
       "         3.22470640e-35,   3.04998857e-35,   2.88299132e-35,\n",
       "         2.85230980e-35,   2.75732356e-35,   2.55910778e-35,\n",
       "         2.54678237e-35,   1.93733870e-35,   1.53881261e-35,\n",
       "         1.45101720e-35,   1.41647329e-35,   1.09285310e-35,\n",
       "         1.06497702e-35,   9.33402910e-36,   7.02932307e-36,\n",
       "         5.58960788e-36,   4.57467065e-36,   3.90695762e-36,\n",
       "         2.14391840e-36])"
      ]
     },
     "execution_count": 46,
     "metadata": {},
     "output_type": "execute_result"
    }
   ],
   "source": [
    "pca.explained_variance_ratio_"
   ]
  },
  {
   "cell_type": "code",
   "execution_count": 49,
   "metadata": {
    "collapsed": false
   },
   "outputs": [
    {
     "data": {
      "text/plain": [
       "18247"
      ]
     },
     "execution_count": 49,
     "metadata": {},
     "output_type": "execute_result"
    }
   ],
   "source": [
    "len(trans_cols)"
   ]
  },
  {
   "cell_type": "markdown",
   "metadata": {},
   "source": [
    "### Try adding the year"
   ]
  },
  {
   "cell_type": "code",
   "execution_count": 74,
   "metadata": {
    "collapsed": false
   },
   "outputs": [
    {
     "data": {
      "text/plain": [
       "RandomForestClassifier(bootstrap=True, class_weight=None, criterion='gini',\n",
       "            max_depth=None, max_features='auto', max_leaf_nodes=None,\n",
       "            min_samples_leaf=1, min_samples_split=2,\n",
       "            min_weight_fraction_leaf=0.0, n_estimators=10, n_jobs=1,\n",
       "            oob_score=False, random_state=None, verbose=0,\n",
       "            warm_start=False)"
      ]
     },
     "execution_count": 74,
     "metadata": {},
     "output_type": "execute_result"
    }
   ],
   "source": [
    "classifier = sklearn.ensemble.RandomForestClassifier()\n",
    "X = bigramed_mathematicians[mcUni1000 + ['numericYear']]\n",
    "y = bigramed_mathematicians.encoded_bigram\n",
    "classifier.fit(X,y)"
   ]
  },
  {
   "cell_type": "code",
   "execution_count": 75,
   "metadata": {
    "collapsed": false
   },
   "outputs": [
    {
     "name": "stdout",
     "output_type": "stream",
     "text": [
      "10986\n",
      "7261\n"
     ]
    }
   ],
   "source": [
    "predictions = classifier.predict(X)\n",
    "zipped_results = list(zip(predictions, y))\n",
    "# number correct\n",
    "print(sum([1 for x in zipped_results if x[0] == x[1]]))\n",
    "# number incorrect\n",
    "print(sum([1 for x in zipped_results if x[0] != x[1]]))"
   ]
  },
  {
   "cell_type": "code",
   "execution_count": 76,
   "metadata": {
    "collapsed": false
   },
   "outputs": [
    {
     "data": {
      "text/plain": [
       "0.6020715734093276"
      ]
     },
     "execution_count": 76,
     "metadata": {},
     "output_type": "execute_result"
    }
   ],
   "source": [
    "sklearn.metrics.accuracy_score(predictions, y)"
   ]
  },
  {
   "cell_type": "markdown",
   "metadata": {},
   "source": [
    "that is a crazy improvement"
   ]
  },
  {
   "cell_type": "markdown",
   "metadata": {},
   "source": [
    "### try adding pca "
   ]
  },
  {
   "cell_type": "code",
   "execution_count": 55,
   "metadata": {
    "collapsed": false
   },
   "outputs": [
    {
     "name": "stdout",
     "output_type": "stream",
     "text": [
      "862\n"
     ]
    }
   ],
   "source": [
    "i=0\n",
    "while pca.explained_variance_ratio_[i]>0.00000000006: i+=1\n",
    "print(i)"
   ]
  },
  {
   "cell_type": "code",
   "execution_count": 58,
   "metadata": {
    "collapsed": true
   },
   "outputs": [],
   "source": [
    "important_cols=trans_cols[:,0:862]"
   ]
  },
  {
   "cell_type": "code",
   "execution_count": 63,
   "metadata": {
    "collapsed": false
   },
   "outputs": [],
   "source": [
    "pca_classifier=sklearn.ensemble.RandomForestClassifier()\n",
    "pca_classifier.fit(important_cols, y)\n",
    "pca_predictions=pca_classifier.predict(important_cols)"
   ]
  },
  {
   "cell_type": "code",
   "execution_count": 65,
   "metadata": {
    "collapsed": false
   },
   "outputs": [
    {
     "data": {
      "text/plain": [
       "0.20545843152299009"
      ]
     },
     "execution_count": 65,
     "metadata": {},
     "output_type": "execute_result"
    }
   ],
   "source": [
    "sklearn.metrics.accuracy_score(pca_predictions, y)"
   ]
  },
  {
   "cell_type": "markdown",
   "metadata": {},
   "source": [
    "### add year to pca analysis"
   ]
  },
  {
   "cell_type": "code",
   "execution_count": 82,
   "metadata": {
    "collapsed": true
   },
   "outputs": [],
   "source": [
    "X = bigramed_mathematicians[mcUni1000+['numericYear']]\n",
    "y = bigramed_mathematicians.encoded_bigram\n",
    "# the whiten scales the dimensions the similar scales\n",
    "pca = sklearn.decomposition.PCA(whiten=True)\n",
    "trans_cols = pca.fit_transform(X)\n"
   ]
  },
  {
   "cell_type": "code",
   "execution_count": 83,
   "metadata": {
    "collapsed": false
   },
   "outputs": [
    {
     "data": {
      "text/plain": [
       "RandomForestClassifier(bootstrap=True, class_weight=None, criterion='gini',\n",
       "            max_depth=None, max_features='auto', max_leaf_nodes=None,\n",
       "            min_samples_leaf=1, min_samples_split=2,\n",
       "            min_weight_fraction_leaf=0.0, n_estimators=10, n_jobs=1,\n",
       "            oob_score=False, random_state=None, verbose=0,\n",
       "            warm_start=False)"
      ]
     },
     "execution_count": 83,
     "metadata": {},
     "output_type": "execute_result"
    }
   ],
   "source": [
    "classifier.fit(X,y)"
   ]
  },
  {
   "cell_type": "code",
   "execution_count": 84,
   "metadata": {
    "collapsed": true
   },
   "outputs": [],
   "source": [
    "y_predict=classifier.predict(X)"
   ]
  },
  {
   "cell_type": "code",
   "execution_count": 85,
   "metadata": {
    "collapsed": false
   },
   "outputs": [
    {
     "data": {
      "text/plain": [
       "0.60103030635172905"
      ]
     },
     "execution_count": 85,
     "metadata": {},
     "output_type": "execute_result"
    }
   ],
   "source": [
    "sklearn.metrics.accuracy_score(y_predict, y)"
   ]
  },
  {
   "cell_type": "markdown",
   "metadata": {},
   "source": [
    "### Try dummy classifier"
   ]
  },
  {
   "cell_type": "code",
   "execution_count": 88,
   "metadata": {
    "collapsed": true
   },
   "outputs": [],
   "source": [
    "dummy=sklearn.dummy.DummyClassifier(strategy='most_frequent')"
   ]
  },
  {
   "cell_type": "code",
   "execution_count": 89,
   "metadata": {
    "collapsed": false
   },
   "outputs": [
    {
     "data": {
      "text/plain": [
       "DummyClassifier(constant=None, random_state=None, strategy='most_frequent')"
      ]
     },
     "execution_count": 89,
     "metadata": {},
     "output_type": "execute_result"
    }
   ],
   "source": [
    "dummy.fit(X,y)"
   ]
  },
  {
   "cell_type": "code",
   "execution_count": 91,
   "metadata": {
    "collapsed": false
   },
   "outputs": [
    {
     "data": {
      "text/plain": [
       "0.12243108456184579"
      ]
     },
     "execution_count": 91,
     "metadata": {},
     "output_type": "execute_result"
    }
   ],
   "source": [
    "sklearn.metrics.accuracy_score(dummy.predict(X), y)"
   ]
  },
  {
   "cell_type": "markdown",
   "metadata": {},
   "source": [
    "so it would appear that the random forest classifier does not a bad job!"
   ]
  },
  {
   "cell_type": "markdown",
   "metadata": {},
   "source": [
    "### Give the decision tree ago"
   ]
  },
  {
   "cell_type": "code",
   "execution_count": null,
   "metadata": {
    "collapsed": true
   },
   "outputs": [],
   "source": []
  },
  {
   "cell_type": "code",
   "execution_count": null,
   "metadata": {
    "collapsed": true
   },
   "outputs": [],
   "source": []
  }
 ],
 "metadata": {
  "kernelspec": {
   "display_name": "Python 3",
   "language": "python",
   "name": "python3"
  },
  "language_info": {
   "codemirror_mode": {
    "name": "ipython",
    "version": 3
   },
   "file_extension": ".py",
   "mimetype": "text/x-python",
   "name": "python",
   "nbconvert_exporter": "python",
   "pygments_lexer": "ipython3",
   "version": "3.5.1"
  }
 },
 "nbformat": 4,
 "nbformat_minor": 0
}
