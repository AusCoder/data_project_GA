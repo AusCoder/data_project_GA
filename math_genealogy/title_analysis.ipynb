{
 "cells": [
  {
   "cell_type": "code",
   "execution_count": 23,
   "metadata": {
    "collapsed": false
   },
   "outputs": [],
   "source": [
    "import pandas as pd\n",
    "import os\n",
    "import numpy as np\n",
    "%matplotlib inline\n",
    "import matplotlib.pyplot as plt\n",
    "\n",
    "import sklearn.cluster\n",
    "import sklearn.preprocessing\n",
    "import nltk"
   ]
  },
  {
   "cell_type": "code",
   "execution_count": 2,
   "metadata": {
    "collapsed": true
   },
   "outputs": [],
   "source": [
    "# read in the csv data\n",
    "mathematicians = pd.read_csv('data/math_data.csv', delimiter=',')\n",
    "\n",
    "# take only those rows with a numeric mathId (the scraping went bad at some points)\n",
    "mathematicians = mathematicians[mathematicians.mathId.apply(lambda x: x.isnumeric())].set_index('mathId')"
   ]
  },
  {
   "cell_type": "code",
   "execution_count": 65,
   "metadata": {
    "collapsed": false
   },
   "outputs": [],
   "source": [
    "# add a row for numeric year\n",
    "years = mathematicians.thesisYear.apply(pd.to_numeric, errors='coerce')\n",
    "# some of the years were doubled up, eg 19771984. Fix in those cases:\n",
    "for idx in years[years > 10000].index:\n",
    "    years[idx] = float(int(years[idx]/10000))\n",
    "# add a column to the dataframe with numeric years\n",
    "mathematicians['numericYear'] = years\n",
    "# filter out some obvious bad ones, this might be throwing out a bunch of my data...\n",
    "mathematicians = mathematicians[(mathematicians.numericYear.isnull() == False)\n",
    "                               & (mathematicians.numericYear > 1000)\n",
    "                               & (mathematicians.thesis.notnull()) \n",
    "                                & (mathematicians.thesisUniversity.notnull())\n",
    "                               & (mathematicians.thesisCountry.notnull())]"
   ]
  },
  {
   "cell_type": "markdown",
   "metadata": {},
   "source": [
    "# Counting most common universities and countries"
   ]
  },
  {
   "cell_type": "code",
   "execution_count": 67,
   "metadata": {
    "collapsed": true
   },
   "outputs": [],
   "source": [
    "encoder = sklearn.preprocessing.LabelEncoder()"
   ]
  },
  {
   "cell_type": "code",
   "execution_count": 68,
   "metadata": {
    "collapsed": false
   },
   "outputs": [
    {
     "data": {
      "text/plain": [
       "array([ 750,  750,  750, ...,  571, 1498, 1375])"
      ]
     },
     "execution_count": 68,
     "metadata": {},
     "output_type": "execute_result"
    }
   ],
   "source": [
    "encoder.fit_transform(mathematicians.thesisUniversity)"
   ]
  },
  {
   "cell_type": "code",
   "execution_count": 69,
   "metadata": {
    "collapsed": false
   },
   "outputs": [
    {
     "data": {
      "text/plain": [
       "array(['(Candidate of Sciences) Novosibirsk State University',\n",
       "       '(Candidate of Sciences) Sobolev Institute of Mathematics Novosibirsk',\n",
       "       \"(Doctorat d'Etat) Université Paris Diderot - Paris 7\", ...,\n",
       "       'ès sciences techniques École Polytechnique Fédérale de Lausanne',\n",
       "       'ès. sc. École Polytechnique Fédérale de Lausanne',\n",
       "       'İstanbul Teknik Üniversitesi'], dtype=object)"
      ]
     },
     "execution_count": 69,
     "metadata": {},
     "output_type": "execute_result"
    }
   ],
   "source": [
    "encoder.classes_"
   ]
  },
  {
   "cell_type": "code",
   "execution_count": 70,
   "metadata": {
    "collapsed": false
   },
   "outputs": [],
   "source": [
    "mcUni500 = list(mathematicians.thesisUniversity.value_counts().head(500).index)"
   ]
  },
  {
   "cell_type": "code",
   "execution_count": 79,
   "metadata": {
    "collapsed": true
   },
   "outputs": [],
   "source": [
    "x = mathematicians[mathematicians.thesisUniversity.isin(mcUni500)]"
   ]
  },
  {
   "cell_type": "code",
   "execution_count": 87,
   "metadata": {
    "collapsed": false
   },
   "outputs": [
    {
     "data": {
      "image/png": "[encoded data removed]",
      "text/plain": [
       "<matplotlib.figure.Figure at 0x7fc784823940>"
      ]
     },
     "metadata": {},
     "output_type": "display_data"
    }
   ],
   "source": [
    "#plt.scatter(x.numericYear, encoder.fit_transform(x.thesisUniversity), c='blue')\n",
    "_x = encoder.fit_transform(x.thesisUniversity)\n",
    "plt.hist(_x, bins=500);"
   ]
  },
  {
   "cell_type": "markdown",
   "metadata": {},
   "source": [
    "# Thesis title analysis"
   ]
  },
  {
   "cell_type": "code",
   "execution_count": 129,
   "metadata": {
    "collapsed": false
   },
   "outputs": [],
   "source": [
    "textblock = '\\n'.join([line for line in mathematicians.thesis])\n",
    "stopwords = nltk.corpus.stopwords.words('german') + \\\n",
    "            nltk.corpus.stopwords.words('english') + \\\n",
    "            [';',',','.',':','(',')','de','la']\n",
    "words = [word.lower() for word in nltk.word_tokenize(textblock) if word.lower() not in stopwords]\n",
    "textobj = nltk.Text(words)"
   ]
  },
  {
   "cell_type": "code",
   "execution_count": 130,
   "metadata": {
    "collapsed": false
   },
   "outputs": [],
   "source": [
    "distobj=nltk.FreqDist(words)"
   ]
  },
  {
   "cell_type": "code",
   "execution_count": 131,
   "metadata": {
    "collapsed": false
   },
   "outputs": [],
   "source": [
    "finder = nltk.collocations.BigramCollocationFinder.from_words(textobj)\n",
    "bigram_measures = nltk.collocations.BigramAssocMeasures()"
   ]
  },
  {
   "cell_type": "code",
   "execution_count": 133,
   "metadata": {
    "collapsed": false
   },
   "outputs": [
    {
     "data": {
      "text/plain": [
       "[(\"'6\", '/6'),\n",
       " (\"'compound\", \"jets'\"),\n",
       " (\"'e\", 'esqueleto'),\n",
       " (\"'equations\", \"diff'erentielles\"),\n",
       " (\"'formalismo\", 'modificado'),\n",
       " (\"'geometrie\", \"dynamen'\"),\n",
       " (\"'n'-dimensionalen\", 'raumen'),\n",
       " (\"'p'-adic\", \"'g'-adic\"),\n",
       " (\"'potential\", \"analogy'\"),\n",
       " (\"'t\", 'hout'),\n",
       " (\"'une\", 'molécule'),\n",
       " (\"'variable'\", 'l**p-boundedness'),\n",
       " ('**', 'ito-formel'),\n",
       " ('*-darstellungen', 'polynomalgebra'),\n",
       " ('*-urejenih', 'celih'),\n",
       " ('*3', '**'),\n",
       " ('*homomorphisms', 'c*w*-algebras'),\n",
       " ('*modules', '*simple'),\n",
       " ('*semi', '*simplicity'),\n",
       " ('*simple', '*rings')]"
      ]
     },
     "execution_count": 133,
     "metadata": {},
     "output_type": "execute_result"
    }
   ],
   "source": [
    "finder.nbest(bigram_measures.pmi, 20)"
   ]
  },
  {
   "cell_type": "code",
   "execution_count": null,
   "metadata": {
    "collapsed": true
   },
   "outputs": [],
   "source": []
  }
 ],
 "metadata": {
  "kernelspec": {
   "display_name": "Python 3",
   "language": "python",
   "name": "python3"
  },
  "language_info": {
   "codemirror_mode": {
    "name": "ipython",
    "version": 3
   },
   "file_extension": ".py",
   "mimetype": "text/x-python",
   "name": "python",
   "nbconvert_exporter": "python",
   "pygments_lexer": "ipython3",
   "version": "3.5.2"
  }
 },
 "nbformat": 4,
 "nbformat_minor": 0
}
