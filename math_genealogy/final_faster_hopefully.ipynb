{
 "cells": [
  {
   "cell_type": "code",
   "execution_count": 1,
   "metadata": {
    "collapsed": false
   },
   "outputs": [],
   "source": [
    "import pandas as pd\n",
    "import os\n",
    "import numpy as np\n",
    "%matplotlib inline\n",
    "import matplotlib.pyplot as plt\n",
    "import io\n",
    "import IPython.display\n",
    "import pydot\n",
    "\n",
    "import sklearn.cluster\n",
    "import sklearn.preprocessing\n",
    "import nltk\n",
    "import sklearn.ensemble\n",
    "import sklearn.decomposition\n",
    "import sklearn.metrics\n",
    "import sklearn.dummy\n",
    "import sklearn.tree\n",
    "import sklearn.svm\n",
    "import sklearn.cross_validation"
   ]
  },
  {
   "cell_type": "code",
   "execution_count": 2,
   "metadata": {
    "collapsed": true
   },
   "outputs": [],
   "source": [
    "# import the csv\n",
    "dirty_mathematicians = pd.read_csv('data/math_data.csv', delimiter=',', na_values=[\"Ph.D.\"])\n",
    "\n",
    "def year_translator(x):\n",
    "    if type(x) == type(\"\"):\n",
    "        try:\n",
    "            return int(x)\n",
    "        except ValueError:\n",
    "            return 0\n",
    "    return x\n",
    "\n",
    "dirty_mathematicians['numericYear'] = dirty_mathematicians.thesisYear.map(year_translator)\n",
    "\n",
    "# get mathematician data\n",
    "mathematicians = dirty_mathematicians[(dirty_mathematicians.numericYear != 0) \n",
    "                                      & (dirty_mathematicians.numericYear.notnull())\n",
    "                                     & (dirty_mathematicians.numericYear < 10000)\n",
    "                                     & (dirty_mathematicians.numericYear > 1000)\n",
    "                                     & (dirty_mathematicians.thesisYear.notnull())\n",
    "                                     & (dirty_mathematicians.thesisUniversity.notnull())\n",
    "                                     & (dirty_mathematicians.thesis.notnull())]"
   ]
  },
  {
   "cell_type": "markdown",
   "metadata": {},
   "source": [
    "# Thesis title analysis\n"
   ]
  },
  {
   "cell_type": "code",
   "execution_count": 3,
   "metadata": {
    "collapsed": true
   },
   "outputs": [],
   "source": [
    "textblock = '\\n'.join([line for line in mathematicians.thesis])\n",
    "stopwords = nltk.corpus.stopwords.words('german') + \\\n",
    "            nltk.corpus.stopwords.words('english') + \\\n",
    "            nltk.corpus.stopwords.words('french') + \\\n",
    "            [';',',','.',':','(',')','de','la','rer','nat']\n",
    "words = [word.lower() for word in nltk.word_tokenize(textblock) if word.lower() not in stopwords]\n",
    "textobj = nltk.Text(words)"
   ]
  },
  {
   "cell_type": "code",
   "execution_count": 4,
   "metadata": {
    "collapsed": true
   },
   "outputs": [],
   "source": [
    "finder = nltk.collocations.BigramCollocationFinder.from_words(textobj)\n",
    "bigram_measures = nltk.collocations.BigramAssocMeasures()"
   ]
  },
  {
   "cell_type": "code",
   "execution_count": 5,
   "metadata": {
    "collapsed": true
   },
   "outputs": [],
   "source": [
    "# take the first 50 most frequent bigrams\n",
    "bigrams = finder.nbest(bigram_measures.raw_freq, 50)"
   ]
  },
  {
   "cell_type": "code",
   "execution_count": 6,
   "metadata": {
    "collapsed": true
   },
   "outputs": [],
   "source": [
    "# run through the rows and see if these 2grams are in the thesis, if so plot the year.\n",
    "def containsBiGram(aString, ngrams=bigrams):\n",
    "    for ngram in ngrams:\n",
    "        if ngram[0] in aString.lower() and ngram[1] in aString.lower():\n",
    "            return True\n",
    "    return False\n",
    "\n",
    "def containsSpecificBiGram(aString, ngram):\n",
    "    return ngram[0] in aString.lower() and ngram[1] in aString.lower()\n",
    "\n",
    "def getFirstBiGram(aString, bigrams):\n",
    "    for bigram in bigrams:\n",
    "        if containsSpecificBiGram(aString, bigram):\n",
    "            return bigram[0] + ' ' + bigram[1]\n",
    "    return \"\""
   ]
  },
  {
   "cell_type": "code",
   "execution_count": 29,
   "metadata": {
    "collapsed": false
   },
   "outputs": [],
   "source": [
    "# encode the bigrams\n",
    "bigram_encoder = sklearn.preprocessing.LabelEncoder()\n",
    "bigram_encoder.fit_transform([x[0]+' '+x[1] for x in bigrams])\n",
    "\n",
    "# put the bigrams into strings for future use\n",
    "bigrams_as_string = [' '.join(bigram) for bigram in bigrams]"
   ]
  },
  {
   "cell_type": "code",
   "execution_count": 30,
   "metadata": {
    "collapsed": false,
    "scrolled": false
   },
   "outputs": [
    {
     "data": {
      "image/png": "[encoded data removed]",
      "text/plain": [
       "<matplotlib.figure.Figure at 0x10f5fd470>"
      ]
     },
     "metadata": {},
     "output_type": "display_data"
    }
   ],
   "source": [
    "# plot the bigrams against year\n",
    "i=0\n",
    "for bigram in bigrams:\n",
    "    s = mathematicians[mathematicians.thesis.map(lambda x: containsSpecificBiGram(x, bigram))].numericYear\n",
    "    plt.scatter(np.array([bigram_encoder.transform(' '.join(bigram)) for x in s]), s, c='blue')\n",
    "    i += 1\n"
   ]
  },
  {
   "cell_type": "code",
   "execution_count": 31,
   "metadata": {
    "collapsed": false
   },
   "outputs": [
    {
     "name": "stdout",
     "output_type": "stream",
     "text": [
      "0  differential equations\n",
      "1  partial differential\n",
      "2  boundary value\n",
      "3  value problems\n",
      "4  time series\n",
      "5  finite element\n",
      "6  dynamical systems\n",
      "7  banach spaces\n",
      "8  optimal control\n",
      "9  numerical methods\n",
      "10  numerical solution\n",
      "11  lie algebras\n",
      "12  finite groups\n",
      "13  second order\n",
      "14  field theory\n",
      "15  theory applications\n",
      "16  ordinary differential\n",
      "17  lie groups\n",
      "18  limit theorems\n",
      "19  integral equations\n"
     ]
    },
    {
     "data": {
      "image/png": "[encoded data removed]",
      "text/plain": [
       "<matplotlib.figure.Figure at 0x125626710>"
      ]
     },
     "metadata": {},
     "output_type": "display_data"
    }
   ],
   "source": [
    "# plot the bigrams against year\n",
    "i=0\n",
    "for bigram in bigrams[0:20]:\n",
    "    s = mathematicians[mathematicians.thesis.map(lambda x: containsSpecificBiGram(x, bigram))].numericYear\n",
    "    plt.scatter(np.array([i for x in s]), s, c='blue')\n",
    "    print(i,' ' + ' '.join(bigram))\n",
    "    i += 1"
   ]
  },
  {
   "cell_type": "markdown",
   "metadata": {},
   "source": [
    "## take away: bad subject classifications...."
   ]
  },
  {
   "cell_type": "code",
   "execution_count": 32,
   "metadata": {
    "collapsed": true
   },
   "outputs": [],
   "source": [
    "# put the mathematicians which contain bigrams into their own data frame:\n",
    "bigramed_mathematicians = mathematicians[mathematicians.thesis.map(lambda x: containsBiGram(x, bigrams))]\n"
   ]
  },
  {
   "cell_type": "code",
   "execution_count": 33,
   "metadata": {
    "collapsed": false
   },
   "outputs": [],
   "source": [
    "# take the most common 1000 or 20 universities\n",
    "mcUni20 = list(bigramed_mathematicians.thesisUniversity.value_counts().head(20).index)"
   ]
  },
  {
   "cell_type": "code",
   "execution_count": 34,
   "metadata": {
    "collapsed": false
   },
   "outputs": [],
   "source": [
    "# get those mathematicians with university in the mcUni2\n",
    "bigramed_mathematicians=bigramed_mathematicians[bigramed_mathematicians.thesisUniversity.isin(mcUni20)]"
   ]
  },
  {
   "cell_type": "code",
   "execution_count": 35,
   "metadata": {
    "collapsed": false,
    "scrolled": true
   },
   "outputs": [
    {
     "data": {
      "image/png": "[encoded data removed]",
      "text/plain": [
       "<matplotlib.figure.Figure at 0x126d9ada0>"
      ]
     },
     "metadata": {},
     "output_type": "display_data"
    }
   ],
   "source": [
    "# there is an outlier, so I gunna remove it... ( to make K-means work! )\n",
    "x=bigramed_mathematicians.numStudents\n",
    "y=bigramed_mathematicians.numDescendants\n",
    "plt.scatter(x,y)\n",
    "\n",
    "# remove that outlier\n",
    "bigramed_mathematicians=bigramed_mathematicians[bigramed_mathematicians.numDescendants<5000]"
   ]
  },
  {
   "cell_type": "markdown",
   "metadata": {},
   "source": [
    "## K means on bigramed mathematicians"
   ]
  },
  {
   "cell_type": "markdown",
   "metadata": {},
   "source": [
    "use clusterer to pick out those mathematicians that have a lot of descendants"
   ]
  },
  {
   "cell_type": "code",
   "execution_count": 62,
   "metadata": {
    "collapsed": false
   },
   "outputs": [
    {
     "name": "stderr",
     "output_type": "stream",
     "text": [
      "/Users/sebastianmueller/miniconda3/lib/python3.5/site-packages/pandas/core/generic.py:2698: SettingWithCopyWarning: \n",
      "A value is trying to be set on a copy of a slice from a DataFrame.\n",
      "Try using .loc[row_indexer,col_indexer] = value instead\n",
      "\n",
      "See the caveats in the documentation: http://pandas.pydata.org/pandas-docs/stable/indexing.html#indexing-view-versus-copy\n",
      "  self[name] = value\n"
     ]
    },
    {
     "data": {
      "text/plain": [
       "<matplotlib.text.Text at 0x126d320b8>"
      ]
     },
     "execution_count": 62,
     "metadata": {},
     "output_type": "execute_result"
    },
    {
     "data": {
      "image/png": "[encoded data removed]",
      "text/plain": [
       "<matplotlib.figure.Figure at 0x1255fe978>"
      ]
     },
     "metadata": {},
     "output_type": "display_data"
    }
   ],
   "source": [
    "clusterer = sklearn.cluster.KMeans(init='k-means++', n_clusters=3)\n",
    "#clusterer = sklearn.cluster.DBSCAN()\n",
    "\n",
    "X=bigramed_mathematicians[['numStudents','numDescendants']]\n",
    "max_desc=X.numDescendants.max()\n",
    "max_stud=X.numStudents.max()\n",
    "X.numDescendants=X.numDescendants/max_desc\n",
    "X.numStudents=X.numStudents/max_stud\n",
    "two_clustering = clusterer.fit_predict(X)\n",
    "rainbow = np.array(['red','blue','green','orange','purple','cyan','teal'])\n",
    "plt.scatter(X.numStudents, X.numDescendants, \n",
    "            color=rainbow[two_clustering])\n",
    "\n",
    "plt.xlabel(\"scaled num students\")\n",
    "plt.ylabel(\"scaled num descendants\")"
   ]
  },
  {
   "cell_type": "code",
   "execution_count": 63,
   "metadata": {
    "collapsed": true
   },
   "outputs": [],
   "source": [
    "# encode the clusters into the dataframe... aka the \"mathematical influencer\"\n",
    "bigramed_mathematicians['influencer']=np.where(clusterer.fit_predict(X)>0,1,0)"
   ]
  },
  {
   "cell_type": "markdown",
   "metadata": {},
   "source": [
    "## Do some one-hot encoding"
   ]
  },
  {
   "cell_type": "code",
   "execution_count": 64,
   "metadata": {
    "collapsed": false
   },
   "outputs": [],
   "source": [
    "# add one hot encoding for the thesis title bigrams\n",
    "for bigram in bigrams:\n",
    "    _bi = ' '.join(bigram)\n",
    "    bigramed_mathematicians[_bi] = np.where(bigramed_mathematicians.thesis.map(lambda x: containsSpecificBiGram(x, bigram)),1,0)"
   ]
  },
  {
   "cell_type": "code",
   "execution_count": 65,
   "metadata": {
    "collapsed": false
   },
   "outputs": [],
   "source": [
    "# add the one hot encoding for the thesis University\n",
    "for uni in mcUni20:\n",
    "    bigramed_mathematicians[uni] = np.where(bigramed_mathematicians.thesisUniversity==uni, 1, 0)"
   ]
  },
  {
   "cell_type": "code",
   "execution_count": 66,
   "metadata": {
    "collapsed": false
   },
   "outputs": [],
   "source": [
    "# add labeled bigrams\n",
    "bigramed_mathematicians['encoded_bigram'] = bigram_encoder.transform(bigramed_mathematicians.thesis.map(lambda x: getFirstBiGram(x, bigrams)))"
   ]
  },
  {
   "cell_type": "code",
   "execution_count": 67,
   "metadata": {
    "collapsed": false
   },
   "outputs": [],
   "source": [
    "# encode the university\n",
    "uni_encoder = sklearn.preprocessing.LabelEncoder()\n",
    "bigramed_mathematicians['encoded_uni']=uni_encoder.fit_transform(bigramed_mathematicians.thesisUniversity)"
   ]
  },
  {
   "cell_type": "code",
   "execution_count": 68,
   "metadata": {
    "collapsed": true
   },
   "outputs": [],
   "source": [
    "# encode the country\n",
    "country_encoder = sklearn.preprocessing.LabelEncoder()\n",
    "bigramed_mathematicians['encoded_country']=country_encoder.fit_transform(bigramed_mathematicians.thesisCountry)"
   ]
  },
  {
   "cell_type": "markdown",
   "metadata": {},
   "source": [
    "### try predicting area of study from university and year"
   ]
  },
  {
   "cell_type": "markdown",
   "metadata": {},
   "source": [
    "#### Started with Random Forest"
   ]
  },
  {
   "cell_type": "markdown",
   "metadata": {},
   "source": [
    "first I didn't include the year"
   ]
  },
  {
   "cell_type": "code",
   "execution_count": 26,
   "metadata": {
    "collapsed": false
   },
   "outputs": [],
   "source": [
    "X = bigramed_mathematicians[mcUni20]\n",
    "y = bigramed_mathematicians.encoded_bigram"
   ]
  },
  {
   "cell_type": "code",
   "execution_count": 27,
   "metadata": {
    "collapsed": false
   },
   "outputs": [
    {
     "data": {
      "text/plain": [
       "0.12345424567188788"
      ]
     },
     "execution_count": 27,
     "metadata": {},
     "output_type": "execute_result"
    }
   ],
   "source": [
    "classifier = sklearn.ensemble.RandomForestClassifier()\n",
    "classifier.fit(X,y)\n",
    "predictions = classifier.predict(X)\n",
    "sklearn.metrics.accuracy_score(predictions, y)"
   ]
  },
  {
   "cell_type": "markdown",
   "metadata": {},
   "source": [
    "#### Decision Tree"
   ]
  },
  {
   "cell_type": "code",
   "execution_count": 28,
   "metadata": {
    "collapsed": true
   },
   "outputs": [],
   "source": [
    "X = bigramed_mathematicians[mcUni20+['numericYear','numStudents','numDescendants']]\n",
    "y = bigramed_mathematicians.encoded_bigram"
   ]
  },
  {
   "cell_type": "code",
   "execution_count": 29,
   "metadata": {
    "collapsed": false
   },
   "outputs": [
    {
     "data": {
      "text/plain": [
       "0.58017312448474856"
      ]
     },
     "execution_count": 29,
     "metadata": {},
     "output_type": "execute_result"
    }
   ],
   "source": [
    "classifier = sklearn.tree.DecisionTreeClassifier(criterion='gini', max_depth=50)\n",
    "classifier.fit(X,y)\n",
    "predictions = classifier.predict(X)\n",
    "sklearn.metrics.accuracy_score(predictions, y)"
   ]
  },
  {
   "cell_type": "markdown",
   "metadata": {},
   "source": [
    "#### Random Forest"
   ]
  },
  {
   "cell_type": "code",
   "execution_count": 30,
   "metadata": {
    "collapsed": false
   },
   "outputs": [],
   "source": [
    "X = bigramed_mathematicians[mcUni20+['numericYear','numStudents','numDescendants']]\n",
    "y = bigramed_mathematicians.encoded_bigram"
   ]
  },
  {
   "cell_type": "code",
   "execution_count": 31,
   "metadata": {
    "collapsed": false
   },
   "outputs": [
    {
     "data": {
      "text/plain": [
       "0.56883759274525969"
      ]
     },
     "execution_count": 31,
     "metadata": {},
     "output_type": "execute_result"
    }
   ],
   "source": [
    "classifier = sklearn.ensemble.RandomForestClassifier()\n",
    "classifier.fit(X,y)\n",
    "predictions = classifier.predict(X)\n",
    "sklearn.metrics.accuracy_score(predictions, y)"
   ]
  },
  {
   "cell_type": "markdown",
   "metadata": {},
   "source": [
    "#### SVM classifier"
   ]
  },
  {
   "cell_type": "code",
   "execution_count": 32,
   "metadata": {
    "collapsed": false
   },
   "outputs": [],
   "source": [
    "X = bigramed_mathematicians[mcUni20+['numericYear','numStudents','numDescendants']]\n",
    "y = bigramed_mathematicians.encoded_bigram"
   ]
  },
  {
   "cell_type": "code",
   "execution_count": 33,
   "metadata": {
    "collapsed": false
   },
   "outputs": [
    {
     "data": {
      "text/plain": [
       "SVC(C=1.0, cache_size=200, class_weight=None, coef0=0.0,\n",
       "  decision_function_shape=None, degree=3, gamma='auto', kernel='rbf',\n",
       "  max_iter=-1, probability=False, random_state=None, shrinking=True,\n",
       "  tol=0.001, verbose=False)"
      ]
     },
     "execution_count": 33,
     "metadata": {},
     "output_type": "execute_result"
    }
   ],
   "source": [
    "svc = sklearn.svm.SVC(kernel='rbf')\n",
    "svc.fit(X,y)\n"
   ]
  },
  {
   "cell_type": "code",
   "execution_count": 34,
   "metadata": {
    "collapsed": false
   },
   "outputs": [
    {
     "data": {
      "text/plain": [
       "0.56883759274525969"
      ]
     },
     "execution_count": 34,
     "metadata": {},
     "output_type": "execute_result"
    }
   ],
   "source": [
    "predictions1 = classifier.predict(X)\n",
    "sklearn.metrics.accuracy_score(predictions1, y)"
   ]
  },
  {
   "cell_type": "code",
   "execution_count": 35,
   "metadata": {
    "collapsed": false
   },
   "outputs": [
    {
     "data": {
      "text/plain": [
       "1.0"
      ]
     },
     "execution_count": 35,
     "metadata": {},
     "output_type": "execute_result"
    }
   ],
   "source": [
    "sklearn.metrics.accuracy_score(predictions,predictions1)"
   ]
  },
  {
   "cell_type": "code",
   "execution_count": 36,
   "metadata": {
    "collapsed": false
   },
   "outputs": [
    {
     "data": {
      "text/plain": [
       "4852"
      ]
     },
     "execution_count": 36,
     "metadata": {},
     "output_type": "execute_result"
    }
   ],
   "source": [
    "zipped_results=zip(predictions,predictions1)\n",
    "sum([1 for x in zipped_results if x[0] == x[1]])"
   ]
  },
  {
   "cell_type": "markdown",
   "metadata": {},
   "source": [
    "do it properly with test/train split and cross_validation"
   ]
  },
  {
   "cell_type": "code",
   "execution_count": 37,
   "metadata": {
    "collapsed": false
   },
   "outputs": [],
   "source": [
    "X_train,X_test,y_train,y_test=sklearn.cross_validation.train_test_split(X,y)"
   ]
  },
  {
   "cell_type": "code",
   "execution_count": 38,
   "metadata": {
    "collapsed": false
   },
   "outputs": [
    {
     "data": {
      "text/plain": [
       "0.085737840065952184"
      ]
     },
     "execution_count": 38,
     "metadata": {},
     "output_type": "execute_result"
    }
   ],
   "source": [
    "rf=sklearn.ensemble.RandomForestClassifier()\n",
    "rf.fit(X_train,y_train)\n",
    "y_predict=rf.predict(X_test)\n",
    "sklearn.metrics.accuracy_score(y_predict,y_test)"
   ]
  },
  {
   "cell_type": "code",
   "execution_count": 39,
   "metadata": {
    "collapsed": false
   },
   "outputs": [
    {
     "data": {
      "text/plain": [
       "0.10222588623248145"
      ]
     },
     "execution_count": 39,
     "metadata": {},
     "output_type": "execute_result"
    }
   ],
   "source": [
    "dummy=sklearn.dummy.DummyClassifier(strategy='most_frequent')\n",
    "dummy.fit(X_train,y_train)\n",
    "y_predict=dummy.predict(X_test)\n",
    "sklearn.metrics.accuracy_score(y_predict,y_test)"
   ]
  },
  {
   "cell_type": "markdown",
   "metadata": {},
   "source": [
    "oh no... thats not very good.."
   ]
  },
  {
   "cell_type": "markdown",
   "metadata": {},
   "source": [
    "## Try predicting univeristy  from area of study and other stuff"
   ]
  },
  {
   "cell_type": "markdown",
   "metadata": {},
   "source": [
    "#### Random Forests"
   ]
  },
  {
   "cell_type": "code",
   "execution_count": 41,
   "metadata": {
    "collapsed": false
   },
   "outputs": [
    {
     "name": "stdout",
     "output_type": "stream",
     "text": [
      "on itself:  0.611088211047\n",
      "cross val:  0.114591920857\n"
     ]
    }
   ],
   "source": [
    "X = bigramed_mathematicians[bigrams_as_string+['numericYear']]\n",
    "y = bigramed_mathematicians.encoded_uni\n",
    "classifier = sklearn.ensemble.RandomForestClassifier()\n",
    "classifier.fit(X,y)\n",
    "predictions = classifier.predict(X)\n",
    "print(\"on itself: \", sklearn.metrics.accuracy_score(predictions, y))\n",
    "X_train,X_test,y_train,y_test=sklearn.cross_validation.train_test_split(X,y)\n",
    "classifier.fit(X_train, y_train)\n",
    "print(\"cross val: \", sklearn.metrics.accuracy_score(classifier.predict(X_test),y_test))"
   ]
  },
  {
   "cell_type": "markdown",
   "metadata": {},
   "source": [
    "#### SVM"
   ]
  },
  {
   "cell_type": "code",
   "execution_count": 42,
   "metadata": {
    "collapsed": false
   },
   "outputs": [
    {
     "name": "stdout",
     "output_type": "stream",
     "text": [
      "on itself:  0.119126133553\n",
      "cross val:  0.107996702391\n"
     ]
    }
   ],
   "source": [
    "X = bigramed_mathematicians[bigrams_as_string+['numericYear']]\n",
    "y = bigramed_mathematicians.encoded_uni\n",
    "classifier = sklearn.svm.SVC()\n",
    "classifier.fit(X,y)\n",
    "predictions = classifier.predict(X)\n",
    "print(\"on itself: \", sklearn.metrics.accuracy_score(predictions, y))\n",
    "X_train,X_test,y_train,y_test=sklearn.cross_validation.train_test_split(X,y)\n",
    "classifier.fit(X_train, y_train)\n",
    "print(\"cross val: \", sklearn.metrics.accuracy_score(classifier.predict(X_test),y_test))"
   ]
  },
  {
   "cell_type": "markdown",
   "metadata": {},
   "source": [
    "#### Decision Tree"
   ]
  },
  {
   "cell_type": "code",
   "execution_count": 43,
   "metadata": {
    "collapsed": false
   },
   "outputs": [
    {
     "name": "stdout",
     "output_type": "stream",
     "text": [
      "on itself:  0.134583676834\n",
      "cross val:  0.103874690849\n"
     ]
    }
   ],
   "source": [
    "X = bigramed_mathematicians[bigrams_as_string+['numericYear']]\n",
    "y = bigramed_mathematicians.encoded_uni\n",
    "classifier = sklearn.tree.DecisionTreeClassifier(criterion='gini', max_depth=5)\n",
    "classifier.fit(X,y)\n",
    "predictions = classifier.predict(X)\n",
    "print(\"on itself: \", sklearn.metrics.accuracy_score(predictions, y))\n",
    "X_train,X_test,y_train,y_test=sklearn.cross_validation.train_test_split(X,y)\n",
    "classifier.fit(X_train, y_train)\n",
    "print(\"cross val: \", sklearn.metrics.accuracy_score(classifier.predict(X_test),y_test))"
   ]
  },
  {
   "cell_type": "markdown",
   "metadata": {},
   "source": [
    "## Try predicting the mathematical influencers"
   ]
  },
  {
   "cell_type": "code",
   "execution_count": 75,
   "metadata": {
    "collapsed": true
   },
   "outputs": [],
   "source": [
    "# these are the features to use to predict with. Doesnt make sense to use numStudents and numDescendants here\n",
    "features=mcUni20 + bigrams_as_string + ['numericYear']"
   ]
  },
  {
   "cell_type": "markdown",
   "metadata": {},
   "source": [
    "#### Random Forest"
   ]
  },
  {
   "cell_type": "code",
   "execution_count": 76,
   "metadata": {
    "collapsed": false,
    "scrolled": true
   },
   "outputs": [
    {
     "name": "stdout",
     "output_type": "stream",
     "text": [
      "on itself:  0.973413025556\n",
      "cross val:  0.882934872218\n"
     ]
    }
   ],
   "source": [
    "X = bigramed_mathematicians[features]\n",
    "y = bigramed_mathematicians.influencer\n",
    "classifier = sklearn.ensemble.RandomForestClassifier()\n",
    "classifier.fit(X,y)\n",
    "predictions = classifier.predict(X)\n",
    "print(\"on itself: \", sklearn.metrics.accuracy_score(predictions, y))\n",
    "X_train,X_test,y_train,y_test=sklearn.cross_validation.train_test_split(X,y)\n",
    "classifier.fit(X_train, y_train)\n",
    "print(\"cross val: \", sklearn.metrics.accuracy_score(classifier.predict(X_test),y_test))"
   ]
  },
  {
   "cell_type": "markdown",
   "metadata": {},
   "source": [
    "#### SVC"
   ]
  },
  {
   "cell_type": "code",
   "execution_count": 77,
   "metadata": {
    "collapsed": false
   },
   "outputs": [
    {
     "name": "stdout",
     "output_type": "stream",
     "text": [
      "on itself:  0.903751030503\n",
      "cross val:  0.903544929926\n"
     ]
    }
   ],
   "source": [
    "X = bigramed_mathematicians[features]\n",
    "y = bigramed_mathematicians.influencer\n",
    "classifier = sklearn.svm.SVC()\n",
    "classifier.fit(X,y)\n",
    "predictions = classifier.predict(X)\n",
    "print(\"on itself: \", sklearn.metrics.accuracy_score(predictions, y))\n",
    "X_train,X_test,y_train,y_test=sklearn.cross_validation.train_test_split(X,y)\n",
    "classifier.fit(X_train, y_train)\n",
    "print(\"cross val: \", sklearn.metrics.accuracy_score(classifier.predict(X_test),y_test))"
   ]
  },
  {
   "cell_type": "markdown",
   "metadata": {},
   "source": [
    "#### Logistic Regression"
   ]
  },
  {
   "cell_type": "code",
   "execution_count": 78,
   "metadata": {
    "collapsed": false
   },
   "outputs": [
    {
     "name": "stdout",
     "output_type": "stream",
     "text": [
      "on itself:  0.903751030503\n",
      "cross val:  0.911788953009\n"
     ]
    }
   ],
   "source": [
    "X = bigramed_mathematicians[features]\n",
    "y = bigramed_mathematicians.influencer\n",
    "classifier = sklearn.linear_model.LogisticRegression()\n",
    "classifier.fit(X,y)\n",
    "predictions = classifier.predict(X)\n",
    "print(\"on itself: \", sklearn.metrics.accuracy_score(predictions, y))\n",
    "X_train,X_test,y_train,y_test=sklearn.cross_validation.train_test_split(X,y)\n",
    "classifier.fit(X_train, y_train)\n",
    "print(\"cross val: \", sklearn.metrics.accuracy_score(classifier.predict(X_test),y_test))"
   ]
  },
  {
   "cell_type": "markdown",
   "metadata": {},
   "source": [
    "#### Dummy classifier"
   ]
  },
  {
   "cell_type": "code",
   "execution_count": 79,
   "metadata": {
    "collapsed": false
   },
   "outputs": [
    {
     "name": "stdout",
     "output_type": "stream",
     "text": [
      "on itself:  0.903751030503\n",
      "cross val:  0.900247320692\n"
     ]
    }
   ],
   "source": [
    "X = bigramed_mathematicians[features]\n",
    "y = bigramed_mathematicians.influencer\n",
    "classifier = sklearn.dummy.DummyClassifier(strategy='most_frequent')\n",
    "classifier.fit(X,y)\n",
    "predictions = classifier.predict(X)\n",
    "print(\"on itself: \", sklearn.metrics.accuracy_score(predictions, y))\n",
    "X_train,X_test,y_train,y_test=sklearn.cross_validation.train_test_split(X,y)\n",
    "classifier.fit(X_train, y_train)\n",
    "print(\"cross val: \", sklearn.metrics.accuracy_score(classifier.predict(X_test),y_test))"
   ]
  },
  {
   "cell_type": "markdown",
   "metadata": {},
   "source": [
    "# K-means clustering"
   ]
  },
  {
   "cell_type": "code",
   "execution_count": 53,
   "metadata": {
    "collapsed": false
   },
   "outputs": [
    {
     "data": {
      "text/plain": [
       "<matplotlib.text.Text at 0x12ce71550>"
      ]
     },
     "execution_count": 53,
     "metadata": {},
     "output_type": "execute_result"
    },
    {
     "data": {
      "image/png": "[encoded data removed]",
      "text/plain": [
       "<matplotlib.figure.Figure at 0x11c9e51d0>"
      ]
     },
     "metadata": {},
     "output_type": "display_data"
    }
   ],
   "source": [
    "# a plot of year vs number of descendants\n",
    "#\n",
    "# as you would expect, there are several old mathematicians with huge numbers of descendants\n",
    "d=mathematicians[mathematicians.numDescendants>100]\n",
    "x = d.numericYear\n",
    "y = d.numDescendants\n",
    "plt.scatter(x,y, color='blue')\n",
    "plt.xlabel('year')\n",
    "plt.ylabel('number of descendants')"
   ]
  },
  {
   "cell_type": "code",
   "execution_count": 56,
   "metadata": {
    "collapsed": false
   },
   "outputs": [
    {
     "data": {
      "text/plain": [
       "<matplotlib.text.Text at 0x15d9d79b0>"
      ]
     },
     "execution_count": 56,
     "metadata": {},
     "output_type": "execute_result"
    },
    {
     "data": {
      "image/png": "[encoded data removed]",
      "text/plain": [
       "<matplotlib.figure.Figure at 0x181172a58>"
      ]
     },
     "metadata": {},
     "output_type": "display_data"
    }
   ],
   "source": [
    "d=mathematicians\n",
    "x = d.numDescendants\n",
    "y = d.numStudents\n",
    "plt.scatter(x,y, color='red')\n",
    "plt.xlabel('year')\n",
    "plt.ylabel('number of descendants')"
   ]
  },
  {
   "cell_type": "markdown",
   "metadata": {
    "collapsed": true
   },
   "source": [
    "# Try predicting numDescendants based on subject, year, university..."
   ]
  },
  {
   "cell_type": "code",
   "execution_count": 87,
   "metadata": {
    "collapsed": true
   },
   "outputs": [],
   "source": [
    "# add column for > 2000 descendants"
   ]
  },
  {
   "cell_type": "code",
   "execution_count": 88,
   "metadata": {
    "collapsed": true
   },
   "outputs": [],
   "source": [
    "X = bigramed_mathematicians[mcUni20+['numericYear','numStudents']]\n",
    "y = bigramed_mathematicians.numDescendants"
   ]
  },
  {
   "cell_type": "code",
   "execution_count": 89,
   "metadata": {
    "collapsed": false
   },
   "outputs": [
    {
     "ename": "ValueError",
     "evalue": "Can't handle mix of continuous and multiclass",
     "output_type": "error",
     "traceback": [
      "\u001b[0;31m---------------------------------------------------------------------------\u001b[0m",
      "\u001b[0;31mValueError\u001b[0m                                Traceback (most recent call last)",
      "\u001b[0;32m<ipython-input-89-5f37a973ab32>\u001b[0m in \u001b[0;36m<module>\u001b[0;34m()\u001b[0m\n\u001b[1;32m      2\u001b[0m \u001b[0mclassifier\u001b[0m\u001b[0;34m.\u001b[0m\u001b[0mfit\u001b[0m\u001b[0;34m(\u001b[0m\u001b[0mX\u001b[0m\u001b[0;34m,\u001b[0m\u001b[0my\u001b[0m\u001b[0;34m)\u001b[0m\u001b[0;34m\u001b[0m\u001b[0m\n\u001b[1;32m      3\u001b[0m \u001b[0mpredictions\u001b[0m \u001b[0;34m=\u001b[0m \u001b[0mclassifier\u001b[0m\u001b[0;34m.\u001b[0m\u001b[0mpredict\u001b[0m\u001b[0;34m(\u001b[0m\u001b[0mX\u001b[0m\u001b[0;34m)\u001b[0m\u001b[0;34m\u001b[0m\u001b[0m\n\u001b[0;32m----> 4\u001b[0;31m \u001b[0msklearn\u001b[0m\u001b[0;34m.\u001b[0m\u001b[0mmetrics\u001b[0m\u001b[0;34m.\u001b[0m\u001b[0maccuracy_score\u001b[0m\u001b[0;34m(\u001b[0m\u001b[0mpredictions\u001b[0m\u001b[0;34m,\u001b[0m \u001b[0my\u001b[0m\u001b[0;34m)\u001b[0m\u001b[0;34m\u001b[0m\u001b[0m\n\u001b[0m",
      "\u001b[0;32m/Users/sebastianmueller/miniconda3/lib/python3.5/site-packages/sklearn/metrics/classification.py\u001b[0m in \u001b[0;36maccuracy_score\u001b[0;34m(y_true, y_pred, normalize, sample_weight)\u001b[0m\n\u001b[1;32m    170\u001b[0m \u001b[0;34m\u001b[0m\u001b[0m\n\u001b[1;32m    171\u001b[0m     \u001b[0;31m# Compute accuracy for each possible representation\u001b[0m\u001b[0;34m\u001b[0m\u001b[0;34m\u001b[0m\u001b[0m\n\u001b[0;32m--> 172\u001b[0;31m     \u001b[0my_type\u001b[0m\u001b[0;34m,\u001b[0m \u001b[0my_true\u001b[0m\u001b[0;34m,\u001b[0m \u001b[0my_pred\u001b[0m \u001b[0;34m=\u001b[0m \u001b[0m_check_targets\u001b[0m\u001b[0;34m(\u001b[0m\u001b[0my_true\u001b[0m\u001b[0;34m,\u001b[0m \u001b[0my_pred\u001b[0m\u001b[0;34m)\u001b[0m\u001b[0;34m\u001b[0m\u001b[0m\n\u001b[0m\u001b[1;32m    173\u001b[0m     \u001b[0;32mif\u001b[0m \u001b[0my_type\u001b[0m\u001b[0;34m.\u001b[0m\u001b[0mstartswith\u001b[0m\u001b[0;34m(\u001b[0m\u001b[0;34m'multilabel'\u001b[0m\u001b[0;34m)\u001b[0m\u001b[0;34m:\u001b[0m\u001b[0;34m\u001b[0m\u001b[0m\n\u001b[1;32m    174\u001b[0m         \u001b[0mdiffering_labels\u001b[0m \u001b[0;34m=\u001b[0m \u001b[0mcount_nonzero\u001b[0m\u001b[0;34m(\u001b[0m\u001b[0my_true\u001b[0m \u001b[0;34m-\u001b[0m \u001b[0my_pred\u001b[0m\u001b[0;34m,\u001b[0m \u001b[0maxis\u001b[0m\u001b[0;34m=\u001b[0m\u001b[0;36m1\u001b[0m\u001b[0;34m)\u001b[0m\u001b[0;34m\u001b[0m\u001b[0m\n",
      "\u001b[0;32m/Users/sebastianmueller/miniconda3/lib/python3.5/site-packages/sklearn/metrics/classification.py\u001b[0m in \u001b[0;36m_check_targets\u001b[0;34m(y_true, y_pred)\u001b[0m\n\u001b[1;32m     80\u001b[0m     \u001b[0;32mif\u001b[0m \u001b[0mlen\u001b[0m\u001b[0;34m(\u001b[0m\u001b[0my_type\u001b[0m\u001b[0;34m)\u001b[0m \u001b[0;34m>\u001b[0m \u001b[0;36m1\u001b[0m\u001b[0;34m:\u001b[0m\u001b[0;34m\u001b[0m\u001b[0m\n\u001b[1;32m     81\u001b[0m         raise ValueError(\"Can't handle mix of {0} and {1}\"\n\u001b[0;32m---> 82\u001b[0;31m                          \"\".format(type_true, type_pred))\n\u001b[0m\u001b[1;32m     83\u001b[0m \u001b[0;34m\u001b[0m\u001b[0m\n\u001b[1;32m     84\u001b[0m     \u001b[0;31m# We can't have more than one value on y_type => The set is no more needed\u001b[0m\u001b[0;34m\u001b[0m\u001b[0;34m\u001b[0m\u001b[0m\n",
      "\u001b[0;31mValueError\u001b[0m: Can't handle mix of continuous and multiclass"
     ]
    }
   ],
   "source": [
    "classifier = sklearn.svm.SVR()\n",
    "classifier.fit(X,y)\n",
    "predictions = classifier.predict(X)\n",
    "sklearn.metrics.accuracy_score(predictions, y)"
   ]
  },
  {
   "cell_type": "code",
   "execution_count": null,
   "metadata": {
    "collapsed": true
   },
   "outputs": [],
   "source": []
  }
 ],
 "metadata": {
  "kernelspec": {
   "display_name": "Python 3",
   "language": "python",
   "name": "python3"
  },
  "language_info": {
   "codemirror_mode": {
    "name": "ipython",
    "version": 3
   },
   "file_extension": ".py",
   "mimetype": "text/x-python",
   "name": "python",
   "nbconvert_exporter": "python",
   "pygments_lexer": "ipython3",
   "version": "3.5.1"
  }
 },
 "nbformat": 4,
 "nbformat_minor": 0
}
