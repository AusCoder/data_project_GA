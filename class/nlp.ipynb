{
 "cells": [
  {
   "cell_type": "code",
   "execution_count": 20,
   "metadata": {
    "collapsed": false
   },
   "outputs": [],
   "source": [
    "%matplotlib inline\n",
    "import matplotlib.pyplot\n",
    "import nltk"
   ]
  },
  {
   "cell_type": "code",
   "execution_count": 21,
   "metadata": {
    "collapsed": false
   },
   "outputs": [
    {
     "name": "stdout",
     "output_type": "stream",
     "text": [
      "[u'austen-emma.txt', u'austen-persuasion.txt', u'austen-sense.txt', u'bible-kjv.txt', u'blake-poems.txt', u'bryant-stories.txt', u'burgess-busterbrown.txt', u'carroll-alice.txt', u'chesterton-ball.txt', u'chesterton-brown.txt', u'chesterton-thursday.txt', u'edgeworth-parents.txt', u'melville-moby_dick.txt', u'milton-paradise.txt', u'shakespeare-caesar.txt', u'shakespeare-hamlet.txt', u'shakespeare-macbeth.txt', u'whitman-leaves.txt']\n"
     ]
    }
   ],
   "source": [
    "print nltk.corpus.gutenberg.fileids()"
   ]
  },
  {
   "cell_type": "code",
   "execution_count": 22,
   "metadata": {
    "collapsed": false
   },
   "outputs": [],
   "source": [
    "alice = nltk.corpus.gutenberg.raw('carroll-alice.txt')\n",
    "ham = nltk.corpus.gutenberg.raw('shakespeare-hamlet.txt')"
   ]
  },
  {
   "cell_type": "code",
   "execution_count": 23,
   "metadata": {
    "collapsed": false
   },
   "outputs": [
    {
     "data": {
      "text/plain": [
       "['I am sitting in data science class.', 'I also have an annoying cough.']"
      ]
     },
     "execution_count": 23,
     "metadata": {},
     "output_type": "execute_result"
    }
   ],
   "source": [
    "nltk.sent_tokenize(\"I am sitting in data science class. I also have an annoying cough.\")"
   ]
  },
  {
   "cell_type": "code",
   "execution_count": 24,
   "metadata": {
    "collapsed": false
   },
   "outputs": [],
   "source": [
    "# this gives a list of lists of words\n",
    "ham_sents = nltk.corpus.gutenberg.sents('shakespeare-hamlet.txt')"
   ]
  },
  {
   "cell_type": "code",
   "execution_count": 25,
   "metadata": {
    "collapsed": false
   },
   "outputs": [
    {
     "data": {
      "text/plain": [
       "['Spaces', 'are', 'used', 'to', 'delimit', 'words', 'in', 'english', '!']"
      ]
     },
     "execution_count": 25,
     "metadata": {},
     "output_type": "execute_result"
    }
   ],
   "source": [
    "nltk.word_tokenize(\"Spaces are used to delimit words in english!\")"
   ]
  },
  {
   "cell_type": "code",
   "execution_count": 26,
   "metadata": {
    "collapsed": false
   },
   "outputs": [
    {
     "data": {
      "text/plain": [
       "['You', 'wo', \"n't\", 'expect', 'this', '.']"
      ]
     },
     "execution_count": 26,
     "metadata": {},
     "output_type": "execute_result"
    }
   ],
   "source": [
    "nltk.word_tokenize(\"You won't expect this.\")"
   ]
  },
  {
   "cell_type": "code",
   "execution_count": 27,
   "metadata": {
    "collapsed": false
   },
   "outputs": [
    {
     "data": {
      "text/plain": [
       "[u'[', u'The', u'Tragedie', u'of', u'Hamlet', u'by', ...]"
      ]
     },
     "execution_count": 27,
     "metadata": {},
     "output_type": "execute_result"
    }
   ],
   "source": [
    "nltk.corpus.gutenberg.words('shakespeare-hamlet.txt')"
   ]
  },
  {
   "cell_type": "code",
   "execution_count": 28,
   "metadata": {
    "collapsed": false
   },
   "outputs": [
    {
     "data": {
      "text/plain": [
       "[['This', 'is', 'a', 'first', 'sentence', '.'], ['Here', 'is', 'another', '.']]"
      ]
     },
     "execution_count": 28,
     "metadata": {},
     "output_type": "execute_result"
    }
   ],
   "source": [
    "[nltk.word_tokenize(s) for s in nltk.sent_tokenize(\"This is a first sentence. Here is another.\")]"
   ]
  },
  {
   "cell_type": "markdown",
   "metadata": {},
   "source": [
    "# Lexical Diversity\n"
   ]
  },
  {
   "cell_type": "code",
   "execution_count": 29,
   "metadata": {
    "collapsed": true
   },
   "outputs": [],
   "source": [
    "def is_a_real_word(x):\n",
    "    return x not in \".,[]:;?&'-!\""
   ]
  },
  {
   "cell_type": "code",
   "execution_count": 30,
   "metadata": {
    "collapsed": true
   },
   "outputs": [],
   "source": [
    "ham_words = [ x.lower() for x \n",
    "             in nltk.corpus.gutenberg.words(\"shakespeare-hamlet.txt\")\n",
    "             if is_a_real_word(x)\n",
    "             ]"
   ]
  },
  {
   "cell_type": "code",
   "execution_count": 31,
   "metadata": {
    "collapsed": false
   },
   "outputs": [
    {
     "data": {
      "text/plain": [
       "[u'the',\n",
       " u'tragedie',\n",
       " u'of',\n",
       " u'hamlet',\n",
       " u'by',\n",
       " u'william',\n",
       " u'shakespeare',\n",
       " u'1599',\n",
       " u'actus',\n",
       " u'primus',\n",
       " u'scoena',\n",
       " u'prima',\n",
       " u'enter',\n",
       " u'barnardo',\n",
       " u'and',\n",
       " u'francisco',\n",
       " u'two',\n",
       " u'centinels',\n",
       " u'barnardo',\n",
       " u'who',\n",
       " u's',\n",
       " u'there',\n",
       " u'fran',\n",
       " u'nay',\n",
       " u'answer',\n",
       " u'me',\n",
       " u'stand',\n",
       " u'vnfold',\n",
       " u'your',\n",
       " u'selfe',\n",
       " u'bar',\n",
       " u'long',\n",
       " u'liue',\n",
       " u'the',\n",
       " u'king',\n",
       " u'fran',\n",
       " u'barnardo',\n",
       " u'bar',\n",
       " u'he',\n",
       " u'fran',\n",
       " u'you',\n",
       " u'come',\n",
       " u'most',\n",
       " u'carefully',\n",
       " u'vpon',\n",
       " u'your',\n",
       " u'houre',\n",
       " u'bar',\n",
       " u'tis',\n",
       " u'now',\n",
       " u'strook',\n",
       " u'twelue',\n",
       " u'get',\n",
       " u'thee',\n",
       " u'to',\n",
       " u'bed',\n",
       " u'francisco',\n",
       " u'fran',\n",
       " u'for',\n",
       " u'this',\n",
       " u'releefe',\n",
       " u'much',\n",
       " u'thankes',\n",
       " u'tis',\n",
       " u'bitter',\n",
       " u'cold',\n",
       " u'and',\n",
       " u'i',\n",
       " u'am',\n",
       " u'sicke',\n",
       " u'at',\n",
       " u'heart',\n",
       " u'barn',\n",
       " u'haue',\n",
       " u'you',\n",
       " u'had',\n",
       " u'quiet',\n",
       " u'guard',\n",
       " u'fran',\n",
       " u'not',\n",
       " u'a',\n",
       " u'mouse',\n",
       " u'stirring',\n",
       " u'barn',\n",
       " u'well',\n",
       " u'goodnight',\n",
       " u'if',\n",
       " u'you',\n",
       " u'do',\n",
       " u'meet',\n",
       " u'horatio',\n",
       " u'and',\n",
       " u'marcellus',\n",
       " u'the',\n",
       " u'riuals',\n",
       " u'of',\n",
       " u'my',\n",
       " u'watch',\n",
       " u'bid',\n",
       " u'them',\n",
       " u'make',\n",
       " u'hast',\n",
       " u'enter',\n",
       " u'horatio',\n",
       " u'and',\n",
       " u'marcellus',\n",
       " u'fran',\n",
       " u'i',\n",
       " u'thinke',\n",
       " u'i',\n",
       " u'heare',\n",
       " u'them',\n",
       " u'stand',\n",
       " u'who',\n",
       " u's',\n",
       " u'there',\n",
       " u'hor',\n",
       " u'friends',\n",
       " u'to',\n",
       " u'this',\n",
       " u'ground',\n",
       " u'mar',\n",
       " u'and',\n",
       " u'leige',\n",
       " u'men',\n",
       " u'to',\n",
       " u'the',\n",
       " u'dane',\n",
       " u'fran',\n",
       " u'giue',\n",
       " u'you',\n",
       " u'good',\n",
       " u'night',\n",
       " u'mar',\n",
       " u'o',\n",
       " u'farwel',\n",
       " u'honest',\n",
       " u'soldier',\n",
       " u'who',\n",
       " u'hath',\n",
       " u'relieu',\n",
       " u'd',\n",
       " u'you',\n",
       " u'fra',\n",
       " u'barnardo',\n",
       " u'ha',\n",
       " u's',\n",
       " u'my',\n",
       " u'place',\n",
       " u'giue',\n",
       " u'you',\n",
       " u'goodnight',\n",
       " u'exit',\n",
       " u'fran',\n",
       " u'mar',\n",
       " u'holla',\n",
       " u'barnardo',\n",
       " u'bar',\n",
       " u'say',\n",
       " u'what',\n",
       " u'is',\n",
       " u'horatio',\n",
       " u'there',\n",
       " u'hor',\n",
       " u'a',\n",
       " u'peece',\n",
       " u'of',\n",
       " u'him',\n",
       " u'bar',\n",
       " u'welcome',\n",
       " u'horatio',\n",
       " u'welcome',\n",
       " u'good',\n",
       " u'marcellus',\n",
       " u'mar',\n",
       " u'what',\n",
       " u'ha',\n",
       " u's',\n",
       " u'this',\n",
       " u'thing',\n",
       " u'appear',\n",
       " u'd',\n",
       " u'againe',\n",
       " u'to',\n",
       " u'night',\n",
       " u'bar',\n",
       " u'i',\n",
       " u'haue',\n",
       " u'seene',\n",
       " u'nothing',\n",
       " u'mar',\n",
       " u'horatio',\n",
       " u'saies',\n",
       " u'tis',\n",
       " u'but',\n",
       " u'our',\n",
       " u'fantasie',\n",
       " u'and',\n",
       " u'will',\n",
       " u'not',\n",
       " u'let',\n",
       " u'beleefe',\n",
       " u'take',\n",
       " u'hold',\n",
       " u'of',\n",
       " u'him',\n",
       " u'touching',\n",
       " u'this',\n",
       " u'dreaded',\n",
       " u'sight',\n",
       " u'twice',\n",
       " u'seene',\n",
       " u'of',\n",
       " u'vs',\n",
       " u'therefore',\n",
       " u'i',\n",
       " u'haue',\n",
       " u'intreated',\n",
       " u'him',\n",
       " u'along',\n",
       " u'with',\n",
       " u'vs',\n",
       " u'to',\n",
       " u'watch',\n",
       " u'the',\n",
       " u'minutes',\n",
       " u'of',\n",
       " u'this',\n",
       " u'night',\n",
       " u'that',\n",
       " u'if',\n",
       " u'againe',\n",
       " u'this',\n",
       " u'apparition',\n",
       " u'come',\n",
       " u'he',\n",
       " u'may',\n",
       " u'approue',\n",
       " u'our',\n",
       " u'eyes',\n",
       " u'and',\n",
       " u'speake',\n",
       " u'to',\n",
       " u'it',\n",
       " u'hor',\n",
       " u'tush',\n",
       " u'tush',\n",
       " u'twill',\n",
       " u'not',\n",
       " u'appeare',\n",
       " u'bar',\n",
       " u'sit',\n",
       " u'downe',\n",
       " u'a',\n",
       " u'while',\n",
       " u'and',\n",
       " u'let',\n",
       " u'vs',\n",
       " u'once',\n",
       " u'againe',\n",
       " u'assaile',\n",
       " u'your',\n",
       " u'eares',\n",
       " u'that',\n",
       " u'are',\n",
       " u'so',\n",
       " u'fortified',\n",
       " u'against',\n",
       " u'our',\n",
       " u'story',\n",
       " u'what',\n",
       " u'we',\n",
       " u'two',\n",
       " u'nights',\n",
       " u'haue',\n",
       " u'seene',\n",
       " u'hor',\n",
       " u'well',\n",
       " u'sit',\n",
       " u'we',\n",
       " u'downe',\n",
       " u'and',\n",
       " u'let',\n",
       " u'vs',\n",
       " u'heare',\n",
       " u'barnardo',\n",
       " u'speake',\n",
       " u'of',\n",
       " u'this',\n",
       " u'barn',\n",
       " u'last',\n",
       " u'night',\n",
       " u'of',\n",
       " u'all',\n",
       " u'when',\n",
       " u'yond',\n",
       " u'same',\n",
       " u'starre',\n",
       " u'that',\n",
       " u's',\n",
       " u'westward',\n",
       " u'from',\n",
       " u'the',\n",
       " u'pole',\n",
       " u'had',\n",
       " u'made',\n",
       " u'his',\n",
       " u'course',\n",
       " u't',\n",
       " u'illume',\n",
       " u'that',\n",
       " u'part',\n",
       " u'of',\n",
       " u'heauen',\n",
       " u'where',\n",
       " u'now',\n",
       " u'it',\n",
       " u'burnes',\n",
       " u'marcellus',\n",
       " u'and',\n",
       " u'my',\n",
       " u'selfe',\n",
       " u'the',\n",
       " u'bell',\n",
       " u'then',\n",
       " u'beating',\n",
       " u'one',\n",
       " u'mar',\n",
       " u'peace',\n",
       " u'breake',\n",
       " u'thee',\n",
       " u'of',\n",
       " u'enter',\n",
       " u'the',\n",
       " u'ghost',\n",
       " u'looke',\n",
       " u'where',\n",
       " u'it',\n",
       " u'comes',\n",
       " u'againe',\n",
       " u'barn',\n",
       " u'in',\n",
       " u'the',\n",
       " u'same',\n",
       " u'figure',\n",
       " u'like',\n",
       " u'the',\n",
       " u'king',\n",
       " u'that',\n",
       " u's',\n",
       " u'dead',\n",
       " u'mar',\n",
       " u'thou',\n",
       " u'art',\n",
       " u'a',\n",
       " u'scholler',\n",
       " u'speake',\n",
       " u'to',\n",
       " u'it',\n",
       " u'horatio',\n",
       " u'barn',\n",
       " u'lookes',\n",
       " u'it',\n",
       " u'not',\n",
       " u'like',\n",
       " u'the',\n",
       " u'king',\n",
       " u'marke',\n",
       " u'it',\n",
       " u'horatio',\n",
       " u'hora',\n",
       " u'most',\n",
       " u'like',\n",
       " u'it',\n",
       " u'harrowes',\n",
       " u'me',\n",
       " u'with',\n",
       " u'fear',\n",
       " u'wonder',\n",
       " u'barn',\n",
       " u'it',\n",
       " u'would',\n",
       " u'be',\n",
       " u'spoke',\n",
       " u'too',\n",
       " u'mar',\n",
       " u'question',\n",
       " u'it',\n",
       " u'horatio',\n",
       " u'hor',\n",
       " u'what',\n",
       " u'art',\n",
       " u'thou',\n",
       " u'that',\n",
       " u'vsurp',\n",
       " u'st',\n",
       " u'this',\n",
       " u'time',\n",
       " u'of',\n",
       " u'night',\n",
       " u'together',\n",
       " u'with',\n",
       " u'that',\n",
       " u'faire',\n",
       " u'and',\n",
       " u'warlike',\n",
       " u'forme',\n",
       " u'in',\n",
       " u'which',\n",
       " u'the',\n",
       " u'maiesty',\n",
       " u'of',\n",
       " u'buried',\n",
       " u'denmarke',\n",
       " u'did',\n",
       " u'sometimes',\n",
       " u'march',\n",
       " u'by',\n",
       " u'heauen',\n",
       " u'i',\n",
       " u'charge',\n",
       " u'thee',\n",
       " u'speake',\n",
       " u'mar',\n",
       " u'it',\n",
       " u'is',\n",
       " u'offended',\n",
       " u'barn',\n",
       " u'see',\n",
       " u'it',\n",
       " u'stalkes',\n",
       " u'away',\n",
       " u'hor',\n",
       " u'stay',\n",
       " u'speake',\n",
       " u'speake',\n",
       " u'i',\n",
       " u'charge',\n",
       " u'thee',\n",
       " u'speake',\n",
       " u'exit',\n",
       " u'the',\n",
       " u'ghost',\n",
       " u'mar',\n",
       " u'tis',\n",
       " u'gone',\n",
       " u'and',\n",
       " u'will',\n",
       " u'not',\n",
       " u'answer',\n",
       " u'barn',\n",
       " u'how',\n",
       " u'now',\n",
       " u'horatio',\n",
       " u'you',\n",
       " u'tremble',\n",
       " u'look',\n",
       " u'pale',\n",
       " u'is',\n",
       " u'not',\n",
       " u'this',\n",
       " u'something',\n",
       " u'more',\n",
       " u'then',\n",
       " u'fantasie',\n",
       " u'what',\n",
       " u'thinke',\n",
       " u'you',\n",
       " u'on',\n",
       " u't',\n",
       " u'hor',\n",
       " u'before',\n",
       " u'my',\n",
       " u'god',\n",
       " u'i',\n",
       " u'might',\n",
       " u'not',\n",
       " u'this',\n",
       " u'beleeue',\n",
       " u'without',\n",
       " u'the',\n",
       " u'sensible',\n",
       " u'and',\n",
       " u'true',\n",
       " u'auouch',\n",
       " u'of',\n",
       " u'mine',\n",
       " u'owne',\n",
       " u'eyes',\n",
       " u'mar',\n",
       " u'is',\n",
       " u'it',\n",
       " u'not',\n",
       " u'like',\n",
       " u'the',\n",
       " u'king',\n",
       " u'hor',\n",
       " u'as',\n",
       " u'thou',\n",
       " u'art',\n",
       " u'to',\n",
       " u'thy',\n",
       " u'selfe',\n",
       " u'such',\n",
       " u'was',\n",
       " u'the',\n",
       " u'very',\n",
       " u'armour',\n",
       " u'he',\n",
       " u'had',\n",
       " u'on',\n",
       " u'when',\n",
       " u'th',\n",
       " u'ambitious',\n",
       " u'norwey',\n",
       " u'combatted',\n",
       " u'so',\n",
       " u'frown',\n",
       " u'd',\n",
       " u'he',\n",
       " u'once',\n",
       " u'when',\n",
       " u'in',\n",
       " u'an',\n",
       " u'angry',\n",
       " u'parle',\n",
       " u'he',\n",
       " u'smot',\n",
       " u'the',\n",
       " u'sledded',\n",
       " u'pollax',\n",
       " u'on',\n",
       " u'the',\n",
       " u'ice',\n",
       " u'tis',\n",
       " u'strange',\n",
       " u'mar',\n",
       " u'thus',\n",
       " u'twice',\n",
       " u'before',\n",
       " u'and',\n",
       " u'iust',\n",
       " u'at',\n",
       " u'this',\n",
       " u'dead',\n",
       " u'houre',\n",
       " u'with',\n",
       " u'martiall',\n",
       " u'stalke',\n",
       " u'hath',\n",
       " u'he',\n",
       " u'gone',\n",
       " u'by',\n",
       " u'our',\n",
       " u'watch',\n",
       " u'hor',\n",
       " u'in',\n",
       " u'what',\n",
       " u'particular',\n",
       " u'thought',\n",
       " u'to',\n",
       " u'work',\n",
       " u'i',\n",
       " u'know',\n",
       " u'not',\n",
       " u'but',\n",
       " u'in',\n",
       " u'the',\n",
       " u'grosse',\n",
       " u'and',\n",
       " u'scope',\n",
       " u'of',\n",
       " u'my',\n",
       " u'opinion',\n",
       " u'this',\n",
       " u'boades',\n",
       " u'some',\n",
       " u'strange',\n",
       " u'erruption',\n",
       " u'to',\n",
       " u'our',\n",
       " u'state',\n",
       " u'mar',\n",
       " u'good',\n",
       " u'now',\n",
       " u'sit',\n",
       " u'downe',\n",
       " u'tell',\n",
       " u'me',\n",
       " u'he',\n",
       " u'that',\n",
       " u'knowes',\n",
       " u'why',\n",
       " u'this',\n",
       " u'same',\n",
       " u'strict',\n",
       " u'and',\n",
       " u'most',\n",
       " u'obseruant',\n",
       " u'watch',\n",
       " u'so',\n",
       " u'nightly',\n",
       " u'toyles',\n",
       " u'the',\n",
       " u'subiect',\n",
       " u'of',\n",
       " u'the',\n",
       " u'land',\n",
       " u'and',\n",
       " u'why',\n",
       " u'such',\n",
       " u'dayly',\n",
       " u'cast',\n",
       " u'of',\n",
       " u'brazon',\n",
       " u'cannon',\n",
       " u'and',\n",
       " u'forraigne',\n",
       " u'mart',\n",
       " u'for',\n",
       " u'implements',\n",
       " u'of',\n",
       " u'warre',\n",
       " u'why',\n",
       " u'such',\n",
       " u'impresse',\n",
       " u'of',\n",
       " u'ship',\n",
       " u'wrights',\n",
       " u'whose',\n",
       " u'sore',\n",
       " u'taske',\n",
       " u'do',\n",
       " u's',\n",
       " u'not',\n",
       " u'diuide',\n",
       " u'the',\n",
       " u'sunday',\n",
       " u'from',\n",
       " u'the',\n",
       " u'weeke',\n",
       " u'what',\n",
       " u'might',\n",
       " u'be',\n",
       " u'toward',\n",
       " u'that',\n",
       " u'this',\n",
       " u'sweaty',\n",
       " u'hast',\n",
       " u'doth',\n",
       " u'make',\n",
       " u'the',\n",
       " u'night',\n",
       " u'ioynt',\n",
       " u'labourer',\n",
       " u'with',\n",
       " u'the',\n",
       " u'day',\n",
       " u'who',\n",
       " u'is',\n",
       " u't',\n",
       " u'that',\n",
       " u'can',\n",
       " u'informe',\n",
       " u'me',\n",
       " u'hor',\n",
       " u'that',\n",
       " u'can',\n",
       " u'i',\n",
       " u'at',\n",
       " u'least',\n",
       " u'the',\n",
       " u'whisper',\n",
       " u'goes',\n",
       " u'so',\n",
       " u'our',\n",
       " u'last',\n",
       " u'king',\n",
       " u'whose',\n",
       " u'image',\n",
       " u'euen',\n",
       " u'but',\n",
       " u'now',\n",
       " u'appear',\n",
       " u'd',\n",
       " u'to',\n",
       " u'vs',\n",
       " u'was',\n",
       " u'(',\n",
       " u'as',\n",
       " u'you',\n",
       " u'know',\n",
       " u')',\n",
       " u'by',\n",
       " u'fortinbras',\n",
       " u'of',\n",
       " u'norway',\n",
       " u'(',\n",
       " u'thereto',\n",
       " u'prick',\n",
       " u'd',\n",
       " u'on',\n",
       " u'by',\n",
       " u'a',\n",
       " u'most',\n",
       " u'emulate',\n",
       " u'pride',\n",
       " u')',\n",
       " u'dar',\n",
       " u'd',\n",
       " u'to',\n",
       " u'the',\n",
       " u'combate',\n",
       " u'in',\n",
       " u'which',\n",
       " u'our',\n",
       " u'valiant',\n",
       " u'hamlet',\n",
       " u'(',\n",
       " u'for',\n",
       " u'so',\n",
       " u'this',\n",
       " u'side',\n",
       " u'of',\n",
       " u'our',\n",
       " u'knowne',\n",
       " u'world',\n",
       " u'esteem',\n",
       " u'd',\n",
       " u'him',\n",
       " u')',\n",
       " u'did',\n",
       " u'slay',\n",
       " u'this',\n",
       " u'fortinbras',\n",
       " u'who',\n",
       " u'by',\n",
       " u'a',\n",
       " u'seal',\n",
       " u'd',\n",
       " u'compact',\n",
       " u'well',\n",
       " u'ratified',\n",
       " u'by',\n",
       " u'law',\n",
       " u'and',\n",
       " u'heraldrie',\n",
       " u'did',\n",
       " u'forfeite',\n",
       " u'(',\n",
       " u'with',\n",
       " u'his',\n",
       " u'life',\n",
       " u')',\n",
       " u'all',\n",
       " u'those',\n",
       " u'his',\n",
       " u'lands',\n",
       " u'which',\n",
       " u'he',\n",
       " u'stood',\n",
       " u'seiz',\n",
       " u'd',\n",
       " u'on',\n",
       " u'to',\n",
       " u'the',\n",
       " u'conqueror',\n",
       " u'against',\n",
       " u'the',\n",
       " u'which',\n",
       " u'a',\n",
       " u'moity',\n",
       " u'competent',\n",
       " u'was',\n",
       " u'gaged',\n",
       " u'by',\n",
       " u'our',\n",
       " u'king',\n",
       " u'which',\n",
       " u'had',\n",
       " u'return',\n",
       " u'd',\n",
       " u'to',\n",
       " u'the',\n",
       " u'inheritance',\n",
       " u'of',\n",
       " u'fortinbras',\n",
       " u'had',\n",
       " u'he',\n",
       " u'bin',\n",
       " u'vanquisher',\n",
       " u'as',\n",
       " u'by',\n",
       " u'the',\n",
       " u'same',\n",
       " u'cou',\n",
       " u'nant',\n",
       " u'and',\n",
       " u'carriage',\n",
       " u'of',\n",
       " u'the',\n",
       " u'article',\n",
       " u'designe',\n",
       " u'his',\n",
       " u'fell',\n",
       " u'to',\n",
       " u'hamlet',\n",
       " u'now',\n",
       " u'sir',\n",
       " u'young',\n",
       " u'fortinbras',\n",
       " u'of',\n",
       " u'vnimproued',\n",
       " u'mettle',\n",
       " u'hot',\n",
       " u'and',\n",
       " u'full',\n",
       " u'hath',\n",
       " u'in',\n",
       " u'the',\n",
       " u'skirts',\n",
       " u'of',\n",
       " u'norway',\n",
       " u'heere',\n",
       " u'and',\n",
       " u'there',\n",
       " u'shark',\n",
       " u'd',\n",
       " u'vp',\n",
       " u'a',\n",
       " u'list',\n",
       " u'of',\n",
       " u'landlesse',\n",
       " u'resolutes',\n",
       " u'for',\n",
       " u'foode',\n",
       " u'and',\n",
       " u'diet',\n",
       " u'to',\n",
       " u'some',\n",
       " u'enterprize',\n",
       " u'that',\n",
       " u'hath',\n",
       " u'a',\n",
       " u'stomacke',\n",
       " u'in',\n",
       " u't',\n",
       " u'which',\n",
       " u'is',\n",
       " u'no',\n",
       " u'other',\n",
       " u'(',\n",
       " u'and',\n",
       " u'it',\n",
       " u'doth',\n",
       " u'well',\n",
       " u'appeare',\n",
       " u'vnto',\n",
       " u'our',\n",
       " u'state',\n",
       " u')',\n",
       " u'but',\n",
       " u'to',\n",
       " u'recouer',\n",
       " u'of',\n",
       " u'vs',\n",
       " u'by',\n",
       " u'strong',\n",
       " u'hand',\n",
       " u'and',\n",
       " u'termes',\n",
       " u'compulsatiue',\n",
       " u'those',\n",
       " u'foresaid',\n",
       " u'lands',\n",
       " u'so',\n",
       " u'by',\n",
       " u'his',\n",
       " u'father',\n",
       " u'lost',\n",
       " u'and',\n",
       " u'this',\n",
       " u'(',\n",
       " u'i',\n",
       " u'take',\n",
       " u'it',\n",
       " u')',\n",
       " u'is',\n",
       " u'the',\n",
       " u'maine',\n",
       " u'motiue',\n",
       " u'of',\n",
       " u'our',\n",
       " u'preparations',\n",
       " u'the',\n",
       " u'sourse',\n",
       " u'of',\n",
       " u'this',\n",
       " u'our',\n",
       " u'watch',\n",
       " u'and',\n",
       " u'the',\n",
       " u'cheefe',\n",
       " u'head',\n",
       " u'of',\n",
       " u'this',\n",
       " u'post',\n",
       " u'hast',\n",
       " u'and',\n",
       " u'romage',\n",
       " u'in',\n",
       " u'the',\n",
       " u'land',\n",
       " u'enter',\n",
       " u'ghost',\n",
       " u'againe',\n",
       " u'but',\n",
       " u'soft',\n",
       " u'behold',\n",
       " u'loe',\n",
       " u'where',\n",
       " u'it',\n",
       " u'comes',\n",
       " u'againe',\n",
       " u'ile',\n",
       " u'crosse',\n",
       " u'it',\n",
       " u'though',\n",
       " u'it',\n",
       " u'blast',\n",
       " u'me',\n",
       " u'stay',\n",
       " u'illusion',\n",
       " u'if',\n",
       " u'thou',\n",
       " u'hast',\n",
       " u'any',\n",
       " u'sound',\n",
       " u'or',\n",
       " u'vse',\n",
       " u'of',\n",
       " u'voyce',\n",
       " u'speake',\n",
       " u'to',\n",
       " u'me',\n",
       " u'if',\n",
       " u'there',\n",
       " u'be',\n",
       " u'any',\n",
       " u'good',\n",
       " u'thing',\n",
       " u'to',\n",
       " u'be',\n",
       " u'done',\n",
       " u'that',\n",
       " u'may',\n",
       " u'to',\n",
       " u'thee',\n",
       " u'do',\n",
       " u'ease',\n",
       " u'and',\n",
       " u'grace',\n",
       " u'to',\n",
       " u'me',\n",
       " u'speak',\n",
       " u'to',\n",
       " u'me',\n",
       " u'if',\n",
       " u'thou',\n",
       " u'art',\n",
       " u'priuy',\n",
       " u'to',\n",
       " u'thy',\n",
       " u'countries',\n",
       " u'fate',\n",
       " u'(',\n",
       " u'which',\n",
       " u'happily',\n",
       " u'foreknowing',\n",
       " u'may',\n",
       " u'auoyd',\n",
       " u')',\n",
       " u'oh',\n",
       " u'speake',\n",
       " u'or',\n",
       " u'if',\n",
       " u'thou',\n",
       " u'hast',\n",
       " u'vp',\n",
       " u'hoorded',\n",
       " u'in',\n",
       " u'thy',\n",
       " u'life',\n",
       " u'extorted',\n",
       " u'treasure',\n",
       " u'in',\n",
       " u'the',\n",
       " u'wombe',\n",
       " u'of',\n",
       " u'earth',\n",
       " ...]"
      ]
     },
     "execution_count": 31,
     "metadata": {},
     "output_type": "execute_result"
    }
   ],
   "source": [
    "ham_words"
   ]
  },
  {
   "cell_type": "code",
   "execution_count": 32,
   "metadata": {
    "collapsed": true
   },
   "outputs": [],
   "source": [
    "ham_dist_words = set(ham_words)"
   ]
  },
  {
   "cell_type": "code",
   "execution_count": 33,
   "metadata": {
    "collapsed": false
   },
   "outputs": [
    {
     "name": "stdout",
     "output_type": "stream",
     "text": [
      "4705\n",
      "30363\n"
     ]
    }
   ],
   "source": [
    "# word counts\n",
    "print len(ham_dist_words)\n",
    "print len(ham_words)"
   ]
  },
  {
   "cell_type": "code",
   "execution_count": 34,
   "metadata": {
    "collapsed": false,
    "scrolled": true
   },
   "outputs": [
    {
     "name": "stdout",
     "output_type": "stream",
     "text": [
      "0.15495833745\n"
     ]
    }
   ],
   "source": [
    "# compute lexical diversity\n",
    "print len(ham_dist_words)*1.0 / len(ham_words)"
   ]
  },
  {
   "cell_type": "code",
   "execution_count": 35,
   "metadata": {
    "collapsed": true
   },
   "outputs": [],
   "source": [
    "hamlet_text_obj = nltk.Text(nltk.corpus.gutenberg.words(\"shakespeare-hamlet.txt\"))"
   ]
  },
  {
   "cell_type": "code",
   "execution_count": 36,
   "metadata": {
    "collapsed": false
   },
   "outputs": [
    {
     "name": "stdout",
     "output_type": "stream",
     "text": [
      "Displaying 25 of 40 matches:\n",
      ". Well , goodnight . If you do meet Horatio and Marcellus , the Riuals of my Wa\n",
      " Watch , bid them make hast . Enter Horatio and Marcellus . Fran . I thinke I h\n",
      " Holla Barnardo Bar . Say , what is Horatio there ? Hor . A peece of him Bar . \n",
      " Hor . A peece of him Bar . Welcome Horatio , welcome good Marcellus Mar . What\n",
      "ht Bar . I haue seene nothing Mar . Horatio saies , ' tis but our Fantasie , An\n",
      " Thou art a Scholler ; speake to it Horatio Barn . Lookes it not like the King \n",
      "kes it not like the King ? Marke it Horatio Hora . Most like : It harrowes me w\n",
      "ould be spoke too Mar . Question it Horatio Hor . What art thou that vsurp ' st\n",
      " and will not answer Barn . How now Horatio ? You tremble & look pale : Is not \n",
      ", for I must hold my tongue . Enter Horatio , Barnardo , and Marcellus . Hor . \n",
      "p Ham . I am glad to see you well : Horatio , or I do forget my selfe Hor . The\n",
      ": And what make you from Wittenberg Horatio ? Marcellus Mar . My good Lord Ham \n",
      "lowed hard vpon Ham . Thrift thrift Horatio : the Funerall Bakt - meats Did col\n",
      "uen , Ere I had euer seene that day Horatio . My father , me thinkes I see my f\n",
      "e my Lord ? Ham . In my minds eye ( Horatio ) Hor . I saw him once ; he was a g\n",
      "y my Lord . Exeunt . Enter Hamlet , Horatio , Marcellus . Ham . The Ayre bites \n",
      " within . My Lord , my Lord . Enter Horatio and Marcellus . Mar . Lord Hamlet H\n",
      "e more things in Heauen and Earth , Horatio , Then are dream ' t of in our Phil\n",
      " . We will my Lord . Exeunt . Enter Horatio . Ham . What hoa , Horatio ? Hora .\n",
      " . Enter Horatio . Ham . What hoa , Horatio ? Hora . Heere sweet Lord , at your\n",
      " sweet Lord , at your Seruice Ham . Horatio , thou art eene as iust a man As er\n",
      " , Lights . Exeunt . Manet Hamlet & Horatio . Ham . Why let the strucken Deere \n",
      "ou might haue Rim ' d Ham . Oh good Horatio , Ile take the Ghosts word for a th\n",
      "afely on . Enter . Enter Queene and Horatio . Qu . I will not speake with her H\n",
      "ray you go with me . Exeunt . Enter Horatio , with an Attendant . Hora . What a\n"
     ]
    }
   ],
   "source": [
    "# get context\n",
    "hamlet_text_obj.concordance('Horatio')"
   ]
  },
  {
   "cell_type": "code",
   "execution_count": 37,
   "metadata": {
    "collapsed": false
   },
   "outputs": [
    {
     "name": "stdout",
     "output_type": "stream",
     "text": [
      ",_, and_. (_) :_, thrift_: meet_and now_? ,_? day_. wittenberg_?\n",
      "welcome_, is_there lord_, returne_. good_wait dye_: and_ham him_,\n",
      "enter_, ._,\n"
     ]
    }
   ],
   "source": [
    "hamlet_text_obj.common_contexts(['Horatio'])"
   ]
  },
  {
   "cell_type": "code",
   "execution_count": 38,
   "metadata": {
    "collapsed": false
   },
   "outputs": [
    {
     "name": "stdout",
     "output_type": "stream",
     "text": [
      "hamlet laertes king ophelia polonius well come go guildensterne now\n",
      "out lord oh sir no queene mother adue ha gentlemen\n"
     ]
    }
   ],
   "source": [
    "hamlet_text_obj.similar('Horatio')"
   ]
  },
  {
   "cell_type": "code",
   "execution_count": 44,
   "metadata": {
    "collapsed": false
   },
   "outputs": [
    {
     "data": {
      "image/png": "[encoded data removed]",
      "text/plain": [
       "<matplotlib.figure.Figure at 0x113c5a050>"
      ]
     },
     "metadata": {},
     "output_type": "display_data"
    }
   ],
   "source": [
    "hamlet_text_obj.dispersion_plot(['Horatio', 'Ophelia', 'Guildensterne', 'Hamlet', 'King', 'Polonius'])"
   ]
  },
  {
   "cell_type": "code",
   "execution_count": 45,
   "metadata": {
    "collapsed": false
   },
   "outputs": [
    {
     "data": {
      "text/plain": [
       "[Synset('car.n.01'),\n",
       " Synset('car.n.02'),\n",
       " Synset('car.n.03'),\n",
       " Synset('car.n.04'),\n",
       " Synset('cable_car.n.01')]"
      ]
     },
     "execution_count": 45,
     "metadata": {},
     "output_type": "execute_result"
    }
   ],
   "source": [
    "# synsets: different means for the same word?\n",
    "nltk.corpus.wordnet.synsets('car')"
   ]
  },
  {
   "cell_type": "code",
   "execution_count": 52,
   "metadata": {
    "collapsed": false
   },
   "outputs": [
    {
     "data": {
      "text/plain": [
       "u'a motor vehicle with four wheels; usually propelled by an internal combustion engine'"
      ]
     },
     "execution_count": 52,
     "metadata": {},
     "output_type": "execute_result"
    }
   ],
   "source": [
    "nltk.corpus.wordnet.synsets('car')[0].definition()"
   ]
  },
  {
   "cell_type": "code",
   "execution_count": 53,
   "metadata": {
    "collapsed": false
   },
   "outputs": [
    {
     "data": {
      "text/plain": [
       "[u'car', u'auto', u'automobile', u'machine', u'motorcar']"
      ]
     },
     "execution_count": 53,
     "metadata": {},
     "output_type": "execute_result"
    }
   ],
   "source": [
    "nltk.corpus.wordnet.synsets('car')[0].lemma_names()"
   ]
  },
  {
   "cell_type": "code",
   "execution_count": 54,
   "metadata": {
    "collapsed": false
   },
   "outputs": [
    {
     "data": {
      "text/plain": [
       "[Synset('car.n.01'), Synset('automobile.v.01')]"
      ]
     },
     "execution_count": 54,
     "metadata": {},
     "output_type": "execute_result"
    }
   ],
   "source": [
    "nltk.corpus.wordnet.synsets(\"automobile\")"
   ]
  },
  {
   "cell_type": "code",
   "execution_count": 55,
   "metadata": {
    "collapsed": true
   },
   "outputs": [],
   "source": [
    "car_syn = nltk.corpus.wordnet.synsets('car')[0]"
   ]
  },
  {
   "cell_type": "code",
   "execution_count": 56,
   "metadata": {
    "collapsed": false
   },
   "outputs": [
    {
     "data": {
      "text/plain": [
       "[Synset('motor_vehicle.n.01')]"
      ]
     },
     "execution_count": 56,
     "metadata": {},
     "output_type": "execute_result"
    }
   ],
   "source": [
    "# words with the meaning above (categorically)\n",
    "car_syn.hypernyms()"
   ]
  },
  {
   "cell_type": "code",
   "execution_count": 68,
   "metadata": {
    "collapsed": false
   },
   "outputs": [
    {
     "data": {
      "text/plain": [
       "[Synset('self-propelled_vehicle.n.01')]"
      ]
     },
     "execution_count": 68,
     "metadata": {},
     "output_type": "execute_result"
    }
   ],
   "source": [
    "# can keep going up and up\n",
    "car_syn.hypernyms()[0].hypernyms()"
   ]
  },
  {
   "cell_type": "code",
   "execution_count": 60,
   "metadata": {
    "collapsed": false
   },
   "outputs": [],
   "source": [
    "bus_syn = nltk.corpus.wordnet.synsets('bus')[0]"
   ]
  },
  {
   "cell_type": "code",
   "execution_count": 65,
   "metadata": {
    "collapsed": false
   },
   "outputs": [
    {
     "data": {
      "text/plain": [
       "[Synset('conveyance.n.03')]"
      ]
     },
     "execution_count": 65,
     "metadata": {},
     "output_type": "execute_result"
    }
   ],
   "source": [
    "bus_syn.hypernyms()[0].hypernyms()"
   ]
  },
  {
   "cell_type": "code",
   "execution_count": 67,
   "metadata": {
    "collapsed": false,
    "scrolled": true
   },
   "outputs": [
    {
     "data": {
      "text/plain": [
       "[Synset('ambulance.n.01'),\n",
       " Synset('beach_wagon.n.01'),\n",
       " Synset('bus.n.04'),\n",
       " Synset('cab.n.03'),\n",
       " Synset('compact.n.03'),\n",
       " Synset('convertible.n.01'),\n",
       " Synset('coupe.n.01'),\n",
       " Synset('cruiser.n.01'),\n",
       " Synset('electric.n.01'),\n",
       " Synset('gas_guzzler.n.01'),\n",
       " Synset('hardtop.n.01'),\n",
       " Synset('hatchback.n.01'),\n",
       " Synset('horseless_carriage.n.01'),\n",
       " Synset('hot_rod.n.01'),\n",
       " Synset('jeep.n.01'),\n",
       " Synset('limousine.n.01'),\n",
       " Synset('loaner.n.02'),\n",
       " Synset('minicar.n.01'),\n",
       " Synset('minivan.n.01'),\n",
       " Synset('model_t.n.01'),\n",
       " Synset('pace_car.n.01'),\n",
       " Synset('racer.n.02'),\n",
       " Synset('roadster.n.01'),\n",
       " Synset('sedan.n.01'),\n",
       " Synset('sport_utility.n.01'),\n",
       " Synset('sports_car.n.01'),\n",
       " Synset('stanley_steamer.n.01'),\n",
       " Synset('stock_car.n.01'),\n",
       " Synset('subcompact.n.01'),\n",
       " Synset('touring_car.n.01'),\n",
       " Synset('used-car.n.01')]"
      ]
     },
     "execution_count": 67,
     "metadata": {},
     "output_type": "execute_result"
    }
   ],
   "source": [
    "# go down the meaning heirarchy\n",
    "car_syn.hyponyms()"
   ]
  },
  {
   "cell_type": "code",
   "execution_count": 71,
   "metadata": {
    "collapsed": true
   },
   "outputs": [],
   "source": [
    "jeep = nltk.corpus.wordnet.synsets('jeep')[0]"
   ]
  },
  {
   "cell_type": "code",
   "execution_count": 73,
   "metadata": {
    "collapsed": false
   },
   "outputs": [
    {
     "data": {
      "text/plain": [
       "[Synset('car.n.01')]"
      ]
     },
     "execution_count": 73,
     "metadata": {},
     "output_type": "execute_result"
    }
   ],
   "source": [
    "jeep.lowest_common_hypernyms(car_syn)"
   ]
  },
  {
   "cell_type": "code",
   "execution_count": 74,
   "metadata": {
    "collapsed": true
   },
   "outputs": [],
   "source": [
    "banana = nltk.corpus.wordnet.synsets('banana')"
   ]
  },
  {
   "cell_type": "code",
   "execution_count": 75,
   "metadata": {
    "collapsed": false
   },
   "outputs": [
    {
     "data": {
      "text/plain": [
       "[Synset('banana.n.01'), Synset('banana.n.02')]"
      ]
     },
     "execution_count": 75,
     "metadata": {},
     "output_type": "execute_result"
    }
   ],
   "source": [
    "banana"
   ]
  },
  {
   "cell_type": "code",
   "execution_count": 79,
   "metadata": {
    "collapsed": false
   },
   "outputs": [
    {
     "data": {
      "text/plain": [
       "u'elongated crescent-shaped yellow fruit with soft sweet flesh'"
      ]
     },
     "execution_count": 79,
     "metadata": {},
     "output_type": "execute_result"
    }
   ],
   "source": [
    "banana[1].definition()"
   ]
  },
  {
   "cell_type": "code",
   "execution_count": 80,
   "metadata": {
    "collapsed": false
   },
   "outputs": [
    {
     "data": {
      "text/plain": [
       "0.1111111111111111"
      ]
     },
     "execution_count": 80,
     "metadata": {},
     "output_type": "execute_result"
    }
   ],
   "source": [
    "jeep.path_similarity(bus_syn)"
   ]
  },
  {
   "cell_type": "code",
   "execution_count": 81,
   "metadata": {
    "collapsed": false
   },
   "outputs": [
    {
     "data": {
      "text/plain": [
       "0.0625"
      ]
     },
     "execution_count": 81,
     "metadata": {},
     "output_type": "execute_result"
    }
   ],
   "source": [
    "jeep.path_similarity(banana[1])"
   ]
  },
  {
   "cell_type": "code",
   "execution_count": 82,
   "metadata": {
    "collapsed": false
   },
   "outputs": [
    {
     "data": {
      "text/plain": [
       "0.5"
      ]
     },
     "execution_count": 82,
     "metadata": {},
     "output_type": "execute_result"
    }
   ],
   "source": [
    "jeep.path_similarity(car_syn)"
   ]
  },
  {
   "cell_type": "code",
   "execution_count": 83,
   "metadata": {
    "collapsed": false
   },
   "outputs": [
    {
     "data": {
      "text/plain": [
       "[Synset('whole.n.02')]"
      ]
     },
     "execution_count": 83,
     "metadata": {},
     "output_type": "execute_result"
    }
   ],
   "source": [
    "jeep.lowest_common_hypernyms(banana[1])"
   ]
  },
  {
   "cell_type": "code",
   "execution_count": 87,
   "metadata": {
    "collapsed": false
   },
   "outputs": [
    {
     "data": {
      "text/plain": [
       "[('Donald', 'NNP'),\n",
       " ('Trump', 'NNP'),\n",
       " ('bought', 'VBD'),\n",
       " ('a', 'DT'),\n",
       " ('frog', 'NN'),\n",
       " ('.', '.')]"
      ]
     },
     "execution_count": 87,
     "metadata": {},
     "output_type": "execute_result"
    }
   ],
   "source": [
    "# this is parsing text\n",
    "nltk.pos_tag(nltk.word_tokenize('Donald Trump bought a frog.'))"
   ]
  },
  {
   "cell_type": "code",
   "execution_count": 90,
   "metadata": {
    "collapsed": false
   },
   "outputs": [],
   "source": [
    "import textblob"
   ]
  },
  {
   "cell_type": "code",
   "execution_count": 95,
   "metadata": {
    "collapsed": true
   },
   "outputs": [],
   "source": [
    "t = textblob.TextBlob('Greg is stressed out about this terrible demo.')"
   ]
  },
  {
   "cell_type": "code",
   "execution_count": 96,
   "metadata": {
    "collapsed": false
   },
   "outputs": [
    {
     "data": {
      "text/plain": [
       "Sentiment(polarity=-1.0, subjectivity=1.0)"
      ]
     },
     "execution_count": 96,
     "metadata": {},
     "output_type": "execute_result"
    }
   ],
   "source": [
    "t.sentiment"
   ]
  },
  {
   "cell_type": "code",
   "execution_count": 100,
   "metadata": {
    "collapsed": true
   },
   "outputs": [],
   "source": [
    "h = textblob.TextBlob('Greg is really cool, nice and happy. He just bought a frog.')"
   ]
  },
  {
   "cell_type": "code",
   "execution_count": 101,
   "metadata": {
    "collapsed": false
   },
   "outputs": [
    {
     "data": {
      "text/plain": [
       "Sentiment(polarity=0.5833333333333334, subjectivity=0.8833333333333333)"
      ]
     },
     "execution_count": 101,
     "metadata": {},
     "output_type": "execute_result"
    }
   ],
   "source": [
    "h.sentiment"
   ]
  },
  {
   "cell_type": "code",
   "execution_count": 102,
   "metadata": {
    "collapsed": false
   },
   "outputs": [
    {
     "data": {
      "text/plain": [
       "WordList(['Greg', 'is', 'really', 'cool', 'nice', 'and', 'happy', 'He', 'just', 'bought', 'a', 'frog'])"
      ]
     },
     "execution_count": 102,
     "metadata": {},
     "output_type": "execute_result"
    }
   ],
   "source": [
    "h.words"
   ]
  },
  {
   "cell_type": "code",
   "execution_count": 103,
   "metadata": {
    "collapsed": false
   },
   "outputs": [
    {
     "data": {
      "text/plain": [
       "[Sentence(\"Greg is really cool, nice and happy.\"),\n",
       " Sentence(\"He just bought a frog.\")]"
      ]
     },
     "execution_count": 103,
     "metadata": {},
     "output_type": "execute_result"
    }
   ],
   "source": [
    "h.sentences"
   ]
  },
  {
   "cell_type": "code",
   "execution_count": 104,
   "metadata": {
    "collapsed": false
   },
   "outputs": [
    {
     "data": {
      "text/plain": [
       "WordList(['greg'])"
      ]
     },
     "execution_count": 104,
     "metadata": {},
     "output_type": "execute_result"
    }
   ],
   "source": [
    "h.noun_phrases"
   ]
  },
  {
   "cell_type": "code",
   "execution_count": 107,
   "metadata": {
    "collapsed": false
   },
   "outputs": [
    {
     "data": {
      "text/plain": [
       "defaultdict(int, {'greg': 1})"
      ]
     },
     "execution_count": 107,
     "metadata": {},
     "output_type": "execute_result"
    }
   ],
   "source": [
    "# count noun phrases\n",
    "h.np_counts"
   ]
  },
  {
   "cell_type": "code",
   "execution_count": 108,
   "metadata": {
    "collapsed": false
   },
   "outputs": [
    {
     "data": {
      "text/plain": [
       "[WordList(['Greg', 'is']),\n",
       " WordList(['is', 'really']),\n",
       " WordList(['really', 'cool']),\n",
       " WordList(['cool', 'nice']),\n",
       " WordList(['nice', 'and']),\n",
       " WordList(['and', 'happy']),\n",
       " WordList(['happy', 'He']),\n",
       " WordList(['He', 'just']),\n",
       " WordList(['just', 'bought']),\n",
       " WordList(['bought', 'a']),\n",
       " WordList(['a', 'frog'])]"
      ]
     },
     "execution_count": 108,
     "metadata": {},
     "output_type": "execute_result"
    }
   ],
   "source": [
    "h.ngrams(2)"
   ]
  },
  {
   "cell_type": "code",
   "execution_count": 110,
   "metadata": {
    "collapsed": false
   },
   "outputs": [
    {
     "data": {
      "text/plain": [
       "defaultdict(int,\n",
       "            {u'a': 1,\n",
       "             u'and': 1,\n",
       "             u'bought': 1,\n",
       "             u'cool': 1,\n",
       "             u'frog': 1,\n",
       "             u'greg': 1,\n",
       "             u'happy': 1,\n",
       "             u'he': 1,\n",
       "             u'is': 1,\n",
       "             u'just': 1,\n",
       "             u'nice': 1,\n",
       "             u'really': 1})"
      ]
     },
     "execution_count": 110,
     "metadata": {},
     "output_type": "execute_result"
    }
   ],
   "source": [
    "h.word_counts"
   ]
  },
  {
   "cell_type": "code",
   "execution_count": 115,
   "metadata": {
    "collapsed": false
   },
   "outputs": [
    {
     "data": {
      "text/plain": [
       "u'nl'"
      ]
     },
     "execution_count": 115,
     "metadata": {},
     "output_type": "execute_result"
    }
   ],
   "source": [
    "x = textblob.TextBlob(\"zxcv kdjk op sdj\")\n",
    "x.detect_language()"
   ]
  },
  {
   "cell_type": "code",
   "execution_count": 112,
   "metadata": {
    "collapsed": false
   },
   "outputs": [
    {
     "data": {
      "text/plain": [
       "u'en'"
      ]
     },
     "execution_count": 112,
     "metadata": {},
     "output_type": "execute_result"
    }
   ],
   "source": [
    "h.detect_language()"
   ]
  }
 ],
 "metadata": {
  "kernelspec": {
   "display_name": "Python 3",
   "language": "python",
   "name": "python3"
  },
  "language_info": {
   "codemirror_mode": {
    "name": "ipython",
    "version": 3
   },
   "file_extension": ".py",
   "mimetype": "text/x-python",
   "name": "python",
   "nbconvert_exporter": "python",
   "pygments_lexer": "ipython3",
   "version": "3.5.1"
  }
 },
 "nbformat": 4,
 "nbformat_minor": 0
}
