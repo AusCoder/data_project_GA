{
 "cells": [
  {
   "cell_type": "code",
   "execution_count": 1,
   "metadata": {
    "collapsed": false
   },
   "outputs": [],
   "source": [
    "import requests\n",
    "from bs4 import BeautifulSoup\n",
    "import lxml"
   ]
  },
  {
   "cell_type": "code",
   "execution_count": 2,
   "metadata": {
    "collapsed": true
   },
   "outputs": [],
   "source": [
    "# basic web scraping\n",
    "r = requests.get('http://www.smh.com.au/')"
   ]
  },
  {
   "cell_type": "code",
   "execution_count": 3,
   "metadata": {
    "collapsed": false
   },
   "outputs": [
    {
     "data": {
      "text/plain": [
       "200"
      ]
     },
     "execution_count": 3,
     "metadata": {},
     "output_type": "execute_result"
    }
   ],
   "source": [
    "r.status_code"
   ]
  },
  {
   "cell_type": "code",
   "execution_count": 4,
   "metadata": {
    "collapsed": false
   },
   "outputs": [],
   "source": [
    "smhHtml = r.text"
   ]
  },
  {
   "cell_type": "code",
   "execution_count": 5,
   "metadata": {
    "collapsed": false
   },
   "outputs": [
    {
     "data": {
      "text/plain": [
       "True"
      ]
     },
     "execution_count": 5,
     "metadata": {},
     "output_type": "execute_result"
    }
   ],
   "source": [
    "'election' in r.text"
   ]
  },
  {
   "cell_type": "code",
   "execution_count": 6,
   "metadata": {
    "collapsed": false
   },
   "outputs": [
    {
     "data": {
      "text/plain": [
       "8874"
      ]
     },
     "execution_count": 6,
     "metadata": {},
     "output_type": "execute_result"
    }
   ],
   "source": [
    "r.text.index('<a')"
   ]
  },
  {
   "cell_type": "code",
   "execution_count": 7,
   "metadata": {
    "collapsed": false
   },
   "outputs": [
    {
     "data": {
      "text/plain": [
       "'<a class=\"skip-link\" href=\"#nav\">Skip to navigation</a>\\n<a class=\"skip-link\" href=\"#content\">Skip to content</a>\\n<a class=\"ski'"
      ]
     },
     "execution_count": 7,
     "metadata": {},
     "output_type": "execute_result"
    }
   ],
   "source": [
    "r.text[8874:9000]"
   ]
  },
  {
   "cell_type": "code",
   "execution_count": 8,
   "metadata": {
    "collapsed": true
   },
   "outputs": [],
   "source": [
    "# web scraping transportnsw using the form\n",
    "# look at the source code for transportnsw, inspect elements and look at the forms to submit the info\n",
    "params = {'name_origin': \"Central Station\", 'name_destination': \"Wynyard Station\",\n",
    "         'itdHour' : 20,\n",
    "         'itdMinute': 0,\n",
    "         'itdDay': 'today'\n",
    "         }"
   ]
  },
  {
   "cell_type": "code",
   "execution_count": 9,
   "metadata": {
    "collapsed": false
   },
   "outputs": [],
   "source": [
    "answer = requests.get('http://transportnsw.info/en/index.page', data=params)"
   ]
  },
  {
   "cell_type": "code",
   "execution_count": 10,
   "metadata": {
    "collapsed": false
   },
   "outputs": [
    {
     "data": {
      "text/plain": [
       "200"
      ]
     },
     "execution_count": 10,
     "metadata": {},
     "output_type": "execute_result"
    }
   ],
   "source": [
    "answer.status_code"
   ]
  },
  {
   "cell_type": "code",
   "execution_count": 11,
   "metadata": {
    "collapsed": false
   },
   "outputs": [
    {
     "ename": "TypeError",
     "evalue": "write() argument must be str, not bytes",
     "output_type": "error",
     "traceback": [
      "\u001b[0;31m---------------------------------------------------------------------------\u001b[0m",
      "\u001b[0;31mTypeError\u001b[0m                                 Traceback (most recent call last)",
      "\u001b[0;32m<ipython-input-11-dece647fa0fc>\u001b[0m in \u001b[0;36m<module>\u001b[0;34m()\u001b[0m\n\u001b[1;32m      1\u001b[0m \u001b[0;32mwith\u001b[0m \u001b[0mopen\u001b[0m\u001b[0;34m(\u001b[0m\u001b[0;34m'transportnsw-dump.html'\u001b[0m\u001b[0;34m,\u001b[0m \u001b[0;34m'w'\u001b[0m\u001b[0;34m)\u001b[0m \u001b[0;32mas\u001b[0m \u001b[0moutFile\u001b[0m\u001b[0;34m:\u001b[0m\u001b[0;34m\u001b[0m\u001b[0m\n\u001b[0;32m----> 2\u001b[0;31m     \u001b[0moutFile\u001b[0m\u001b[0;34m.\u001b[0m\u001b[0mwrite\u001b[0m\u001b[0;34m(\u001b[0m\u001b[0manswer\u001b[0m\u001b[0;34m.\u001b[0m\u001b[0mcontent\u001b[0m\u001b[0;34m)\u001b[0m\u001b[0;34m\u001b[0m\u001b[0m\n\u001b[0m",
      "\u001b[0;31mTypeError\u001b[0m: write() argument must be str, not bytes"
     ]
    }
   ],
   "source": [
    "with open('transportnsw-dump.html', 'w') as outFile:\n",
    "    outFile.write(answer.content)"
   ]
  },
  {
   "cell_type": "code",
   "execution_count": 54,
   "metadata": {
    "collapsed": true
   },
   "outputs": [],
   "source": [
    "# scraping yahoo finance webpage for ibm stock\n",
    "rootUrl = 'http://finance.yahoo.com'\n",
    "params = {'s': 'IBM', 'ql':'1'}\n",
    "formActionUrl = '/q'"
   ]
  },
  {
   "cell_type": "code",
   "execution_count": 55,
   "metadata": {
    "collapsed": true
   },
   "outputs": [],
   "source": [
    "r = requests.get(rootUrl + formActionUrl, data = params)"
   ]
  },
  {
   "cell_type": "code",
   "execution_count": 56,
   "metadata": {
    "collapsed": false
   },
   "outputs": [
    {
     "data": {
      "text/plain": [
       "200"
      ]
     },
     "execution_count": 56,
     "metadata": {},
     "output_type": "execute_result"
    }
   ],
   "source": [
    "r.status_code"
   ]
  },
  {
   "cell_type": "code",
   "execution_count": 57,
   "metadata": {
    "collapsed": false
   },
   "outputs": [
    {
     "data": {
      "text/plain": [
       "False"
      ]
     },
     "execution_count": 57,
     "metadata": {},
     "output_type": "execute_result"
    }
   ],
   "source": [
    "'IBM' in r.text # it didn't work :("
   ]
  },
  {
   "cell_type": "code",
   "execution_count": 58,
   "metadata": {
    "collapsed": false
   },
   "outputs": [
    {
     "name": "stdout",
     "output_type": "stream",
     "text": [
      "200\n"
     ]
    },
    {
     "data": {
      "text/plain": [
       "u'<!DOCTYPE html PUBLIC \"-//W3C//DTD HTML 4.01//EN\" \"http://www.w3.org/TR/html4/strict.dtd\">\\n<html lang=\"en-AU\">\\n<head>\\n<title>IBM: Summary for International Business Machines- Yahoo!7 Finance</title>\\n<meta http-equiv=\"Content-Type\" content=\"text/html; charset=utf-8\"><meta name=\"description\" xml:space=\"default\" content=\"Get the latest index performance and chart outlook for International Business Machines (IBM).\"><meta name=\"keywords\" content=\"index, market indices, dow jones industrial average, S&amp;P 500, Nasdaq 100, industrial average, transportation average asx\"><meta property=\"fb:app_id\" content=\"118155468215844\"><meta property=\"fb:admins\" content=\"503762770,100001149693905\"><meta property=\"og:type\" content=\"company\"><meta property=\"og:site_name\" content=\"Yahoo!7 Finance\"><meta property=\"og:title\" content=\"International Business Machines Corporation\"><meta property=\"og:image\" content=\"https://s.yimg.com/lq/p/fi/31/09/00.jpg\"><meta property=\"og:url\" content=\"https://au.finance.yahoo.com/q?s=IBM\"><meta property=\"og:description\" content=\"Get the latest index performance and chart outlook for International Business Machines (IBM).\"><link rel=\"canonical\" href=\"https://au.finance.yahoo.com/q?s=IBM\"><script>\\n          window.yfinBucket = \\'\\';\\n        </script>\\n<link rel=\"stylesheet\" href=\"https://s.yimg.com/zz/combo?kx/yucs/uh2/uh/295/css/yunivhead-min.css&amp;kx/yucs/uh2/uh/295/css/logo-min.css&amp;kx/ucs/avatar/css/17/avatar-min.css&amp;kx/yucs/uh2/mail-link/85/css/mailcount_v2-min.css&amp;kx/yucs/uh2/mail-link/85/css/mail_preview-min.css&amp;kx/ucs/search/css/190/search_all-min.css&amp;kx/ucs/search/css/190/search_buttons-min.css&amp;kx/yucs/uh2/uh/295/css/yunivhead_https-min.css&amp;kx/yucs/uh_common/meta/3/css/meta-min.css&amp;bm/lib/fi/common/p/d/static/css/2.0.356981/2.0.0/mini/yfi_quote_summary_lego_concat.css&amp;bm/lib/fi/common/p/d/static/css/2.0.356981/2.0.0/mini/yfi_symbol_suggest.css&amp;bm/lib/fi/common/p/d/static/css/2.0.356981/2.0.0/mini/yui_helper.css&amp;bm/lib/fi/common/p/d/static/css/2.0.356981/2.0.0/mini/yfi_theme_teal.css&amp;bm/lib/fi/common/p/d/static/css/2.0.356981/2.0.0/mini/yfi_follow_quote.css&amp;bm/lib/fi/common/p/d/static/css/2.0.356981/2.0.0/mini/yfi_follow_stencil.css\" type=\"text/css\"><script language=\"javascript\">\\n\\tll_js = new Array();\\n    </script>\\n</head>\\n\\n<body id=\"yfi_quote_summary_page\" class=\"intl-au  gsg-0\">\\n<div id=\"yfi_hd\"><div class=\"yfi_doc yog-hd\" id=\"yog-hd\"><div class=\"\"><style>/* customizable */\\n#yUnivHead{}\\n#yUnivHead .yuhead-bullet-down{background-position:right -119px;}\\n\\n/* font color */\\n#yUnivHead {color:#fff;}\\n#yUnivHead a{color:#fff;}\\n#yUnivHead a:hover{color:#fff;}\\n\\n#yuhead-hd #yuhead-mepanel-cont #yuhead-mepanel li.yuhead-me{border-color:#fff;}\\n#yuhead-hd #yuhead-com-links-cont #yuhead-com-links li.yuhead-com-link-item{border-color:#fff;}\\n.yuhead-logo h2 a{color:#fff;}\\n\\n/* promo color */\\n#yUnivHead #yuhead-promo .yucs-promo-label{color:#fff;}\\n#yUnivHead #yuhead-promo a{color:#fff;}\\n#yUnivHead #yuhead-promo a:hover{color:#fff;}\\n\\n/* background, border, gradients */\\n#yUnivHead {\\n    background:transparent;\\n}\\n/* trending promo background - match to header top background */\\n#yUnivHead .yucs-trending-anim .yucs-trending-anim-fade {\\n\\tbackground:transparent;\\n}\\n/*logos*/\\n#yUnivHead .yuhead-logo h2 {background-position:-350px top;}\\n/*  #yUnivHead.yucs-en-nz .yuhead-logo h2 {background-position:0px -120px;} */\\n#yUnivHead .yuhead-logo h2.small {background-position:0px -360px;}</style><div id=\"yUnivHead\" class=\"yucs-en-au\" data-lang=\"en-au\" data-property=\"finance\" data-flight=\"1467021637\" data-uhvc=\"/\"> <div id=\"yucs-disclaimer\" class=\"yucs-disclaimer yucs-activate yucs-hide yucs-property-finance yucs-fcb- \" data-cobrand=\"standard\" data-cu = \"0\" data-dsstext=\"Want a better search experience? {dssLink}Set your Search to Yahoo{linkEnd}\" data-dsstext-mobile=\"Search Less, Find More\" data-dsstext-mobile-ok=\"OK\" data-dsstext-mobile-set-search=\"Set Search to Yahoo\" data-dssstbtext=\"Yahoo is the preferred search engine for Firefox. Switch now.\" data-dssstb-ok=\"Yes\" data-dssstb-no=\"Not Now\" data-ylt-link=\"https://uk.search.yahoo.com/searchset?pn=\" data-ylt-dssbarclose=\"/\" data-ylt-dssbaropen=\"/\" data-ylt-dssstb-link=\"https://downloads.yahoo.com/sp-firefox\" data-ylt-dssstbbarclose=\"/\" data-ylt-dssstbbaropen=\"/\" data-ylt-dssCookieCleanedSuccess=\"/\" data-ylt-dssCookieCleanedFailed=\"/\" data-linktarget=\"_top\" data-lang=\"en-au\" data-property=\"finance\" data-device=\"Desktop\" data-close-txt=\"Close this window\" data-maybelater-txt = \"Maybe later\" data-killswitch = \"0\" data-host=\"au.finance.yahoo.com\" data-spaceid=\"\" data-pn=\"\" data-dss-cookie-cleanup=\"\" data-pn-en-ca-mobile-frontpage=\"\" data-pn-de-de-mobile-frontpage=\"\" data-pn-es-es-mobile-frontpage=\"\" data-pn-fr-fr-mobile-frontpage=\"\" data-pn-en-in-mobile-frontpage=\"\" data-pn-it-it-mobile-frontpage=\"\" data-pn-en-us-mobile-frontpage=\"\" data-pn-en-sg-mobile-frontpage=\"\" data-pn-en-gb-mobile-frontpage=\"\" data-pn-en-us-mobile-mail=\"\" data-pn-en-ca-mobile-mail=\"\" data-pn-de-de-mobile-mail=\"\" data-pn-es-es-mobile-mail=\"\" data-pn-fr-fr-mobile-mail=\"\" data-pn-en-in-mobile-mail=\"\" data-pn-it-it-mobile-mail=\"\" data-pn-en-sg-mobile-mail=\"\" data-pn-en-gb-mobile-mail=\"\" data-pn-pt-br-mobile-mail=\"\" data-pn-en-us-tablet-frontpage=\"\" data-pn-en-us-tablet-mail=\"\" data-pn-en-ca-tablet-mail=\"\" data-pn-de-de-tablet-mail=\"\" data-pn-es-es-tablet-mail=\"\" data-pn-fr-fr-tablet-mail=\"\" data-pn-en-in-tablet-mail=\"\" data-pn-it-it-tablet-mail=\"\" data-pn-en-sg-tablet-mail=\"\" data-pn-en-gb-tablet-mail=\"\" data-pn-pt-br-tablet-mail=\"\" data-news-search-yahoo-com=\"\" data-answers-search-yahoo-com=\"\" data-finance-search-yahoo-com=\"\" data-images-search-yahoo-com=\"\" data-video-search-yahoo-com=\"\" data-sports-search-yahoo-com=\"\" data-shopping-search-yahoo-com=\"\" data-shopping-yahoo-com=\"\" data-us-qa-trunk-news-search-yahoo-com =\"\" data-dss=\"\"></div>    <a href=\"#yuhead-search\" class=\"yucs-skipto-search yucs-activate\">Skip to search.</a>  <div id=\"yuhead-hd\" class=\"yuhead-clearfix\"> <div id=\"yuhead-mepanel-cont\"> <ul id=\"yuhead-mepanel\" class=\"yucs-toolbar yucs-activate\" aria-label=\"User services\"><li class=\"yuhead-me yuhead-nodivide yuhead-nopad\"> <a class=\"yuhead-signup\" href=\"https://edit.yahoo.com/config/eval_register?.src=quote&.intl=au&.lang=en-AU&.done=https://au.finance.yahoo.com/q%3fp=finance.yahoo.com%26s=IBM%26ql=1\" target=\"_top\" rel=\"nofollow\"> <em>New user?</em> Register</a></li><li class=\"yuhead-me\"> <a href=\"https://login.yahoo.com/config/login?.src=quote&.intl=au&.lang=en-AU&.done=https://au.finance.yahoo.com/q%3fp=finance.yahoo.com%26s=IBM%26ql=1\" target=\"_top\" rel=\"nofollow\"> <em>Sign in</em></a></li><li class=\"yuhead-me\"><a href=\"https://help.yahoo.com/kb/index?page=product&y=PROD_FIN&locale=en_AU\" rel=\"nofollow\" target=\"_top\">Help</a></li></ul>   </div> <div id=\"yuhead-promo\"><a href=\"http://au.yahoo.com/sethomepage/\" target=\"_top\" rel=\"nofollow\">Make Yahoo7 My Homepage<abbr title=\"Yahoo!\"></abbr></a></div> <div id=\"yuhead-com-links-cont\"> <ul id=\"yuhead-com-links\" class=\"yucs-toolbar yucs-activate\" aria-label=\"Yahoo services\">  <li class=\"yuhead-com-link-item yucs-mailpreview-ancestor\"> <a class=\"sp yltasis yuhead-ico-mail\" href=\"https://au.mail.yahoo.com/?.intl=au&.lang=en-AU\" rel=\"nofollow\" target=\"_top\">Mail</a><ul class=\"yucs-mail-preview-panel hide\" data-uri-scheme=\"http\" data-uri-path=\"ucs.query.yahoo.com/v1/console/yql\" data-mail-txt=\"Mail\" data-mail-view=\"Go to Mail\" data-mail-help-txt=\"Help\" data-mail-help-url=\"http://help.yahoo.com/l/au/yahoo7/mail/ymail/\" data-mail-loading-txt=\"Loading...\" data-languagetag=\"en-au\" data-mrd-crumb=\"\" data-authstate=\"signedout\" data-middleauth-signin-text=\"Click here to view your emails\" data-popup-login-url=\"https://login.yahoo.com/config/login_verify2?.pd=c%3DOIVaOGq62e5hAP8Tv..nr5E3&.src=sc\" data-middleauthtext=\"You have {count} new messages.\" data-yltmessage-link=\"http://mrd.mail.yahoo.com/msg?mid={msgID}&fid=Inbox&src=uh&.crumb=\" data-yltviewall-link=\"https://au.mail.yahoo.com/\" data-yltpanelshown=\"/\"></ul></li><li class=\"yuhead-com-link-item\"> <a href=\"http://au.my.yahoo.com\" rel=\"nofollow\" target=\"_top\"> My Yahoo7 </a></li><li id=\"yuhead-com-home\"><a class=\"sp yuhead-ico-home\" href=\"https://au.yahoo.com/\" rel=\"nofollow\" target=\"_top\">Yahoo7</a></li> </ul> </div> </div> <div id=\"yuhead-bd\" class=\"yuhead-clearfix\"> <div class=\"yuhead-logo\"> <style> .yuhead-logo h2{ width:350px; height:34px; background-image:url(https://s.yimg.com/rz/d/yahoo_finance_en-AU_s_f_pw_351x40_finance.png); _background-image:url(https://s.yimg.com/rz/d/yahoo_finance_en-AU_s_f_pw_351x40_finance.gif); } .yuhead-logo a{ width:350px; height:34px; } .yuhead-logo div.yuhead-comarketing { width:350px; } .yog-tablet #yUnivHead h2 { background-position: -350px 5px !important; } html[lang=\\'en-AU\\'] .yog-tablet #yUnivHead .yuhead-logo h2 { background-position: -350px 5px !important; } html[lang=\\'en-NZ\\'] .yog-tablet #yUnivHead .yuhead-logo h2 { background-position: -350px 5px !important; } .yog-smartphone #yUnivHead h2 { background-position: -265px 0; background-size: 534px; margin-left: 26%; } .yog-tablet .yuhead-logo h2{ background-repeat: repeat-x; } .yog-tablet.yog-version-v2 #yUnivHead h2 { background-position: center !important; } .yog-tablet #yUnivHead .yuhead-logo h2 { height: 40px !important; } .yog-rtl.yog-smartphone #yUnivHead .yuhead-logo h2 { background-position: -352px 0; !important; background-size: 536px !important; margin-left: 30% !important; } html[lang=\\'ar\\'] .yog-rtl.yog-smartphone #yUnivHead .yuhead-logo h2 { background-position: -386px 0; !important; } .yog-smartphone #yUnivHead h2.yuhead-music { background-position: 0 0 !important; width: 260px !important; } html[lang=\\'en-US\\'] .yog-smartphone #yUnivHead h2 { background-size: auto 21px !important; background-position: -350px 0; } html[lang=\\'pt-BR\\'] .yog-smartphone #yUnivHead h2.yuhead-sports { background-position: -265px 0 !important; background-size: 534px; margin-left: 17%; } html[lang=\\'ar\\'] .yog-smartphone #yUnivHead h2.yuhead-omg { background-position: -383px 0 !important; background-size: 605px; margin-left: 0; width: auto; } html[lang=\\'en-PH\\'] .yog-tablet #yUnivHead .yuhead-logo h2 { height: 47px !important; } html[lang=\\'en-PH\\'] .yog-smartphone #yUnivHead h2 { width: 255px; } </style> <h2 class=\"yuhead-finance yuhead-standard\"> <a href=\"https://au.finance.yahoo.com/\" target=\"_top\" tabindex=\"-1\"> Yahoo Finance </a> </h2> <div id=\"yucs-disclaimer-md\" class=\"yucs-disclaimer-md yucs-activate yucs-hide Desktop  yucs-property-finance yucs-fcb-\" data-dsstext=\"Want a better search experience? {dssLink}Set your Search to Yahoo{linkEnd}\" data-dsstext-mobile=\"Search Less, Find More\" data-dsstext-mobile-ok=\"OK\" data-dsstext-mobile-set-search=\"Set Search to Yahoo\" data-ylt-link=\"https://uk.search.yahoo.com/searchset?pn=\" data-ylt-dssbarclose=\"/\" data-ylt-dssbaropen=\"/\" data-linktarget=\"_top\" data-lang=\"en-au\" data-property=\"finance\" data-device=\"Desktop\" data-close-txt=\"Close this window\" data-maybelater-txt = \"Maybe later\" data-killswitch = \"0\" data-dss=\"\"></div><script typ=\"text/javascript\" src=\"https://s.yimg.com/kx/yucs/uh3/disclaimer/274/js/disclaimer_seed-min.js\"></script> </div> <div id=\"yuhead-search\"> <div id=\"yuhead-sform-cont\" class=\"yuhead-s-web yuhead-search-form\"> <form role=\"search\" class=\"yucs-search yucs-activate\" target=\"_top\" action=\"https://au.search.yahoo.com/search\" method=\"get\"><table role=\"presentation\"> <tbody role=\"presentation\"><tr role=\"presentation\"><td class=\"yucs-form-input\" role=\"presentation\"> <label for=\"yuhead-sform-searchfield\"> <span>Search</span> </label> <input autocomplete=\"off\" type=\"text\" class=\"sp yuhead-ico-mglass yuhead-search-hint yucs-search-field\" name=\"p\" data-sh=\"Search\"  data-gosurl=\"\" id=\"yuhead-sform-searchfield\" data-pubid=\"\" /></td><td NOWRAP class=\"yucs-form-btn\" role=\"presentation\"><div class=\"yucs-btn-wrap\"> <button class=\"yucs-sweb-btn\" type=\"submit\">Search web</button></div> </td> </tr> </tbody></table><input type=\"hidden\" id=\"fr\" name=\"fr\" value=\"ush1-finance\" /></form> </div> </div>  </div>               <!-- meta --><div id=\"yucs-meta\" data-authstate=\"signedout\" data-cobrand=\"standard\" data-crumb=\"\" data-mc-crumb=\"\" data-gta=\"\" data-device=\"desktop\" data-experience=\"\" data-firstname=\"\" data-style=\"\" data-flight=\"1467021637\" data-forcecobrand=\"standard\" data-guid=\"\" data-host=\"au.finance.yahoo.com\" data-https=\"1\" data-languagetag=\"en-au\" data-property=\"finance\" data-protocol=\"https\" data-shortfirstname=\"\" data-shortuserid=\"\" data-status=\"active\" data-spaceid=\"\" data-test_id=\"\" data-userid=\"\" data-stickyheader=\"true\" data-headercollapse=\"\" data-uh-test=\"\" ></div><!-- /meta --></div></div><script type=\"text/javascript\">\\n\\t\\tvar yfi_dd = \\'finance.yahoo.com\\';\\n\\t\\t\\n\\t\\t\\tll_js.push({\\n\\t\\t\\t\\'file\\':\\'https://s.yimg.com/zz/combo?kx/ucs/common/js/140/setup-min.js&kx/ucs/sts/js/442/skip-min.js&kx/yucs/uh2/uh/295/js/timestamp_library-min.js&kx/ucs/menu_utils/js/164/menu_utils_v2-min.js&kx/yucs/uh2/uh/295/js/aria_toolbar-min.js&kx/ucs/username/js/43/user_menu-min.js&kx/ucs/help/js/41/help_menu-min.js&kx/ucs/utility_link/js/20/utility_menu-min.js&kx/yucs/uh2/uh/295/js/logo_debug-min.js&kx/yucs/uh3/disclaimer/388/js/disclaimer_seed-min.js&kx/ucs/common/js/131/jsonp-super-cached-min.js&kx/ucs/avatar/js/30/avatar-min.js&kx/yucs/uh2/mail-link/85/js/mailcount_v2-min.js&kx/ucs/search/js/226/search-min.js&kx/ucs/search/js/210/search_text_dir-min.js&kx/yucs/uh2/uh/295/js/activate_library-min.js&kx/yucs/uhc/meta/66/js/meta-min.js\\'\\n\\t\\t\\t});\\n\\t\\t\\n              if(window.LH) {\\n                  LH.init({spaceid:\\'1183800007\\'});\\n              }\\n\\t</script><script type=\"text/javascript\">\\n                if(typeof YAHOO == \"undefined\"){YAHOO={};}\\n                if(typeof YAHOO.Finance == \"undefined\"){YAHOO.Finance={};}\\n                if(typeof YAHOO.Finance.ComscoreConfig == \"undefined\"){YAHOO.Finance.ComscoreConfig={};}\\n                YAHOO.Finance.ComscoreConfig={ \"config\" : [\\n                        {\\n                        c5: \"1183800007\",\\n                        c7: \"https://au.finance.yahoo.com/q?p=finance.yahoo.com&s=IBM&ql=1\"\\n                        }\\n                ] }\\n                \\n\\n                ll_js.push({\\n                            \\'file\\': \\'bm/lib/fi/common/p/d/static/js/2.0.356981/2.0.0/mini/yfi_comscore.js\\',\\n                            \\'combo\\' : \\'1\\'\\n                });\\n        </script><noscript><img src=\"https://sb.scorecardresearch.com/p?c1=2&amp;c2=7241469&amp;c4=http://au.finance.yahoo.com/q?p=finance.yahoo.com&amp;s=IBM&amp;ql=1&amp;c5=1183800007&amp;cv=2.0&amp;cj=1\"></noscript><style type=\"text/css\">\\n              .yfi-price-change-up{\\n                color:#008800\\n               }\\n                    \\n              .yfi-price-change-down{\\n                color:#cc0000\\n               }\\n            </style></div></div><div class=\"ad_in_head\"><div class=\"yfi_doc\"><div style=\"text-align:center;\"></div>\\n\\n</div></div><div id=\"y-nav\"><div id=\"navigation\" class=\"yom-mod yom-nav\" role=\"navigation\"><div class=\"bd\"><div class=\"nav\"><div class=\"y-nav-pri-legobg\"><div id=\"y-nav-pri\" class=\"nav-stack nav-0 yfi_doc\"><ul class=\"yog-grid\" id=\"y-main-nav\"><li id=\"home\"><div class=\"level1\"><a href=\"/\"><span>Home</span></a></div></li><li id=\"news%2520%2526%2520opinion\"><div class=\"level1\"><a href=\"/news/\"><span>News &amp; Opinion</span></a><div class=\"arrow\"><em></em></div><div class=\"pointer\"></div><ul class=\"nav-sub\"><li><a href=\"/news/category-currencies/\">Australian Dollar</a></li><li><a href=\"/news/topic-top-stories/\">Top Stories</a></li><li><a href=\"/news/category-stocks/\">Stock Market</a></li><li><a href=\"http://au.pfinance.yahoo.com/our-experts/\">Columnists</a></li><li><a href=\"/news/category-currencies/\">Currencies</a></li><li><a href=\"/news/category-company-news-earnings/\">Companies</a></li><li><a href=\"http://au.pfinance.yahoo.com/video\">Video</a></li></ul></div></li><li id=\"tax%2520time%25202016\"><div class=\"level1\"><a href=\"/taxtime2016\"><span>Tax Time 2016</span></a></div></li><li id=\"investing\"><div class=\"level1\"><a href=\"/investing/\"><span>Investing</span></a><div class=\"arrow\"><em></em></div><div class=\"pointer\"></div><ul class=\"nav-sub\"><li><a href=\"/indices?e=asx\">Market Stats</a></li><li><a href=\"/currencies/investing.html\">Currencies</a></li><li><a href=\"http://au.pfinance.yahoo.com/online-trading/\">Online Trading</a></li><li><a href=\"http://au.pfinance.yahoo.com/education/\">Education</a></li></ul></div></li><li class=\"nav-fin-portfolios\"><div id=\"y-my-portfolios\" class=\"level1\"><a id=\"yfmya\" href=\"https://au.finance.yahoo.com/portfolios/\"><span>My Portfolios</span></a><div class=\"arrow\"><em></em></div><div class=\"pointer\"></div><ul class=\"nav-sub\"><li><a href=\"/portfolios/\">Sign in to access My Portfolios</a></li></ul></div></li><li id=\"personal%2520finance\"><div class=\"level1\"><a href=\"http://au.pfinance.yahoo.com/\"><span>Personal Finance</span></a><div class=\"arrow\"><em></em></div><div class=\"pointer\"></div><ul class=\"nav-sub\"><li><a href=\"http://au.pfinance.yahoo.com/money-manager/\">Money Manager</a></li><li><a href=\"http://au.pfinance.yahoo.com/video\">Videos</a></li><li><a href=\"http://au.pfinance.yahoo.com/our-experts/\">Experts</a></li><li><a href=\"http://au.pfinance.yahoo.com/tips-and-tools/\">Tips & Tools</a></li><li><a href=\"http://au.pfinance.yahoo.com/money-manager/real-estate/\">Real Estate</a></li><li><a href=\"http://au.pfinance.yahoo.com/education\">Investing</a></li><li><a href=\"http://au.pfinance.yahoo.com/fame-and-fortune/\">Fame & Fortune</a></li><li><a href=\"http://au.pfinance.yahoo.com/compare/?cmp=gpfn\">Compare Rates</a></li><li><a href=\"http://au.pfinance.yahoo.com/forums/\">Forums</a></li><li><a href=\"http://au.pfinance.yahoo.com/photos/\">Photos</a></li></ul></div></li><li id=\"video\"><div class=\"level1\"><a href=\"http://au.pfinance.yahoo.com/video/\"><span>Video</span></a></div></li><li id=\"expert%2520opinion\"><div class=\"level1\"><a href=\"http://au.pfinance.yahoo.com/our-experts/\"><span>Expert Opinion</span></a></div></li><li id=\"compare\"><div class=\"level1\"><a href=\"http://au.pfinance.yahoo.com/compare/?cmp=gfww\"><span>Compare</span></a><div class=\"arrow\"><em></em></div><div class=\"pointer\"></div><ul class=\"nav-sub\"><li><a href=\"http://au.pfinance.yahoo.com/compare/home-loans/?cmp=gfww\">Home loans</a></li><li><a href=\"http://au.pfinance.yahoo.com/compare/credit-cards/?cmp=gfww\">Credit cards</a></li><li><a href=\"http://au.pfinance.yahoo.com/compare/savings/search/?search=savings&amp;cmp=gfww\">Savings deposits</a></li><li><a href=\"http://au.pfinance.yahoo.com/compare/term-deposits/search/?search=term-deposits&amp;cmp=gfww\">Term deposits</a></li><li><a href=\"http://au.pfinance.yahoo.com/compare/personal-loans/?cmp=gfww\">Personal loans</a></li><li><a href=\"http://au.pfinance.yahoo.com/compare/personal-loans/search/?amount=10000&amp;term=3&amp;rate-type=fixed&amp;loan-type=car&amp;cmp=gfww\">Car loans</a></li><li><a href=\"http://mobilephones.yahoo.com.au/mobilephones?cmp=gfww\">Smartphones</a></li><li><a href=\"http://broadband.yahoo.com.au/broadband?cmp=gfww\">Broadband</a></li><li><a href=\"http://au.pfinance.yahoo.com/compare/energy/?cmp=gfww\">Electricity prices</a></li><li><a href=\"http://au.pfinance.yahoo.com/compare/energy/?cmp=gfww\">Gas prices</a></li><li><a href=\"http://au.pfinance.yahoo.com/compare/life-insurance/?cmp=gfww\">Life insurance</a></li><li><a href=\"http://tablets.yahoo.com.au/tablets?cmp=gfww\">Tablets</a></li><li><a href=\"/compare/health-insurance/\">Health Insurance</a></li></ul></div></li></ul></div></div>     </div></div></div><script>\\n        \\n        (function(el) {\\n            function focusHandler(e){\\n                if (e && e.target){\\n                    e.target == document ? null : e.target;\\n                    document.activeElement = e.target;\\n                }\\n            }\\n            // Handle !IE browsers that do not support the .activeElement property\\n            if(!document.activeElement){\\n                if (document.addEventListener){ \\n                    document.addEventListener(\"focus\", focusHandler, true);\\n                }\\n            }\\n        })(document);\\n        \\n        </script><div class=\"y-nav-legobg\"><div class=\"yfi_doc\"><div id=\"y-nav-sec\" class=\"clear\"><div id=\"searchQuotes\" class=\"ticker-search mod\" mode=\"search\"><div class=\"hd\"></div><div class=\"bd\"><form id=\"quote\" name=\"quote\" action=\"/q\"><h2 class=\"yfi_signpost\">Search for share prices</h2><label for=\"txtQuotes\">Search for share prices</label><input id=\"txtQuotes\" name=\"s\" value=\"\" type=\"text\" autocomplete=\"off\" placeholder=\"Enter Symbol\"><input id=\"get_quote_logic_opt\" name=\"ql\" value=\"1\" type=\"hidden\" autocomplete=\"off\"><div id=\"yfi_quotes_submit\"><span><span><span><input type=\"submit\" value=\"Look Up\" id=\"btnQuotes\" class=\"rapid-nf\"></span></span></span></div></form></div><div class=\"ft\"><a href=\"http://au.finance.search.yahoo.com/search?fr=finance-ss\">Finance Search</a><!-- this is required only for the yoda pages, /page/settings/@page is available only on yoda pages --><div class=\"report_issue\"><a href=\"https://yahoo.uservoice.com/forums/170310-yahoo-7-finance/category/84971-data-accuracy\" class=\"Fz-xs\" target=\"_blank\">Report an Issue</a></div><div class=\"strmg_bar_top streaming_toggle\"><div id=\"yfi_pg_settings_icon\">Streaming</div><div id=\"yfi_streaming_ticker_panel\"><div id=\"yfi_streaming_quotes\" class=\"yfi_streaming_quotes_p\"> </div><div id=\"ticker_onoff\"><span>Ticker Tape: </span><input type=\"hidden\" name=\"tton\" id=\"yfi_tt_on\" value=\"0\"><a onclick=\"tptoggleOnoffText(1); return false;\" class=\"rapid-nf\"><span id=\"tt_off\" style=\"display:inline;\">Off</span></a><a onclick=\"tptoggleOnoffText(0); return false;\" class=\"rapid-nf\"><span id=\"tt_on\" style=\"display:none;\">On</span></a></div></div></div><div class=\"mkt_time\"><p><span id=\"yfs_market_time\">Mon 27 Jun 2016 20:00 - Australia Markets closed</span></p></div></div></div></div></div></div></div>\\n<div id=\"yfi_doc\"><div id=\"yfi_bd\">\\n<span id=\"yfs_ad_\" ></span><div id=\"marketindices\">&nbsp;<span><a href=\"/q?s=%5EAORD\">All Ordinaries</a></span>&nbsp;<span id=\"yfs_pp0_^aord\"><img width=\"10\" height=\"14\" style=\"margin-right:-2px;\" border=\"0\" src=\"https://s.yimg.com/os/mit/media/m/base/images/transparent-1093278.png\" class=\"pos_arrow\" alt=\"Up\"> <b class=\"\\n      \\t        yfi-price-change-up\\n            \">0.45%</b></span></div>\\n<div id=\"yfi_investing_nav\"><div class=\"hd\"><h2>More On IBM</h2></div><div class=\"bd\"><h3>Quotes</h3><ul><li class=\"selected\">Summary</li><li><a href=\"/q/ecn?s=IBM\">Order Book</a></li><li><a href=\"/q/op?s=IBM\">Options</a></li><li><a href=\"/q/hp?s=IBM\">Historical Prices</a></li></ul><h3>Charts</h3><ul><li><a href=\"/echarts?s=IBM#symbol=IBM;range=1d\">Interactive</a></li><li><a href=\"/q/bc?s=IBM\">Basic Chart</a></li><li><a href=\"/q/ta?s=IBM\">Basic Tech. Analysis</a></li></ul><h3>News &amp; Info</h3><ul><li><a href=\"/q/h?s=IBM\">Headlines</a></li><li><a href=\"/q/ce?s=IBM\">Company Events</a></li><li><a href=\"/marketpulse/IBM\">Market Pulse</a></li></ul><h3>Company</h3><ul><li><a href=\"/q/pr?s=IBM\">Profile</a></li><li><a href=\"/q/ks?s=IBM\">Key Statistics</a></li><li><a href=\"/q/sec?s=IBM\">SEC Filings</a></li><li><a href=\"/q/co?s=IBM\">Competitors</a></li><li><a href=\"/q/in?s=IBM\">Industry</a></li><li><a href=\"/q/ct?s=IBM\">Components</a></li></ul><h3>Analyst Coverage</h3><ul><li><a href=\"/q/ao?s=IBM\">Analyst Opinion</a></li><li><a href=\"/q/ae?s=IBM\">Analyst Estimates</a></li></ul><h3>Ownership</h3><ul><li><a href=\"/q/mh?s=IBM\">Major Holders</a></li><li><a href=\"/q/it?s=IBM\">Insider Transactions</a></li><li><a href=\"/q/ir?s=IBM\">Insider Roster</a></li></ul><h3>Financials</h3><ul><li><a href=\"/q/is?s=IBM&amp;annual\">Income Statement</a></li><li><a href=\"/q/bs?s=IBM&amp;annual\">Balance Sheet</a></li><li><a href=\"/q/cf?s=IBM&amp;annual\">Cash Flow</a></li></ul></div><div class=\"ft\"></div></div><div id=\"yfi_investing_content\"><div class=\"yui-g bb-0\"><script>\\n\\t    document.domain=\\'finance.yahoo.com\\';\\n\\t</script><div id=\"yfi_broker_buttons\"><div id=\"yfi_broker_buttons_original\" class=\"clearfix\"></div><div id=\"yfi_broker_banners\" class=\"clearfix yfi-broker-banners\"><div class=\"banner-strip\"></div></div></div></div><div class=\"rtq_div\"><div class=\"yui-g\"><div class=\"yfi_rt_quote_summary\" id=\"yfi_rt_quote_summary\"><div class=\"hd\"><div class=\"title\"><h2>International Business Machines Corporation (IBM)</h2> <span class=\"rtq_exch\"><span class=\"rtq_dash\">-</span>NYSE  </span><span class=\"wl_sign\"></span></div></div><div class=\"yfi_rt_quote_summary_rt_top sigfig_promo_0\"><div> <span class=\"time_rtq_ticker\"><span id=\"yfs_l84_ibm\">146.59</span></span> <span class=\"down_r time_rtq_content\"><span id=\"yfs_c63_ibm\"><img width=\"10\" height=\"14\" style=\"margin-right:-2px;\" border=\"0\" src=\"https://s.yimg.com/os/mit/media/m/base/images/transparent-1093278.png\" class=\"neg_arrow\" alt=\"Down\">   8.76</span><span id=\"yfs_p43_ibm\">(5.64%)</span> </span><span class=\"time_rtq\"> <span id=\"yfs_t53_ibm\">25 Jun 06:03</span></span></div><div></div></div><div id=\"yfi_toolbox_mini_rtq\"><span class=\"fb-like-button\"></span><script type=\"text/javascript\">\\n                            ll_js.push({\\n                                \\'script\\':function(){\\n                                    YUI().use(\\'node\\', function (Y) {\\n                                        var iframe = Y.Node.create(\\'<iframe src=\"https://www.facebook.com/plugins/like.php?href=http://au.finance.yahoo.com%2Fq%3Fs%3DIBM&amp;layout=button_count&amp;show_faces=false&amp;action=like&amp;font=arial&amp;colorscheme=light&amp;height=21&amp;width=100&amp;locale=en_AU\" scrolling=\"no\" frameborder=\"0\" allowTransparency=\"true\" style=\"height:21px; width:95px;\"></iframe>\\');\\n                                        Y.one(\".fb-like-button\").append(iframe);\\n                                    });\\n                                }\\n                            });\\n                        </script></div></div></div></div><div class=\"yui-u first yfi-start-content\"><div class=\"yfi_quote_summary\"><div id=\"yfi_quote_summary_data\" class=\"rtq_table\"><table id=\"table1\"><tr><th scope=\"row\" width=\"48%\">Prev Close:</th><td class=\"yfnc_tabledata1\">155.35</td></tr><tr><th scope=\"row\" width=\"48%\">Open:</th><td class=\"yfnc_tabledata1\">149.97</td></tr><tr><th scope=\"row\" width=\"48%\">Bid:</th><td class=\"yfnc_tabledata1\"><span id=\"yfs_b00_ibm\">144.52</span><small> x <span id=\"yfs_b60_ibm\">100</span></small></td></tr><tr><th scope=\"row\" width=\"48%\">Ask:</th><td class=\"yfnc_tabledata1\"><span id=\"yfs_a00_ibm\">148.25</span><small> x <span id=\"yfs_a50_ibm\">100</span></small></td></tr><tr><th scope=\"row\" width=\"48%\">1y Target Est:</th><td class=\"yfnc_tabledata1\">144.32</td></tr><tr><th scope=\"row\" width=\"48%\">Beta:</th><td class=\"yfnc_tabledata1\">0.813364</td></tr><tr><th scope=\"row\" width=\"54%\">Next Earnings Date:</th><td class=\"yfnc_tabledata1\">18-Jul-16<span id=\"earn_cal_div\"><a onclick=\"window.open(\\'http://calendar.yahoo.com/?v=60&amp;ST=20160718&amp;TITLE=IBM Earnings announcement&amp;VIEW=d&amp;REM1=7d&amp;REM2=1d\\', \\'earnwin\\', \\'toolbars=no,scrollbars=no\\')\"><img class=\"earn_cal_icon\" src=\"https://s.yimg.com/os/mit/media/m/base/images/transparent-1093278.png\" alt=\"IBM Earnings announcement\" title=\"IBM Earnings announcement\" id=\"earn_cal_img\"></a></span></td></tr></table><table id=\"table2\"><tr><th scope=\"row\" width=\"48%\">Day\\'s Range:</th><td class=\"yfnc_tabledata1\"><span><span id=\"yfs_g53_ibm\">146.18</span></span> - <span><span id=\"yfs_h53_ibm\">150.61</span></span></td></tr><tr><th scope=\"row\" width=\"48%\">52wk Range:</th><td class=\"yfnc_tabledata1\"><span>116.90</span> - <span>173.78</span></td></tr><tr><th scope=\"row\" width=\"48%\">Volume:</th><td class=\"yfnc_tabledata1\"><span id=\"yfs_v53_ibm\">9,082,822</span></td></tr><tr><th scope=\"row\" width=\"48%\">Avg Vol <span class=\"small\">(3m)</span>:</th><td class=\"yfnc_tabledata1\">3,849,170</td></tr><tr><th scope=\"row\" width=\"48%\">Market Cap:</th><td class=\"yfnc_tabledata1\"><span id=\"yfs_j10_ibm\">140.72B</span></td></tr><tr><th scope=\"row\" width=\"48%\">P/E <span class=\"small\">(ttm)</span>:</th><td class=\"yfnc_tabledata1\">11.11</td></tr><tr><th scope=\"row\" width=\"48%\">EPS <span class=\"small\">(ttm)</span>:</th><td class=\"yfnc_tabledata1\">13.19</td></tr><tr class=\"end\"><th scope=\"row\" width=\"48%\">Div &amp; Yield:</th><td class=\"yfnc_tabledata1\">5.60 (3.82%) </td></tr></table></div></div><div id=\"yfi_tradenow\" class=\"yui-skin-sam\" data-ylk=\"sec:Trade Now;slk:Trade Now;\"><div id=\"bd\"><div class=\"sel-container\"><button id=\"btn_trdnow\" disabled class=\"trdnowimg\"></button><button id=\"btn_selbrkr\" class=\"btn-broker-sel\"><div class=\"brokertxt\">Select your broker</div><div class=\"downmenu\" id=\"btn_arrow\"></div></button><span id=\"trdnow_success\"></span></div><div id=\"trdnow_sel\" style=\"display:none\"><div id=\"hd\">The broker you select will become the <b>default broker</b> for Trade Now</div><div id=\"bd\"><span class=\"broker-head\">Featured Brokers</span><ul style=\"width:100%;\" class=\"premium clear\"><li><input class=\"r_selbrkr\" name=\"r_selbrkr\" type=\"radio\" value=\"commsec\">CommSec<img src=\"https://s.yimg.com/os/mit/media/m/base/images/transparent-1093278.png\" style=\"background-image:url(\\'https://s.yimg.com/ao/a/tradenow_icon.jpg\\')\" alt=\"CommSec\" class=\" lzbg ImageLoader\"></li></ul><ul style=\"width:100%;\" class=\"nonpremium clear\"><li><input class=\"r_selbrkr custombrkr\" name=\"r_selbrkr\" type=\"radio\"><input class=\"customurl\" type=\"text\" id=\"txt_custombrkr\" placeholder=\"Enter your Broker\"></li></ul><input type=\"hidden\" id=\"trdnow_user_status\" value=\"0\"></div><div id=\"ft\"><div class=\"save-reset-container\"><button type=\"button\" id=\"btn_savebrkr\">Select Broker</button><span class=\"resetlink\"><a href=\"#\" id=\"reset_brkr\">Reset</a></span><span class=\"err_msg\" id=\"trdnow_err\"></span></div><div class=\"feedback-brkr\"><a href=\"http://feedback.yahoo.com/forums/170310-au-finance?.done=http%3A%2F%2Fau.finance.yahoo.com%2Fq%3Fp%3Dfinance.yahoo.com%26s%3DIBM%26ql%3D1\" target=\"_blank\">Please provide feedback on the new Trade Now function</a></div></div></div></div><div id=\"trdnow_container\"></div></div><style>\\n\\t\\t#yfi_compare_broker_btn{top:7px;}\\n\\t\\t#yfi_compare_broker_btn + #ecn_warning {  margin : -8px 0 20px; border-top:0; padding-top:0px; }\\n\\n\\t</style><div id=\"ecn_warning\" class=\"lalign-0\">Quotes delayed, except where indicated otherwise. Currency in USD.<style>\\n\\t\\t    #yfi_quote_summary_page #ecn_warning {\\n\\t\\t        border:none !important;\\n\\t\\t\\tpadding-left:0 !important;\\n\\t\\t\\tmargin:5px 0 13px !important;\\n\\t\\t    }\\n\\t\\t    </style></div><div id=\"yfi_headlines\" class=\"yfi_quote_headline\"><div class=\"hd\"><h2 class=\"inline\">Headlines</h2></div><div class=\"bd\"><ul><li><a href=\"https://us.rd.yahoo.com/finance/external/noodlsaunz/SIG=128qn29jl/*http://www.publicnow.com/view/7D4A9FDB8583012DF69D436E306BDF27032C2B7D\" data-ylk=\"cp:noodls;o:e;\">Update on WANdisco OEM sales partnership with IBM</a><cite>at noodls<span>(Mon 18:10)</span></cite></li><li><a href=\"https://us.rd.yahoo.com/finance/external/noodlsaunz/SIG=1287ckgqd/*http://www.publicnow.com/view/747931C279A0D1DD66BDE8B00D1F7BED08FB68AF\" data-ylk=\"cp:noodls;o:e;\">Topcon selected to join IBM Watson Health global medical imaging collaborative</a><cite>at noodls<span>(Fri 24 Jun)</span></cite></li><li><a href=\"https://us.rd.yahoo.com/finance/external/noodlsaunz/SIG=128qf1g02/*http://www.publicnow.com/view/4F1B3AB075BEBB9C9C863AB206C6E6295774082D\" data-ylk=\"cp:noodls;o:e;\">IBM Targets Developers with Powerful In-Memory Database in the Cloud</a><cite>at noodls<span>(Fri 24 Jun)</span></cite></li><li><a href=\"https://us.rd.yahoo.com/finance/external/noodlsaunz/SIG=1281ih1ne/*http://www.publicnow.com/view/A6B31E86E1FC4A0B843E4B905F6ACD25D1BC7B08\" data-ylk=\"cp:noodls;o:e;\">Cloudsoft Taps IBM Cloud to Give Clients More Privacy and Control Over Data</a><cite>at noodls<span>(Thu 23 Jun)</span></cite></li><li><a href=\"https://us.rd.yahoo.com/finance/external/noodlsaunz/SIG=128dmh53r/*http://www.publicnow.com/view/4B85C178FAF171F2364D43741F0AF1760587F563\" data-ylk=\"cp:noodls;o:e;\">EuropaCorp Taps IBM Aspera for Fast, Secure Collaboration and Distribution of Major Films</a><cite>at noodls<span>(Thu 23 Jun)</span></cite></li><li><a href=\"https://us.rd.yahoo.com/finance/external/noodlsaunz/SIG=128koiajo/*http://www.publicnow.com/view/078CE9A8A054632EA3B0B787FF46374DE8922E83\" data-ylk=\"cp:noodls;o:e;\">IBM Releases Next Generation of MobileFirst Foundation Designed for the Cloud</a><cite>at noodls<span>(Thu 23 Jun)</span></cite></li><li><a href=\"https://us.rd.yahoo.com/finance/external/noodlsaunz/SIG=128bvsjpu/*http://www.publicnow.com/view/1BFC678693BEA4E7043B7A4149246058B0C9F8DC\" data-ylk=\"cp:noodls;o:e;\">North Star BlueScope Steel Taps IBM Watson and Wearable Devices to Monitor Activity of Workers in Extreme Environments</a><cite>at noodls<span>(Thu 23 Jun)</span></cite></li><li><a href=\"https://us.rd.yahoo.com/finance/external/noodlsaunz/SIG=1281eocjd/*http://www.publicnow.com/view/CDEFEE8EBD7E07020C111BAB68DBC6C393DD9A87\" data-ylk=\"cp:noodls;o:e;\">Mizuho Financial Group and IBM to Test Blockchain Technology for Settlements Using Virtual Currency</a><cite>at noodls<span>(Thu 23 Jun)</span></cite></li><li><a href=\"https://us.rd.yahoo.com/finance/external/noodlsaunz/SIG=128jd2m6k/*http://www.publicnow.com/view/F99C1AF6473CDD48CF5EB1C8D941164B5FF3B5FC\" data-ylk=\"cp:noodls;o:e;\">A Test of the Potential of Blockchain Technology for Use (10:30) (HTML) (PDF/41KB)</a><cite>at noodls<span>(Thu 23 Jun)</span></cite></li><li><a href=\"https://us.rd.yahoo.com/finance/external/noodlsaunz/SIG=128q33231/*http://www.publicnow.com/view/15A9E9CA76601E735E115AAA4611EF8A3D99E959\" data-ylk=\"cp:noodls;o:e;\">Medical Imaging Leaders Tap IBM and Watson to Tackle Cancer, Diabetes, Eye Health, Brain Disease and Heart Disease</a><cite>at noodls<span>(Thu 23 Jun)</span></cite></li></ul></div><div class=\"ft\"><a class=\"view_more\" href=\"/q/h?s=IBM&amp;t=2016-06-27T04:10:02-04:00\">\\n    \\t\\t\\t\\t \\xbb More Headlines for IBM</a></div></div><div id=\"yfi_press_releases\" class=\"yfi_quote_headline\"><div class=\"hd\"><h2>Press Releases</h2></div><div class=\"bd\"><ul><li><a href=\"https://au.finance.yahoo.com/news/scientists-discover-technology-breakthrough-fighting-130100444.html\" data-ylk=\"cp:ACN Newswire;o:i;\">Scientists Discover New Technology Breakthrough in Fighting Viral Diseases</a><cite>ACN Newswire<span>(Wed 11 May)</span></cite></li><li><a href=\"https://au.finance.yahoo.com/news/polaris-office-announces-expanded-services-090000040.html\" data-ylk=\"cp:Business Wire;o:i;\">Polaris Office Announces Expanded Services for Businesses</a><cite>Business Wire<span>(Wed 20 Apr)</span></cite></li><li><a href=\"https://au.finance.yahoo.com/news/box-deliver-breakthrough-international-data-100000441.html\" data-ylk=\"cp:Business Wire;o:i;\">Box to Deliver Breakthrough International Data Storage With Box Zones</a><cite>Business Wire<span>(Tue 12 Apr)</span></cite></li></ul></div><div class=\"ft\"><a class=\"view_more\" href=\"/q/p?s=IBM\">\\n    \\t\\t\\t\\t \\xbb More Press Releases for IBM</a></div></div></div><div class=\"yui-u rr\" style=\"width:300px;float:left;\"><div class=\"yfi_summary_chart\" style=\"float:none;\" id=\"yfi_summary_chart\"><div class=\"chart\"><a href=\"echarts?s=IBM#symbol=IBM;range=1d\"><img src=\"https://chart.finance.yahoo.com/t?s=IBM&amp;lang=en-AU&amp;region=AU&amp;width=300&amp;height=180\" alt=\"International Business Machines Corporation (IBM)\" width=\"300\" height=\"180\"></a><div id=\"display_links\" class=\"display_links\"><ul><li><a href=\"/echarts?s=IBM#symbol=IBM;range=1d\">1d</a></li><li><a href=\"/echarts?s=IBM#symbol=IBM;range=5d\">5d</a></li><li><a href=\"/echarts?s=IBM#symbol=IBM;range=1m\">1m</a></li><li><a href=\"/echarts?s=IBM#symbol=IBM;range=3m\">3m</a></li><li><a href=\"/echarts?s=IBM#symbol=IBM;range=6m\">6m</a></li><li><a href=\"/echarts?s=IBM#symbol=IBM;range=1y\">1y</a></li><li><a href=\"/echarts?s=IBM#symbol=IBM;range=2y\">2y</a></li><li><a href=\"/echarts?s=IBM#symbol=IBM;range=5y\">5y</a></li><li><a href=\"/echarts?s=IBM#symbol=IBM;range=my\">max</a></li><li><a href=\"/echarts?s=IBM#symbol=IBM;range=\"></a></li></ul></div></div></div><div id=\"yfi_ads_lrec\"><!-- SpaceID=0 robot -->\\n</div><span id=\"yfs_ad_\" ></span><span id=\"yfs_ad_\" ></span><div id=\"yfi_comparison\" class=\"yfi_suplimental_datum\"><div class=\"hd\"><h2>Comparison</h2></div><div class=\"bd\"><table><thead><tr><th class=\"name\" scope=\"col\">Symbol</th><th class=\"percent_change\" scope=\"col\">% Chg</th><th scope=\"col\">Mkt Cap</th></tr></thead><tbody><tr><td class=\"name highlight_row\">IBM</td><td class=\"highlight_row\"><span id=\"yfs_pp0_ibm\"><img width=\"10\" height=\"14\" style=\"margin-right:-2px;\" border=\"0\" src=\"https://s.yimg.com/os/mit/media/m/base/images/transparent-1093278.png\" class=\"neg_arrow\" alt=\"Down\"> <b class=\"\\n                yfi-price-change-down\\n            \">5.64%</b></span></td><td class=\"highlight_row\"><span id=\"yfs_j10_ibm\">140.72B</span></td></tr><tr><td class=\"name\"><a href=\"/q?s=MSFT\" title=\"Microsoft Corporation\">MSFT</a></td><td><span id=\"yfs_pp0_msft\"><img width=\"10\" height=\"14\" style=\"margin-right:-2px;\" border=\"0\" src=\"https://s.yimg.com/os/mit/media/m/base/images/transparent-1093278.png\" class=\"neg_arrow\" alt=\"Down\"> <b class=\"\\n                yfi-price-change-down\\n            \">4.01%</b></span></td><td><span id=\"yfs_j10_msft\">391.69B</span></td></tr><tr><td class=\"name\"><a href=\"/q?s=HPQ\" title=\"HP Inc.\">HPQ</a></td><td><span id=\"yfs_pp0_hpq\"><img width=\"10\" height=\"14\" style=\"margin-right:-2px;\" border=\"0\" src=\"https://s.yimg.com/os/mit/media/m/base/images/transparent-1093278.png\" class=\"neg_arrow\" alt=\"Down\"> <b class=\"\\n                yfi-price-change-down\\n            \">5.33%</b></span></td><td><span id=\"yfs_j10_hpq\">20.97B</span></td></tr><tr><td class=\"name\"><a href=\"/q?s=ACN\" title=\"Accenture plc\">ACN</a></td><td><span id=\"yfs_pp0_acn\"><img width=\"10\" height=\"14\" style=\"margin-right:-2px;\" border=\"0\" src=\"https://s.yimg.com/os/mit/media/m/base/images/transparent-1093278.png\" class=\"neg_arrow\" alt=\"Down\"> <b class=\"\\n                yfi-price-change-down\\n            \">6.27%</b></span></td><td><span id=\"yfs_j10_acn\">69.42B</span></td></tr></tbody></table></div><div class=\"ft\"><a href=\"q/co?s=IBM\">&#187; More Competitors</a></div></div><div id=\"yfi_key_stats\" class=\"yfi_suplimental_datum\"><div class=\"hd\"><h2>Key Statistics</h2></div><div class=\"bd\"><table><tr><th scope=\"row\" width=\"50%\">Forward P/E <small>(1 yr)</small>:</th><td class=\"yfnc_tabledata1\">10.39</td></tr><tr><th scope=\"row\" width=\"50%\">P/S <small>(ttm)</small>:</th><td class=\"yfnc_tabledata1\">1.84</td></tr><tr><th scope=\"row\" width=\"50%\">Ex-Dividend Date:</th><td class=\"yfnc_tabledata1\">06-May-16</td></tr></table></div><div class=\"ft\"><a href=\"/q/ks?s=IBM\">&#187; More Key Statistics</a></div></div><div id=\"yfi_analysts\" class=\"yfi_suplimental_datum\"><div class=\"hd\"><h2>Analysts</h2></div><div class=\"bd\"><table><tr><th scope=\"row\" width=\"50%\">Annual EPS Est<small>\\n                      (Dec-16)\\n                    </small>:</th><td class=\"yfnc_tabledata1\">13.51</td></tr><tr><th scope=\"row\" width=\"50%\">Quarterly EPS Est<small>\\n                      (Jun-16)\\n                    </small>:</th><td class=\"yfnc_tabledata1\">2.88</td></tr><tr><th scope=\"row\" width=\"50%\">Mean Recommendation*:</th><td class=\"yfnc_tabledata1\">2.9</td></tr><tr><th scope=\"row\" width=\"50%\">PEG Ratio <small>(5 yr expected)</small>:</th><td class=\"yfnc_tabledata1\">4.09</td></tr></table></div><div class=\"ft\"><p>* (Strong Buy) 1.0 - 5.0 (Sell)</p><a href=\"/q/ao?s=IBM\">Analyst Opinion</a> | \\n                        <a href=\"/q/ae?s=IBM\">Estimates</a></div></div><div id=\"yfi_business_summary\"><div class=\"hd\"><h2>Business Summary</h2></div><div class=\"bd\">International Business Machines Corporation provides information technology (IT) products and services worldwide. The company\\x92s Global Technology Services segment provides IT infrastructure services, such as IT outsourcing, integrated technol... <a href=\"/q/pr?s=IBM\" class=\"view_more\">View More</a></div><div class=\"ft\"><a href=\"/q/pr?s=IBM\">Company Profile</a> | <a href=\"/q/in?s=IBM\">Industry</a></div></div><span id=\"yfs_ad_\" ></span><div id=\"yfi_toolbox\" class=\"yfi_suplimental_datum\"><div class=\"hd\"><h2>Toolbox</h2></div><div class=\"bd\"><ul><li class=\"save\"><a href=\"http://download.finance.yahoo.com/d/quotes.csv?s=IBM&amp;f=sl1d1t1c1ohgv&amp;e=.csv\">Download Data (delayed)</a></li><li class=\"report\"><a href=\"http://yahoo.ar.wilink.com/?ticker=IBM&amp;mkt_code=YAHSUMQTA\">Download Annual Report</a></li><li class=\"mobile\"><a href=\"http://au.mobile.yahoo.com/finance\">Updates on your phone</a></li></ul></div><div class=\"ft\"></div></div><span id=\"yfs_ad_\" ></span><span id=\"yfs_ad_\" ></span></div></div><div class=\"yfi_ad_s\"></div></div>\\n</div>\\n<div id=\"yfi_ticker_container\" class=\"yfi_ticker_container\"><div id=\"yfi_stock_ticker\"><div id=\"yfi_stock_ticker_settings_icon\"></div><div id=\"yfi_stock_ticker_close_icon\"></div><canvas id=\"stock_ticker\" width=\"910\" height=\"21\">Your browser doesn\\'t support canvas</canvas></div><div id=\"yfi_stock_ticker_settings\" class=\"hide yfi_st_settings\"><div class=\"yfi_ticker_hd\"><em class=\"default\">SETTINGS</em></div><div class=\"yfi_ticker_bd\"><form method=\"post\" action=\"#\" id=\"ttpanel\"><input type=\"hidden\" name=\"userSignedIn\" id=\"yfi_user_signed_in\" value=\"1\"><input type=\"hidden\" name=\"ustreaming\" id=\"ustreaming\" value=\"1\"><input type=\"hidden\" name=\"userPreferences\" id=\"yfi_user_preferences\" value=\"0\"><fieldset><legend>Scrolling</legend><input type=\"hidden\" name=\"ttScroll\" id=\"yfi_tt_scroll\" value=\"0\"><input type=\"radio\" name=\"isPaused\" id=\"yfi_ticker_resume\" value=\"0\" checked><label for=\"yfi_ticker_resume\" class=\"first\">On</label><input type=\"radio\" name=\"isPaused\" id=\"yfi_ticker_pause\" value=\"1\"><label for=\"yfi_ticker_pause\" class=\"first\">Off</label></fieldset><fieldset><legend>Speed</legend><input type=\"hidden\" name=\"ttSpeed\" id=\"yfi_tt_speed\" value=\"0\"><input type=\"radio\" name=\"scrollingSpeed\" id=\"yfi_ticker_speed1\" value=\"0\" checked><label for=\"yfi_ticker_speed1\" class=\"first\">Slow</label><input type=\"radio\" name=\"scrollingSpeed\" id=\"yfi_ticker_speed2\" value=\"1\"><label for=\"yfi_ticker_speed2\" class=\"first\">Med</label><input type=\"radio\" name=\"scrollingSpeed\" id=\"yfi_ticker_speed3\" value=\"2\"><label for=\"yfi_ticker_speed3\" class=\"first\">Fast</label></fieldset><fieldset><legend for=\"tickerList\">Display</legend><input type=\"hidden\" name=\"ttDisplay\" id=\"yfi_tt_display\" value=\"0\"><select id=\"tickerList\"><option id=\"yfi_ticker_rq\" selected>My Recent Quotes</option><option id=\"yfi_ticker_ms\">Market Summary</option></select></fieldset><fieldset><legend>Price</legend><input type=\"hidden\" name=\"ttChange\" id=\"yfi_tt_change\" value=\"0\"><input type=\"radio\" name=\"tickerChange\" id=\"yfi_ticker_change1\" value=\"0\" checked><label for=\"yfi_ticker_change1\" class=\"first\">Change</label><input type=\"radio\" name=\"tickerChange\" id=\"yfi_ticker_change2\" value=\"1\"><label for=\"yfi_ticker_change2\" class=\"first\">% Change</label></fieldset><button type=\"submit\" id=\"submitStSettings\">Save</button><a href=\"http://feedback.help.yahoo.com/feedback.php?.src=FINANCE&amp;.from=tickertape&amp;.done=http://au.finance.yahoo.com/q?p=finance.yahoo.com&amp;s=IBM&amp;ql=1\" id=\"tt_submit_feedback\" target=\"_blank\">Submit Feedback</a></form></div></div></div><div id=\"yfi_ft\"><div id=\"y-footer\"><div class=\"footer_copyright\"><div class=\"yfi_doc\"><div class=\"footer_legal\">Copyright &amp;copy; 2010 Yahoo!7 Pty Limited. All rights reserved.</div><div class=\"footer_legal\"></div><div class=\"footer_disclaimer\"><p><strong>Quotes for NYSE, Nasdaq and NYSEAmex are Real-time</strong> and sourced from Nasdaq Last Sale when available. If not available from NLS, quotes will appear delayed from primary listing source.<br /> See also delay times for <a href=\"http://help.yahoo.com/l/au/yahoo7/finance/basics/fitadelay2.html\">other exchanges</a>. All information provided \"as is\" for informational purposes only, not intended for trading purposes or advice. Neither Yahoo!7 nor any of independent providers is liable for any informational errors, incompleteness, or delays, or for any actions taken in reliance on information contained herein. By accessing the Yahoo!7 site, you agree not to redistribute the information found therein.</p><p>Fundamental company data provided by <a href=\"http://www.capitaliq.com\">Capital IQ</a>. Historical chart data and daily updates provided by <a href=\"http://www.csidata.com\">Commodity Systems, Inc. (CSI)</a>. International historical chart data, daily updates, fund summary, fund performance, dividend data and Morningstar Index data provided by <a href=\"http://www.morningstar.com/\">Morningstar, Inc.</a> Real-Time quotes provided by <a href=\"http://batstrading.com\">BATS Exchange</a>. US Financials data provided by <a href=\"http://www.edgar-online.com/\">Edgar Online</a> and all other Financials provided by <a href=\"http://www.capitaliq.com\">Capital IQ</a>. </p></div></div></div></div></div>\\n<div id=\"spaceid\" style=\"display:none;\">1183800007</div><script type=\"text/javascript\">\\n                if(typeof YAHOO == \"undefined\"){YAHOO={};}\\n                if(typeof YAHOO.Finance == \"undefined\"){YAHOO.Finance={};}\\n                if(typeof YAHOO.Finance.SymbolSuggestConfig == \"undefined\"){YAHOO.Finance.SymbolSuggestConfig=[];}\\n\\n                    YAHOO.Finance.SymbolSuggestConfig.push({\\n                        dsServer:\\'https://s.yimg.com/aq/autoc\\',\\n                        dsRegion:\\'AU\\',\\n                        dsLang:\\'en-AU\\',\\n                        dsFooter:\\'<div class=\"moreresults\"><a class=\"[[tickdquote]]\" href=\"https://au.finance.yahoo.com/lookup?s=[[link]]\">Show all results for [[tickdquote]]</a></div><div class=\"tip\"><em>Tip:</em> Use comma (,) to separate multiple quotes. <a href=\"http://help.yahoo.com/l/au/yahoo7/finance/basics/fitaquolookup.html\">Learn more...</a></div>\\',\\n                        acInputId:\\'txtQuotes\\',\\n                        acInputFormId:\\'quote\\',\\n                        acContainerId:\\'quoteContainer\\',\\n                        acModId:\\'mediaquotessearch\\',\\n\\t\\t\\tacInputFocus:\\'0\\'\\n                    });\\n\\t\\t\\t\\t</script><script type=\"text/javascript\" src=\"https://s.yimg.com/ss/rapid-3.38.js\"></script><script type=\"text/javascript\" src=\"https://s.yimg.com/bm/combo?fi/common/p/d/static/js/2.0.356981/2.0.0/mini/yui-min-3.5.1.js&amp;fi/common/p/d/static/js/2.0.356981/yui_2.8.0/build/yuiloader-dom-event/2.0.0/mini/yuiloader-dom-event.js&amp;fi/common/p/d/static/js/2.0.356981/yui_2.8.0/build/container/2.0.0/mini/container.js&amp;fi/common/p/d/static/js/2.0.356981/yui_2.8.0/build/datasource/2.0.0/mini/datasource.js&amp;fi/common/p/d/static/js/2.0.356981/yui_2.8.0/build/autocomplete/2.0.0/mini/autocomplete.js&amp;fi/common/p/d/static/js/2.0.356981/2.0.0/mini/ylc_1.9.js&amp;fi/common/p/d/static/js/2.0.356981/2.0.0/mini/yfi_loader.js&amp;fi/common/p/d/static/js/2.0.356981/2.0.0/mini/yfi_symbol_suggest.js&amp;fi/common/p/d/static/js/2.0.356981/2.0.0/mini/yfi_init_symbol_suggest.js&amp;fi/common/p/d/static/js/2.0.356981/2.0.0/mini/yfi_nav_topnav_init.js&amp;fi/common/p/d/static/js/2.0.356981/2.0.0/mini/yfi_nav_topnav.js&amp;fi/common/p/d/static/js/2.0.356981/2.0.0/mini/yfi_nav_portfolio.js&amp;fi/common/p/d/static/js/2.0.356981/yui_2.8.0/build/get/2.0.0/mini/get.js&amp;fi/common/p/d/static/js/2.0.356981/2.0.0/mini/yfi_lazy_load.js\"></script><script language=\"javascript\">\\n\\tYUI.YUICfg = {\"base\":\"https:\\\\/\\\\/s.yimg.com\\\\/\",\"comboBase\":\"https:\\\\/\\\\/s.yimg.com\\\\/zz\\\\/combo?\",\"combine\":true,\"allowRollup\":true,\"maxURLLength\":\"2000\"}\\n\\tYUI.YUICfg.root = \\'yui:\\'+YUI.version+\\'/build/\\';\\n\\tYUI.applyConfig(YUI.YUICfg); \\n    </script><script type=\"text/javascript\">\\n        ll_js.push({\\n            \\'file\\': \\'https://s.yimg.com/os/mit/media/p/common/nielsen_1.0.60-min-1745861.js\\',\\n            \\'success_callback\\' : function() {\\n                /* START Nielsen Online SiteCensus V6.0 */\\n                /* COPYRIGHT 2009 Nielsen Online */\\n                var pvar = { cid: \"au-yahoo\", content: \"0\", server: \"secure-au\" };\\n                var trac = nol_t(pvar);\\n                trac.record().post();\\n                /* END Nielsen Online SiteCensus V6.0 */\\n            }\\n        });\\n        </script><noscript><div><img src=\"//secure-au.imrworldwide.com/cgi-bin/m?ci=au-yahoo&amp;cg=0&amp;cc=1&amp;ts=noscript\" width=\"1\" height=\"1\" alt=\"\"></div></noscript><script type=\"text/javascript\">\\n         var y7ChartbeatConf = {\\n\\t     startPoint : (new Date()).getTime(),\\n\\t     config : {\\n\\t\\t \"uid\" : 56835,\\n\\t\\t \"domain\" : \"yahoo.com.au\",\\n\\t\\t \"path\" : window.location.pathname,\\n\\t\\t \"useCanonical\": true,\\n\\t\\t \"title\" : document.title,\\n\\t\\t \"sections\" : \"au.finance.yahoo.com,aufinance\",\\n\\t\\t \"authors\" : null\\n\\t     }\\n\\t}\\n\\n        </script><script src=\"https://s.yimg.com/zz/combo?ao/i/mp/js/tracking-widget/tracking-widget.g20140911121250.js\" async=\"async\"></script><span id=\"yfs_params_vcr\" style=\"display:none\">{\"yrb_token\" : \"YFT_MARKET_CLOSED\", \"tt\" : \"1467021637\", \"s\" : \"ibm\", \"k\" : \"a00,a50,b00,b20,b30,b60,c10,c60,c63,c64,c81,c82,c85,c86,g00,g53,h00,h53,j10,l10,l84,l85,l86,l90,o40,o50,p20,p40,p43,p44,t10,t50,t53,t54,v00,v53,z08,z09\", \"o\" : \"acn,hpq,msft,^aord,^axjo,^AORD,CBA.ax,NAB.ax,ANZ.ax,WBC.ax,BHP.ax,TLS.ax,QAN.ax\", \"j\" : \"c10,c63,j10,l10,l84,p20,p43,t10,t53,v00\", \"e\" : \"1\", \"version\" : \"1.0\", \"market\" : {\"NAME\" : \"\", \"ID\" : \"au_market\", \"TZ\" : \"AEST\", \"TZOFFSET\" : \"36000\", \"open\" : \"\", \"close\" : \"\", \"flags\" : {}} , \"market_status_yrb\" : \"YFT_MARKET_CLOSED\" , \"portfolio\" : { \"fd\" : { \"txns\" : [ ]},\"dd\" : \"\",\"pc\" : \"\",\"pcs\" : \"\"}, \"SINGLE_QUOTE_PAGE\" : { \"symbol\" : \"IBM\",\"name\" : \"International Business Machines\"}, \"STREAMER_SERVER\" : \"//streamerapi.finance.yahoo.com\", \"DOC_DOMAIN\" : \"finance.yahoo.com\", \"localize\" : \"0\" , \"throttleInterval\" : \"1000\" , \"arrowAsChangeSign\" : \"true\" , \"up_arrow_icon\" : \"https://s.yimg.com/lq/i/us/fi/03rd/up_g.gif\" , \"down_arrow_icon\" : \"https://s.yimg.com/lq/i/us/fi/03rd/down_r.gif\" , \"up_color\" : \"green\" , \"down_color\" : \"red\" , \"pass_market_id\" : \"0\" , \"mu\" : \"1\" , \"lang\" : \"en-AU\" , \"region\" : \"AU\" , \"ticker_currency_sym\" : \"USD\" }</span><span style=\"display:none\" id=\"yfs_enable_chrome\">1</span><input type=\"hidden\" id=\".yficrumb\" name=\".yficrumb\" value=\"\"><script type=\"text/javascript\">\\n\\t\\t\\t\\tll_js.push({\\n\\t\\t\\t\\t    \\'file\\':\\'bm/lib/fi/common/p/d/static/js/2.0.356981/2.0.0/mini/yfs_concat.js&bm/lib/fi/common/p/d/static/js/2.0.356981/translations/2.0.0/mini/yfs_l10n_en-AU.js\\',\\n\\t\\t\\t\\t    \\'combo\\' : \\'1\\',\\n\\t\\t\\t\\t    \\'success_callback\\' : function() {\\n\\t\\t\\t\\t        YAHOO.Finance.Streaming.init();\\n\\t\\t\\t\\t    }\\n\\t\\t\\t\\t});\\n\\n\\t\\t\\t</script><script type=\"text/javascript\"> \\t \\n\\t\\tif(typeof YAHOO.Finance.TickerTapeConfig == \"undefined\"){YAHOO.Finance.TickerTapeConfig={};}\\n                YAHOO.Finance.TickerTapeConfig={ \"config\" : [\\n                        { \\'mstickers\\': \"^axjo,^AORD,CBA.ax,NAB.ax,ANZ.ax,WBC.ax,BHP.ax,TLS.ax,QAN.ax\",\\n                          \\'mstickersdn\\': \"\\'S&P ASX 200\\',\\'All Ords\\',\\'CommBank\\',\\'NAB\\',\\'ANZ\\',\\'Westpac\\',\\'BHP Billiton\\',\\'Telstra\\',\\'Qantas\\'\"\\n\\t\\t\\t}\\n                ] }\\n                \\n\\n                ll_js.push({\\n                            \\'file\\': \\'bm/lib/fi/common/p/d/static/js/2.0.356981/2.0.0/mini/yfi_ticker.js\\',\\n                            \\'combo\\' : \\'1\\'\\n                });\\n\\t        var appleDevicePattern = new RegExp(\"(iPad|iPhone|iPod)\"); \\t \\n\\t        if ( navigator.userAgent.match( appleDevicePattern ) ) { \\t \\n\\t                 YAHOO.util.Dom.setStyle(\\'yfi_stock_ticker\\',\\'position\\',\\'static\\'); \\t \\n\\t        } else { \\t \\n\\t  \\t\\t// Do nothing \\n\\t        } \\t \\n\\t        </script><script type=\"text/javascript\">\\n\\tif(typeof YAHOO == \"undefined\"){YAHOO={};}\\n\\tif(typeof YAHOO.Finance == \"undefined\"){YAHOO.Finance={};}\\n\\tif(typeof YAHOO.Finance.TradeNowConfig == \"undefined\"){YAHOO.Finance.TradeNowConfig={};}\\n\\tYAHOO.Finance.TradeNowConfig={ \"config\" : [\\n\\t\\n\\t{\\'name\\': \"CommSec\",\\n\\t \\'id\\':\"commsec\",\\n\\t \\'broker_url\\': \"https://bs.serving-sys.com/BurstingPipe/adServer.bs?cn=tf&c=20&mc=click&pli=6683260&PluID=0&ord=%time2%\",\\n\\t \\'button_url\\': \"https://s.yimg.com/ao/a/tradenow_image.jpg\"\\n\\t}\\n\\t\\n\\t],\\n\\t\"custom\": [\\n\\t\\n\\t{\\'name\\': \"Amscot Stock Broking\",\\n\\t\\t\\'id\\':\"amscotbroker\",\\n\\t\\t \\'url\\': \"https://us.rd.yahoo.com/finance/quotes/TradeNow/amscotbroker/SIG=10ubp3nsn/*https%3A//www.amscot.com.au/\"\\n\\t},\\n\\t\\n\\t{\\'name\\': \"BellDirect\",\\n\\t\\t\\'id\\':\"belldirect\",\\n\\t\\t \\'url\\': \"https://us.rd.yahoo.com/finance/quotes/TradeNow/belldirect/SIG=11k8iheqa/*https%3A//www.belldirect.com.au/tradenow/5reasons/\"\\n\\t},\\n\\t\\n\\t{\\'name\\': \"CMC Markets\",\\n\\t\\t\\'id\\':\"cmcmarket\",\\n\\t\\t \\'url\\': \"https://us.rd.yahoo.com/finance/quotes/TradeNow/cmcmarket/SIG=11doc50hf/*http%3A//www.cmcmarkets.com.au/stockbroking\"\\n\\t},\\n\\t\\n\\t{\\'name\\': \"E*Trade Australia\",\\n\\t\\t\\'id\\':\"etradeau\",\\n\\t\\t \\'url\\': \"https://us.rd.yahoo.com/finance/quotes/TradeNow/etradeau/SIG=111noiadq/*https%3A//invest.etrade.com.au/\"\\n\\t},\\n\\t\\n\\t{\\'name\\': \"Interactive Brokers\",\\n\\t\\t\\'id\\':\"interactiveau\",\\n\\t\\t \\'url\\': \"https://us.rd.yahoo.com/finance/quotes/TradeNow/interactiveau/SIG=11hntp822/*http%3A//www.interactivebrokers.com/en/main.php\"\\n\\t},\\n\\t\\n\\t{\\'name\\': \"Options Express\",\\n\\t\\t\\'id\\':\"expressau\",\\n\\t\\t \\'url\\': \"https://us.rd.yahoo.com/finance/quotes/TradeNow/expressau/SIG=11s9j7q7m/*http%3A//www.optionsxpress.com.au/our_products/stocks.aspx\"\\n\\t},\\n\\t\\n\\t{\\'name\\': \"Trader Dealer\",\\n\\t\\t\\'id\\':\"tradedealer\",\\n\\t\\t \\'url\\': \"https://us.rd.yahoo.com/finance/quotes/TradeNow/tradedealer/SIG=1135q1nvi/*http%3A//www.traderdealer.com.au/\"\\n\\t},\\n\\t\\n\\t],\\n\\t\"ywa\":\"10001840545256\",\\n\\t\"txt_selbrkr\": \"Change\",\\n\\t\"txt_nobrkr\": \"Select your broker\"\\n\\t};\\n\\t\\n\\n\\tll_js.push({\\n\\t    \\'file\\': \\'bm/lib/fi/common/p/d/static/js/2.0.356981/yui_2.8.0/build/animation/2.0.0/mini/animation.js&bm/lib/fi/common/p/d/static/js/2.0.356981/2.0.0/mini/yfi_tradenow.js\\',\\n            \\'combo\\' : \\'1\\',\\n            \\'success_callback\\' : function() {\\n                \\n            }\\n    });\\n\\n    \\n\\n    ll_js.push({\\n\\t\\'file\\': \\'https://s.yimg.com/mi/ono/ywa.js\\',\\n\\t\\'success_callback\\' : function(){\\n\\tvar YWATracker = YWA.getTracker(\"10001840545256\");\\n\\tYWATracker.setDocumentName(\"Quotes\");\\n\\tYWATracker.setDocumentGroup(\"Quote\");\\n\\tYWATracker.setCF(7,\"1183800007\");\\n\\tYWATracker.setCF(8,\"au\");\\n\\tYWATracker.setCF(9,\"en-AU\");\\n\\t\\n\\tYWATracker.submit()\\n\\t} \\n    });\\n\\n    </script><script type=\"text/javascript\">\\n\\t\\t// set side nav height\\n\\t\\t(function() {\\n\\t\\t\\tvar nav = YAHOO.util.Dom.get(\"yfi_investing_nav\");\\n\\t\\t\\tif (nav) {\\n\\t\\t\\t\\tvar content = YAHOO.util.Dom.get(\"yfi_investing_content\");\\n\\t\\t\\t\\tif (nav.offsetHeight < content.offsetHeight) {\\n\\t\\t\\t\\t\\tnav.style.height = content.offsetHeight + \"px\";\\n\\t\\t\\t\\t}\\n\\t\\t\\t}\\n\\t\\t}());\\t\\t\\n\\t</script><span id=\"yfs_ad_\" ></span><!--\\n    \\t    Begin : Page level configs for rapid \\n\\t    Configuring modules for a page in one place because having a lot of inline scripts will not be good for performance\\n\\t--><script type=\"text/javascript\">\\n\\t    window.RAPID_ULT ={\\n\\t\\ttracked_mods:{\\n\\t\\t    \\'navigation\\':\\'Navigation\\',\\n\\t\\t    \\'marketindices\\' : \\'Market Indices\\',\\n\\t\\t    \\'yfi_investing_nav\\' : \\'Left nav\\',\\n\\t\\t    \\'yfi_rt_quote_summary\\' : \\'Quote Summary Bar\\',\\n\\t\\t    \\'yfi_related_tickers\\' : \\'Related Tickers\\',\\n\\t\\t    \\'searchQuotes\\':\\'Quote Bar\\',\\n\\t\\t    \\'yfi_summary_chart\\' : \\'Baby chart on QSP\\',\\n\\t\\t    \\'yfi_tradenow\\' : \\'Trade Now\\',\\n\\t\\t    \\'yfi_compare_broker_btn\\' : \\'Compare Broker\\',\\n\\t\\t    \\'yfi_tech_ticker\\' : \\'Exclusives\\',\\n\\t\\t    \\'yfi_headlines\\' : \\'Headlines\\',\\n\\t\\t    \\'yfi_press_releases\\' : \\'Press Releases\\',\\n\\t\\t    \\'yfi_comparison\\' : \\'Comparison\\',\\n\\t\\t    \\'yfi_key_stats\\' : \\'Key Statistics\\',\\n\\t\\t    \\'yfi_analysts\\' : \\'Analysts\\',\\n\\t\\t    \\'yfi_business_summary\\' : \\'Business Summary\\',\\n\\t\\t    \\'yfi_toolbox\\' : \\'Toolbox\\',\\n\\t\\t    \\'yfi_rel_videos\\' : \\'Related Videos\\',\\n\\t\\t    \\'yfi_ft\\' : \\'Footer\\'\\n\\t\\t},\\n\\t\\tpage_params:{\\n\\t\\t    \\'pstcat\\' : \\'Quotes\\',\\n\\t\\t    \\'pt\\' : \\'Quote Leaf Pages\\',\\n\\t\\t    \\'pstth\\' : \\'Quote Summary Page\\'\\n\\t\\t}\\n\\t    }\\n\\t</script><script type=\"text/javascript\">\\n                if(window.RAPID_ULT) {\\n                    var conf = {\\n                        compr_type:\\'deflate\\',\\n                        tracked_mods:window.RAPID_ULT.tracked_mods,\\n                        keys:window.RAPID_ULT.page_params,\\n                        spaceid:1183800007,\\n                        client_only:0,\\n                        webworker_file:\"\\\\/__rapid-worker-1.2.js\",\\n                        nofollow_class:\\'rapid-nf\\',\\n                        test_id:\\'\\',\\n                        ywa: {\\n                            project_id:1000579267015,\\n                            document_group:\"\",\\n                            document_name:\\'IBM\\',\\n                            host:\\'a.analytics.yahoo.com\\'\\n                        }\\n                    };\\n                    YAHOO.i13n.YWA_CF_MAP = {\"tar\":02,\"sec\":01,\"slk\":03};\\n                    YAHOO.i13n.YWA_ACTION_MAP = {\"hswipe\":36,\"nav_clicked\":21,\"secvw\":1};\\n                    YAHOO.i13n.YWA_OUTCOME_MAP = {};\\n                    window.rapidTracker = new YAHOO.i13n.Rapid(conf); //Making rapiTracker a global variable because it might be needed by other module js\\n                }\\n        </script><script>\\n    var aft_beacon_callback = function() {\\n        if (window.LH !== undefined && Math.floor(Math.random()*100) <= 3) {\\n            if (!window.LH.isInitialized) {\\n                window.LH.init(\\n                {\\n                    spaceid:\\'1183800007\\', //your space id goes here\\n                    serverip:\\'\\',\\n                    pvid:\\'\\',\\n                    crumb:\\'\\'\\n                });\\n            }\\n        } \\n        if (window.YAFT !== undefined) {\\n            var show_report = (window.location.href.indexOf(\\'showaft=\\') != -1) ? 1 : 0;\\n            var aft_mods = [],\\n            each_mod = \\'\\';\\n            var mods = window.RAPID_ULT.tracked_mods; //Reusing the module list from rapid\\n            for (each_mod in mods) {\\n                aft_mods.push(each_mod)\\n            }\\n            window.YAFT.init(\\n            {\\n                modules: aft_mods,\\n                modulesExclude: [\\'yfi_ft\\'],\\n                useNativeStartRender: true,\\n                canShowVisualReport: show_report, //make it configurable and 1 for YNET users\\n                maxWaitTime: 5000 // make it configurable\\n            }, function (data, error) {\\n                if (!error) {\\n                    var rapidPerfData = {\\n                        \\'perf_navigationtime\\':2,\\n                        \\'perf_commontime\\': {\\n                            \\'initialPageLoad\\' : {\\n                                \\'AFT\\': Math.round(data.aft),\\n                                \\'AFT1\\': Math.round(data.aft),\\n                                \\'STR\\': Math.round(data.startRender),\\n                                \\'VIC\\': Math.round(data.visuallyComplete),\\n                                \\'DOMC\\': Math.round(data.domElementsCount),\\n                                \\'HTTPC\\': Math.round(data.httpRequests.count),\\n                                \\'CP\\': Math.round(data.totalCoveragePercentage),\\n                                \\'NCP\\': Math.round(data.normTotalCoveragePercentage)\\n                            }\\n                        },\\n                    };\\n                    window.rapidTracker.beaconPerformanceData(rapidPerfData, window.RAPID_ULT.page_params)\\n                    if (window.LH !== undefined && window.LH.isInitialized) {\\n                        //UH might initilized LH or above cases satisfied. Now configure YAFT\\n                        window.LH.tag(\"b\",\\n                        {\\n                            val: \\'\\' //set your bucket id\\n                        });\\n                        window.LH.record(\\'AFT\\', {\\n                            name: \\'AFT\\', type: \\'mark\\', startTime: Math.round(data.aft), duration: 0\\n                        });\\n                        window.LH.record(\\'VIC\\', {\\n                            name: \\'VIC\\', type: \\'mark\\', startTime: Math.round(data.visuallyComplete), duration: 0\\n                        });\\n                        //this is for darla ads\\n                        if ( window.___adLT___ !== undefined && window.___adLT___.length && window.___adLT___.length > 0) {\\n                            for (var __i__ = 0; __i__ < ___adLT___.length; __i__++) {\\n                                window.LH.record(___adLT___[__i__][0], {\\n                                    name: ___adLT___[__i__][0], type: \\'mark\\', startTime: ___adLT___[__i__][1], duration: 0\\n                                });\\n                            }\\n                        }\\n                        //finally fire all LH beacons\\n                        window.LH.beacon( {\\n                            clearMarks:false, clearMeasures: false, clearCustomEntries: true, clearTags: false\\n                        });\\n                    }\\n                }\\n            });\\n        }\\n    }\\n    YAHOO.util.Get.script(\\'https://s.yimg.com/zz/combo?aj/lh-0.9.js&os/yaft/yaft-0.3.6.min.js&os/yaft/yaft-plugin-aftnoad-0.1.3.min.js\\', {\\n        onSuccess: aft_beacon_callback\\n    });\\n</script></body>\\n</html>\\n<!-- xslt1.finance.gq1.yahoo.com uncompressed/chunked Mon Jun 27 10:00:37 UTC 2016 -->\\n<!-- c21.finance.gq1.yahoo.com compressed/chunked Mon Jun 27 20:00:37 EST 2016 -->\\n'"
      ]
     },
     "execution_count": 58,
     "metadata": {},
     "output_type": "execute_result"
    }
   ],
   "source": [
    "# using the url from the webpage, we can get it\n",
    "r = requests.get('http://finance.yahoo.com/q?s=IBM&ql=1')\n",
    "print r.status_code\n",
    "r.text"
   ]
  },
  {
   "cell_type": "code",
   "execution_count": 59,
   "metadata": {
    "collapsed": false
   },
   "outputs": [
    {
     "data": {
      "text/plain": [
       "True"
      ]
     },
     "execution_count": 59,
     "metadata": {},
     "output_type": "execute_result"
    }
   ],
   "source": [
    "'146.59' in r.text"
   ]
  },
  {
   "cell_type": "code",
   "execution_count": 85,
   "metadata": {
    "collapsed": true
   },
   "outputs": [],
   "source": [
    "# parsing the html using BeautifulSoup\n",
    "#xeno_finder = lambda x: 'Xenophon' in x\n",
    "def xeno_finder(x):\n",
    "    if x is None:\n",
    "        return False\n",
    "    else:\n",
    "        return 'Xenophon' in x"
   ]
  },
  {
   "cell_type": "code",
   "execution_count": 12,
   "metadata": {
    "collapsed": true
   },
   "outputs": [],
   "source": [
    "soup = BeautifulSoup(smhHtml, 'lxml')"
   ]
  },
  {
   "cell_type": "code",
   "execution_count": 87,
   "metadata": {
    "collapsed": false
   },
   "outputs": [],
   "source": [
    "#xeno_things = soup.find_all(string = xeno_finder)\n",
    "xeno_things = soup.find_all('a', string = xeno_finder)"
   ]
  },
  {
   "cell_type": "code",
   "execution_count": 90,
   "metadata": {
    "collapsed": false
   },
   "outputs": [
    {
     "data": {
      "text/plain": [
       "[<a href=\"http://www.smh.com.au/federal-politics/political-news/brexit-trump-xenophon-australias-populist-backlash-nowhere-near-britain-and-us-experts-say-20160627-gpt00o.html\" title=\"Is Xenophon Australia's answer to Trump?\">Is Xenophon Australia's answer to Trump?</a>,\n",
       " <a href=\"http://www.smh.com.au/federal-politics/political-news/brexit-trump-xenophon-australias-populist-backlash-nowhere-near-britain-and-us-experts-say-20160627-gpt00o.html\" title=\"Brexit, Trump... Xenophon?&amp;nbsp;\\n\">Brexit, Trump... Xenophon?\\xa0\\n</a>]"
      ]
     },
     "execution_count": 90,
     "metadata": {},
     "output_type": "execute_result"
    }
   ],
   "source": [
    "xeno_things"
   ]
  },
  {
   "cell_type": "code",
   "execution_count": 91,
   "metadata": {
    "collapsed": true
   },
   "outputs": [],
   "source": [
    "first_thing = xeno_things[0]"
   ]
  },
  {
   "cell_type": "code",
   "execution_count": 92,
   "metadata": {
    "collapsed": false
   },
   "outputs": [
    {
     "data": {
      "text/plain": [
       "<a href=\"http://www.smh.com.au/federal-politics/political-news/brexit-trump-xenophon-australias-populist-backlash-nowhere-near-britain-and-us-experts-say-20160627-gpt00o.html\" title=\"Is Xenophon Australia's answer to Trump?\">Is Xenophon Australia's answer to Trump?</a>"
      ]
     },
     "execution_count": 92,
     "metadata": {},
     "output_type": "execute_result"
    }
   ],
   "source": [
    "first_thing"
   ]
  },
  {
   "cell_type": "code",
   "execution_count": 95,
   "metadata": {
    "collapsed": false
   },
   "outputs": [
    {
     "data": {
      "text/plain": [
       "u\"Is Xenophon Australia's answer to Trump?\""
      ]
     },
     "execution_count": 95,
     "metadata": {},
     "output_type": "execute_result"
    }
   ],
   "source": [
    "first_thing.string"
   ]
  },
  {
   "cell_type": "code",
   "execution_count": 99,
   "metadata": {
    "collapsed": false
   },
   "outputs": [
    {
     "data": {
      "text/plain": [
       "[<a class=\"logo\" href=\"http://smh.com.au\" title=\"The Sydney Morning Herald\">The Sydney Morning Herald</a>,\n",
       " <a class=\"sublogo\" href=\"http://www.smhindependentalways.com.au/\" target=\"_blank\" title=\"Independent. Always.\"></a>]"
      ]
     },
     "execution_count": 99,
     "metadata": {},
     "output_type": "execute_result"
    }
   ],
   "source": [
    "soup('h1')[0].find_all('a')"
   ]
  },
  {
   "cell_type": "code",
   "execution_count": 100,
   "metadata": {
    "collapsed": false
   },
   "outputs": [
    {
     "data": {
      "text/plain": [
       "u'The Sydney Morning Herald'"
      ]
     },
     "execution_count": 100,
     "metadata": {},
     "output_type": "execute_result"
    }
   ],
   "source": [
    "soup('h1')[0].find_all('a')[0].string"
   ]
  },
  {
   "cell_type": "code",
   "execution_count": 104,
   "metadata": {
    "collapsed": false
   },
   "outputs": [
    {
     "data": {
      "text/plain": [
       "[u'\\n',\n",
       " <h3>\\n<a href=\"http://www.smh.com.au/federal-politics/political-news/brexit-trump-xenophon-australias-populist-backlash-nowhere-near-britain-and-us-experts-say-20160627-gpt00o.html\" title=\"Is Xenophon Australia's answer to Trump?\">Is Xenophon Australia's answer to Trump?</a></h3>,\n",
       " u'\\n',\n",
       " <a href=\"http://www.smh.com.au/federal-politics/political-news/brexit-trump-xenophon-australias-populist-backlash-nowhere-near-britain-and-us-experts-say-20160627-gpt00o.html\" title=\"Is Xenophon Australia's answer to Trump?\">\\n<img alt=\"Republican presumtive candidate Donald Trump.\" height=\"66\" src=\"/content/dam/images/g/p/s/g/0/7/image.related.thumbnail.100x66.gpt00o.10rdjm.png/1467021360824.jpg\" width=\"100\"/></a>,\n",
       " u'\\n',\n",
       " <div class=\"wof\">\\n<span class=\"author\">\\n<a href=\"http://www.smh.com.au/federal-politics/by/David-Wroe\">David Wroe</a>\\n</span>\\n<time datetime=\"6:07PM\">6:07PM</time>\\n<p>Britain's got Brexit. The United States has Donald Trump and Australia has it's own modest populist backlash.</p>\\n<div class=\"article-meta\">\\n<em class=\"access\">Contains:</em>\\n<span class=\"icon video\" title=\"This article contains a video.\">This article contains a video.</span>\\n</div><!-- class:article-meta --></div>,\n",
       " u' class:wof ',\n",
       " u'\\n']"
      ]
     },
     "execution_count": 104,
     "metadata": {},
     "output_type": "execute_result"
    }
   ],
   "source": [
    "[child for child in first_thing.parent.parent.children]"
   ]
  },
  {
   "cell_type": "code",
   "execution_count": 107,
   "metadata": {
    "collapsed": true
   },
   "outputs": [],
   "source": [
    "# using the pokeapi\n",
    "p = requests.get('http://pokeapi.co/api/v2/move/double-slap')"
   ]
  },
  {
   "cell_type": "code",
   "execution_count": 109,
   "metadata": {
    "collapsed": false
   },
   "outputs": [],
   "source": [
    "double_slap_dict = p.json()"
   ]
  },
  {
   "cell_type": "code",
   "execution_count": 113,
   "metadata": {
    "collapsed": false
   },
   "outputs": [
    {
     "data": {
      "text/plain": [
       "[u'pp',\n",
       " u'effect_chance',\n",
       " u'contest_combos',\n",
       " u'name',\n",
       " u'power',\n",
       " u'effect_entries',\n",
       " u'contest_type',\n",
       " u'stat_changes',\n",
       " u'past_values',\n",
       " u'priority',\n",
       " u'generation',\n",
       " u'damage_class',\n",
       " u'effect_changes',\n",
       " u'meta',\n",
       " u'names',\n",
       " u'super_contest_effect',\n",
       " u'contest_effect',\n",
       " u'accuracy',\n",
       " u'type',\n",
       " u'id',\n",
       " u'target']"
      ]
     },
     "execution_count": 113,
     "metadata": {},
     "output_type": "execute_result"
    }
   ],
   "source": [
    "double_slap_dict.keys()"
   ]
  },
  {
   "cell_type": "code",
   "execution_count": 116,
   "metadata": {
    "collapsed": false
   },
   "outputs": [
    {
     "data": {
      "text/plain": [
       "0"
      ]
     },
     "execution_count": 116,
     "metadata": {},
     "output_type": "execute_result"
    }
   ],
   "source": [
    "double_slap_dict['priority']"
   ]
  },
  {
   "cell_type": "code",
   "execution_count": 118,
   "metadata": {
    "collapsed": true
   },
   "outputs": [],
   "source": [
    "g = requests.get('http://pokeapi.co/api/v2/pokemon/groudon')"
   ]
  },
  {
   "cell_type": "code",
   "execution_count": 121,
   "metadata": {
    "collapsed": false
   },
   "outputs": [],
   "source": [
    "groudon_dict = g.json()"
   ]
  },
  {
   "cell_type": "code",
   "execution_count": 123,
   "metadata": {
    "collapsed": false
   },
   "outputs": [
    {
     "data": {
      "text/plain": [
       "[u'is_default',\n",
       " u'abilities',\n",
       " u'stats',\n",
       " u'name',\n",
       " u'weight',\n",
       " u'held_items',\n",
       " u'location_area_encounters',\n",
       " u'height',\n",
       " u'forms',\n",
       " u'base_experience',\n",
       " u'id',\n",
       " u'game_indices',\n",
       " u'species',\n",
       " u'moves',\n",
       " u'order',\n",
       " u'sprites',\n",
       " u'types']"
      ]
     },
     "execution_count": 123,
     "metadata": {},
     "output_type": "execute_result"
    }
   ],
   "source": [
    "groudon_dict.keys()"
   ]
  },
  {
   "cell_type": "code",
   "execution_count": 126,
   "metadata": {
    "collapsed": false
   },
   "outputs": [
    {
     "data": {
      "text/plain": [
       "9500"
      ]
     },
     "execution_count": 126,
     "metadata": {},
     "output_type": "execute_result"
    }
   ],
   "source": [
    "groudon_dict['weight']"
   ]
  },
  {
   "cell_type": "code",
   "execution_count": null,
   "metadata": {
    "collapsed": true
   },
   "outputs": [],
   "source": []
  }
 ],
 "metadata": {
  "kernelspec": {
   "display_name": "Python 2",
   "language": "python",
   "name": "python2"
  },
  "language_info": {
   "codemirror_mode": {
    "name": "ipython",
    "version": 2
   },
   "file_extension": ".py",
   "mimetype": "text/x-python",
   "name": "python",
   "nbconvert_exporter": "python",
   "pygments_lexer": "ipython2",
   "version": "2.7.12"
  }
 },
 "nbformat": 4,
 "nbformat_minor": 0
}
